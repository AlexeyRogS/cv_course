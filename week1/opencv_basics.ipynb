{
  "cells": [
    {
      "cell_type": "markdown",
      "metadata": {
        "id": "view-in-github",
        "colab_type": "text"
      },
      "source": [
        "<a href=\"https://colab.research.google.com/github/AlexeyRogS/cv_course/blob/main/week1/opencv_basics.ipynb\" target=\"_parent\"><img src=\"https://colab.research.google.com/assets/colab-badge.svg\" alt=\"Open In Colab\"/></a>"
      ]
    },
    {
      "cell_type": "markdown",
      "metadata": {
        "id": "reV8RJSgOhVO"
      },
      "source": [
        "# План занятия:\n",
        "\n",
        "## 1. Вводная часть\n",
        "* Какие задачи решает область компьютеного зрения\n",
        "* Что будем проходить на курсе\n",
        "### 1.1 Что такое изображение\n",
        "* Получение изображения\n",
        "* Цветовые модели и пространства\n",
        "* Форматы изображений\n",
        "### 1.2 Какие задачи решает область компьютеного зрения\n",
        "\n",
        "## 2. Практическая часть\n",
        "### 2.1 Бибилотеки для работы с изображениями в Python:\n",
        "### 2.2 Знакомство с OpenCV\n",
        "* Операции ввода/вывода\n",
        "* Работа с цветовыми пространствами\n",
        "* Базовые операции с изображениями\n",
        "* Рисуем на картинках\n",
        "* Операции с бинарными изображениями\n",
        "\n",
        "### 3. Домашнее заданиe\n",
        "\n",
        "---\n"
      ]
    },
    {
      "cell_type": "markdown",
      "metadata": {
        "id": "X0YIknKTT-Pf"
      },
      "source": [
        "# Какие задачи решает область компьютеного зрения"
      ]
    },
    {
      "cell_type": "markdown",
      "metadata": {
        "id": "rwiwGkY-T-Pf"
      },
      "source": [
        "<img src=\"https://i.ibb.co/yQJ0tQB/cv.png\" height=\"400\" width=\"800\">"
      ]
    },
    {
      "cell_type": "markdown",
      "metadata": {
        "id": "jKayGh1yT-Pg"
      },
      "source": [
        "# Что будем проходить\n",
        "* Общие принципы работы с изображениями\n",
        "* Классические алгоритмы компьтерного зрения (в общих чертах)\n",
        "* Глубокое обучение на PyTorch\n",
        "* Сверточные нейронные сети\n",
        "* Классификация, детекция, генерация изображений"
      ]
    },
    {
      "cell_type": "markdown",
      "metadata": {
        "id": "tY1tIZGiT-Pg"
      },
      "source": [
        "# 1.1 Что такое изображение"
      ]
    },
    {
      "cell_type": "markdown",
      "metadata": {
        "id": "MzBD34D0T-Pg"
      },
      "source": [
        "### Что мы понимаем под изображением?"
      ]
    },
    {
      "cell_type": "markdown",
      "metadata": {
        "id": "p_QDgAtHT-Ph"
      },
      "source": [
        "* Отображение из 3D в 2D.\n",
        "* Передача цвета объектов."
      ]
    },
    {
      "cell_type": "markdown",
      "metadata": {
        "id": "XtZZvCKuT-Ph"
      },
      "source": [
        "Как получить изображение?"
      ]
    },
    {
      "cell_type": "markdown",
      "metadata": {
        "id": "aArW9XBzT-Pi"
      },
      "source": [
        "<img src=\"https://i.ibb.co/3yzGPzY/pinhole-1.png\" height=\"400\" width=\"800\">"
      ]
    },
    {
      "cell_type": "markdown",
      "metadata": {
        "id": "4SQsc2dCT-Pi"
      },
      "source": [
        "### Pinhole camera model"
      ]
    },
    {
      "cell_type": "markdown",
      "metadata": {
        "id": "0vvK1RJKT-Pi"
      },
      "source": [
        "<img src=\"https://i.ibb.co/3rMZp2g/pinhole-2.png\" width=\"800\" height=\"400\">"
      ]
    },
    {
      "cell_type": "markdown",
      "metadata": {
        "id": "vNMSd9Z7T-Pi"
      },
      "source": [
        "### Camera obscura"
      ]
    },
    {
      "cell_type": "markdown",
      "metadata": {
        "id": "3oA5UbPLT-Pj"
      },
      "source": [
        "<img src=\"https://i.ibb.co/6J1NxFB/camera-obscura.jpg\" height=\"400\" width=\"700\">"
      ]
    },
    {
      "cell_type": "markdown",
      "metadata": {
        "id": "z4gJQXwlT-Pj"
      },
      "source": [
        "### Использование линзы"
      ]
    },
    {
      "cell_type": "markdown",
      "metadata": {
        "id": "xCv6bSCPT-Pj"
      },
      "source": [
        "<img src=\"https://i.ibb.co/ySHswFv/lense.png\" height=\"400\" width=\"800\">"
      ]
    },
    {
      "cell_type": "markdown",
      "metadata": {
        "id": "55aSfhlkT-Pj"
      },
      "source": [
        "### Литература:\n",
        "* [камера обскура](https://ru.wikipedia.org/wiki/%D0%9A%D0%B0%D0%BC%D0%B5%D1%80%D0%B0-%D0%BE%D0%B1%D1%81%D0%BA%D1%83%D1%80%D0%B0)\n",
        "* [CS231A Course Notes 1: Camera Models](https://web.stanford.edu/class/cs231a/course_notes/01-camera-models.pdf)"
      ]
    },
    {
      "cell_type": "markdown",
      "metadata": {
        "id": "o2yndzpyZESF"
      },
      "source": [
        "## Цифровое изображение:\n",
        "\n",
        "Цифровое изображение является функцией f(x, y), где\n",
        "\n",
        "    Для черно-белых изображений f(x, y) = яркость в пикселе [x, y]\n",
        "    Для цветных изображений (RGB) f(x, y) = [red(x, y), blue(x, y), green(x, y)]\n",
        "\n",
        "Если задать значения для функции f(x, y) в каждой точке, то мы получим двумерную или трехмерную матрицу с числами.\n",
        "<br> Обычно это числа от 0 до 255.\n",
        "<br> Но зачастую диапазоны могут быть и другими. Например, очень часто используются изображения-маски, где в каждом элементе матрицы может быть либо 0, либо 1."
      ]
    },
    {
      "cell_type": "markdown",
      "metadata": {
        "id": "2oH35ZaobPBr"
      },
      "source": [
        "<img src=\"https://i.ibb.co/v3DwDj4/lena1.png\" height=\"400\" width=\"500\">"
      ]
    },
    {
      "cell_type": "markdown",
      "metadata": {
        "id": "fvXe54vXbX4E"
      },
      "source": [
        "\n",
        "<img src=\"https://i.ibb.co/Xz5JMJ0/lena2.png\" height=\"500\" width=\"700\">"
      ]
    },
    {
      "cell_type": "markdown",
      "metadata": {
        "id": "7Q5C8GQncr4p"
      },
      "source": [
        "Начало координат всегда находится в левом верхнем углу. Ось `X` отвечает за ширину изображения. Ось `Y` отвечает за высоту."
      ]
    },
    {
      "cell_type": "markdown",
      "metadata": {
        "id": "qiNeeb9tbhAz"
      },
      "source": [
        "<img src=\"https://i.ibb.co/72SxM8K/lena3.png\" height=\"350\" width=\"400\">"
      ]
    },
    {
      "cell_type": "markdown",
      "metadata": {
        "id": "eX0KUCoGZY14"
      },
      "source": [
        "**PS**: все числа на изображениях вверху реальные, можете проверить :) Для этого необходимо вывести значение пикселей изображения с в следующих диапазонах по ширине с 255 по 259 включительно, по высоте аналогично."
      ]
    },
    {
      "cell_type": "markdown",
      "metadata": {
        "id": "a7X8eGcmT-P0"
      },
      "source": [
        "## Свет и цвет\n",
        "\n",
        "* Свет - электромагнитное излучение\n",
        "* Цвет - субъективное восприятие света"
      ]
    },
    {
      "cell_type": "markdown",
      "metadata": {
        "id": "P1hTkeDFT-P0"
      },
      "source": [
        "<img src=\"https://i.ibb.co/b68CQ6p/color-prism.jpg\" height=\"250\" width=\"700\">"
      ]
    },
    {
      "cell_type": "markdown",
      "metadata": {
        "id": "hpGbp0K6T-P0"
      },
      "source": [
        "В наших глазах есть два типа рецепторов, это палочки и колбочки. <br>\n",
        "* Палочки отвечают за монохромное восприятие цветов при низкой освещенности.\n",
        "* Колбочки в свою очередь отвечают за восприятие цветов.\n",
        "\n",
        "В нашем глазу примерно 6—7 миллионов колбочек. <br>\n",
        "Примерно 65% из них воспринимают красный свет, 33 % - зеленый свет, и только 2% - синий цвет. <br>\n",
        "Как вы уже догадались, именно поэтому в качестве основных цветов выбраны красный, зеленый и синий. <br>\n",
        "\n",
        "При этом в дневное время человеческий глаз наиболее чувствителен к свету\n",
        "длины волны 555нм (зеленый цвет). Это важный факт, на его основе подобраны\n",
        "коэффициенты для преобразования цветных изображений в [черно-белые](https://en.wikipedia.org/wiki/Grayscale) и создан\n",
        "фильтр [байра](https://en.wikipedia.org/wiki/Bayer_filter)."
      ]
    },
    {
      "cell_type": "markdown",
      "metadata": {
        "id": "AbxGO6wcT-P0"
      },
      "source": [
        "## Цветовые модели и пространства\n",
        "\n",
        "**Цветовая модель** — это математическая модель описания представления цветов в виде кортежей чисел (обычно 1, 3 или 4), называемых цветовыми компонентами или цветовыми координатами.\n",
        "\n",
        "**Цветовое пространство** — все возможные значения цветов, задаваемые моделью.\n",
        "\n",
        "Существует множество различных цветовых моделей: [RGB](https://ru.wikipedia.org/wiki/RGB), [CMYK](https://ru.wikipedia.org/wiki/CMYK), [XYZ](https://ru.wikipedia.org/wiki/%D0%A6%D0%B2%D0%B5%D1%82%D0%BE%D0%B2%D0%B0%D1%8F_%D0%BC%D0%BE%D0%B4%D0%B5%D0%BB%D1%8C#%D0%A6%D0%B2%D0%B5%D1%82%D0%BE%D0%B2%D0%BE%D0%B5_%D0%BF%D1%80%D0%BE%D1%81%D1%82%D1%80%D0%B0%D0%BD%D1%81%D1%82%D0%B2%D0%BE_CIE_XYZ), [HSV](https://ru.wikipedia.org/wiki/HSV_(%D1%86%D0%B2%D0%B5%D1%82%D0%BE%D0%B2%D0%B0%D1%8F_%D0%BC%D0%BE%D0%B4%D0%B5%D0%BB%D1%8C)), [HSL](https://ru.wikipedia.org/wiki/HSL), [YCbCr](https://ru.wikipedia.org/wiki/YCbCr) и т.д. В данном уроке мы не будем охватывать все их.\n",
        "\n",
        "\n"
      ]
    },
    {
      "cell_type": "markdown",
      "metadata": {
        "id": "b20PetXmT-P0"
      },
      "source": [
        "### XYZ\n",
        "Модель XYZ является мастер-моделью практически всех остальных цветовых моделей, используемых в технических областях.\n",
        "Отличное описание данной модели есть на Хабре в данной [статье](https://habr.com/ru/post/209738/) или на медиуме в следующей [статье](https://medium.com/hipster-color-science/a-beginners-guide-to-colorimetry-401f1830b65a). Здесь мы пробежимся только по основным моментам. Также рекомендую [это](https://www.youtube.com/watch?v=82ItpxqPP4I&t=400s&ab_channel=CraigBlackwell) видео."
      ]
    },
    {
      "cell_type": "markdown",
      "source": [
        "<img src=https://www.researchgate.net/publication/306264840/figure/fig5/AS:614364306497538@1523487273429/The-setup-of-a-colour-matching-experiment.png/>"
      ],
      "metadata": {
        "id": "e0_oPPCPpeGc"
      }
    },
    {
      "cell_type": "markdown",
      "source": [
        "[Источник](https://arxiv.org/pdf/2004.03402.pdf)\n",
        "\n",
        "<img src=https://ars.els-cdn.com/content/image/3-s2.0-B9780128149768000117-f11-02-9780128149768.jpg>"
      ],
      "metadata": {
        "id": "ZGXlGlDhwyls"
      }
    },
    {
      "cell_type": "markdown",
      "metadata": {
        "id": "zOBtx05aT-P0"
      },
      "source": [
        "<img src=\"https://i.ibb.co/FKvN9c2/chromaticity-diagram.png\" width=\"500\" height=\"500\">"
      ]
    },
    {
      "cell_type": "markdown",
      "metadata": {
        "id": "vfaOH7IJT-P0"
      },
      "source": [
        "### RGB\n",
        "Одна из самых распространенных цветовых моделей, которая используется в компьютерном зрении. RGB является аддитивной модель. То есть цвета получаются путём добавления к чёрному цвету."
      ]
    },
    {
      "cell_type": "markdown",
      "metadata": {
        "id": "2S_OBENpPKcK"
      },
      "source": [
        "<img src=\"https://i.ibb.co/WtZJH7g/rgb.png\" height=\"200\" width=\"200\">"
      ]
    },
    {
      "cell_type": "markdown",
      "metadata": {
        "id": "rlW-wU7cT-P1"
      },
      "source": [
        "### HSV\n",
        "**Hue** — цветовой тон, (например, красный, зелёный или сине-голубой).\n",
        "\n",
        "**Saturation** — насыщенность. Чем больше этот параметр, тем «чище» цвет.\n",
        "\n",
        "**Value** (значение цвета) или яркость.\n",
        "\n",
        "\n",
        "В отличие от RGB цветовая модель HSV отображают информацию о цвете в более привычной человеку форме: Что это за цвет? Насколько он насыщенный? Насколько он светлый или тёмный?"
      ]
    },
    {
      "cell_type": "markdown",
      "metadata": {
        "id": "fatoBdn0T-P1"
      },
      "source": [
        "Наиболее просто визуализировать пространство HSV в трехмерном пространстве — цилинрдрическая система координат, где:\n",
        "\n",
        "**Hue**  определяется полярным углом\n",
        "\n",
        "**Saturation** — радиус-вектором\n",
        "\n",
        "**Value** — Z-координатой"
      ]
    },
    {
      "cell_type": "markdown",
      "metadata": {
        "id": "Jt4AuysaYaVk"
      },
      "source": [
        "<img src=\"https://i.ibb.co/c39SBmW/hsv.png\" height=\"250\" width=\"400\">"
      ]
    },
    {
      "cell_type": "markdown",
      "metadata": {
        "id": "OGVpFQe-T-P-"
      },
      "source": [
        "Ниже приведена визуализация преобразования **RGB -> HSV -> RGB.**"
      ]
    },
    {
      "cell_type": "code",
      "execution_count": null,
      "metadata": {
        "id": "MmHPf-X1T-P-"
      },
      "outputs": [],
      "source": [
        "from IPython.display import HTML\n",
        "\n",
        "HTML(\"\"\"\n",
        "    <video alt=\"test\" controls>\n",
        "        <source src=\"https://upload.wikimedia.org/wikipedia/commons/transcoded/5/59/RGB_2_HSV_conversion_with_grid.ogg/RGB_2_HSV_conversion_with_grid.ogg.480p.vp9.webm\" type=\"video/webm\">\n",
        "    </video>\n",
        "\"\"\")"
      ]
    },
    {
      "cell_type": "markdown",
      "metadata": {
        "id": "skl8U2ZQT-QB"
      },
      "source": [
        "## Форматы изображений"
      ]
    },
    {
      "cell_type": "markdown",
      "metadata": {
        "id": "hXJ-nTuDT-QB"
      },
      "source": [
        "### Растровое изображение"
      ]
    },
    {
      "cell_type": "markdown",
      "metadata": {
        "id": "dzxAqH6mT-QB"
      },
      "source": [
        "<img src=\"https://i.ibb.co/TmsTkjC/raster.png\" height=\"300\" width=\"600\">"
      ]
    },
    {
      "cell_type": "markdown",
      "metadata": {
        "id": "dQCnp5pcT-QB"
      },
      "source": [
        "Растровое изображение состоит из пикселей (из матрицы чисел) <br>\n",
        "Типичные форматы:\n",
        "* [JPEG](https://www.adobe.com/creativecloud/file-types/image/raster/jpeg-file.html)\n",
        "* [GIF](https://www.adobe.com/creativecloud/file-types/image/raster/gif-file.html)\n",
        "* [PNG](https://www.adobe.com/creativecloud/file-types/image/raster/png-file.html)\n",
        "* [BMP](https://www.adobe.com/creativecloud/file-types/image/raster/bmp-file.html)\n",
        "* [TIFF](https://www.adobe.com/creativecloud/file-types/image/raster/tiff-file.html)\n",
        "<br>"
      ]
    },
    {
      "cell_type": "markdown",
      "metadata": {
        "id": "Nnaymy6-T-QH"
      },
      "source": [
        "Камеры и фотоаппараты работают с растровыми изображениями, большинство цифровых изображений - растровые. <br>\n",
        "<br>\n",
        "Основные достоинства: <br>\n",
        "* совместимость форматов\n",
        "* гибкие при обработке (возможность редактировать отдельные пиксели).\n",
        "<br>\n",
        "\n",
        "Основные недостатки:\n",
        "* снижение качества при увеличении\n",
        "* рост размера при увеличении разрешения"
      ]
    },
    {
      "cell_type": "markdown",
      "metadata": {
        "id": "pLklOuTvT-QH"
      },
      "source": [
        "### Векторное изображение"
      ]
    },
    {
      "cell_type": "markdown",
      "metadata": {
        "id": "Tw2nR3nBT-QH"
      },
      "source": [
        "<img src=\"https://i.ibb.co/rmJD8F3/vector.png\" height=\"300\" width=\"600\">"
      ]
    },
    {
      "cell_type": "markdown",
      "metadata": {
        "id": "6s5peYBkT-QH"
      },
      "source": [
        "Векторное изображение состоит описания примитивов (математические формулы для кривых, заливки и цветов) <br>\n",
        "Типичные форматы:\n",
        "* [SVG](https://www.adobe.com/creativecloud/file-types/image/vector/svg-file.html)\n",
        "* [EPS](https://www.adobe.com/creativecloud/file-types/image/vector/eps-file.html)\n",
        "* [PDF](https://en.wikipedia.org/wiki/PDF)\n",
        "* [AI](https://www.adobe.com/creativecloud/file-types/image/vector/ai-file.html)\n",
        "* [DXF](https://www.adobe.com/creativecloud/file-types/image/vector/dxf-file.html)"
      ]
    },
    {
      "cell_type": "markdown",
      "metadata": {
        "id": "n2-DsEexT-QH"
      },
      "source": [
        "Векторные изображения применяются преимущественно в цифровых иллюстрациях, типографии, логотипах. <br>\n",
        " <br>\n",
        "Основные достоинства: <br>\n",
        "* сохраненние разрешения при масштабировании\n",
        "* сохранение размера при масштабировании\n",
        "<br>\n",
        "\n",
        "Основные недостатки: <br>\n",
        "* Проблемы с совместимостью форматов\n",
        "* Меньшая гибкость в форматировании\n"
      ]
    },
    {
      "cell_type": "markdown",
      "metadata": {
        "id": "eQjS_hDNT-QH"
      },
      "source": [
        "## Вопросы:\n",
        "* В чем преимущество объектива с линзой по сравнению с простым отверстием?\n",
        "* Чем отличается цвет и свет?\n",
        "* Можно ли перевести растровое изображение в векторное и наоборот?\n",
        "* Какая из задач компьютерного зрения показалась вам наиболее интересной?"
      ]
    },
    {
      "cell_type": "markdown",
      "metadata": {
        "id": "7LgbsiDfT-QI"
      },
      "source": [
        "---"
      ]
    },
    {
      "cell_type": "markdown",
      "metadata": {
        "id": "8yOoMt7iT-QI"
      },
      "source": [
        "# 2 Практическая часть"
      ]
    },
    {
      "cell_type": "markdown",
      "metadata": {
        "id": "yy12aeuDT-QI"
      },
      "source": [
        "## 2.1 Бибилотеки для работы с изображениями в Python\n"
      ]
    },
    {
      "cell_type": "markdown",
      "metadata": {
        "id": "geENkqJ9T-QI"
      },
      "source": [
        "* [OpenCV](https://docs.opencv.org/4.x/index.html)\n",
        "* [scikit-image](https://scikit-image.org/)\n",
        "* [Pillow](https://pillow.readthedocs.io/en/stable/)"
      ]
    },
    {
      "cell_type": "markdown",
      "metadata": {
        "id": "CtfIkvLlT-QI"
      },
      "source": [
        "## 2.2 Знакомство с OpenCV\n",
        "OpenCV это open source библиотека компьютерного зрения, которая предназначена для анализа и обработки изображений. С данный библиотекой можно работать в языках C, C++, Python и Java. Мы же с вами сосредоточимся только на Python.\n"
      ]
    },
    {
      "cell_type": "markdown",
      "metadata": {
        "id": "9ixmt_xJT-QI"
      },
      "source": [
        "# Установка opencv\n",
        "\n",
        "Чтобы установить библиотеку opencv, как и большинство друих библиотек, в python можно воспользоваться командой pip или pip3:\n",
        "\n",
        "```bash\n",
        "pip3 install opencv-python\n",
        "```\n",
        "\n",
        "По умолчанию будет скачена наиболее актуальная стабильная версия библиотеки. Доступные версии можно посмотреть на [PyPI](https://pypi.org/project/opencv-python/) либо если не терпится установить самую свежую версию или необходимо собрать под конкретную платформу, то следует воспользоваться следующим [репозиторием](https://github.com/opencv/opencv-python).\n",
        "\n",
        "\n",
        "Существует расширенная библиотека `OpenCV`, называемая `opencv-contrib` (ссылка на [PyPI](https://pypi.org/project/opencv-contrib-python/)). В python также устанавливается через pip:\n",
        "\n",
        "```bash\n",
        "pip3 install opencv-contrib-python\n",
        "```\n",
        "\n",
        "\n",
        "### Установим зависимости, необходимые для урока\n",
        "Для того, чтобы вызвать команды bash прямо из ноутбука, то просто поставьте перед ними символ `!` и запустите ячейку. Ячейка ниже нужна для того, чтобы запустить установку необходимых пакетов для урока. Если данные зависимости у вас уже установлены, то просто игнорируйте ее.\n"
      ]
    },
    {
      "cell_type": "code",
      "execution_count": null,
      "metadata": {
        "id": "I0FMOQN8T-QJ"
      },
      "outputs": [],
      "source": [
        "!pip install opencv-python matplotlib numpy"
      ]
    },
    {
      "cell_type": "markdown",
      "metadata": {
        "id": "qkTwO97AT-QJ"
      },
      "source": [
        "Строчки ниже нужны для того, чтобы у нас корректно работали виджеты."
      ]
    },
    {
      "cell_type": "code",
      "execution_count": null,
      "metadata": {
        "id": "__u3PlEOT-QJ"
      },
      "outputs": [],
      "source": [
        "!jupyter nbextension enable --py --sys-prefix widgetsnbextension"
      ]
    },
    {
      "cell_type": "code",
      "source": [
        "!pip install ipympl"
      ],
      "metadata": {
        "id": "-TJladI5fE5_"
      },
      "execution_count": null,
      "outputs": []
    },
    {
      "cell_type": "code",
      "source": [
        "from google.colab import output\n",
        "output.enable_custom_widget_manager()"
      ],
      "metadata": {
        "id": "akHbEPxbfZd5"
      },
      "execution_count": null,
      "outputs": []
    },
    {
      "cell_type": "markdown",
      "metadata": {
        "id": "KzUJI_DSOhVe"
      },
      "source": [
        "## Начало работы\n",
        "\n",
        "Заимпортируем необходимые модули:"
      ]
    },
    {
      "cell_type": "code",
      "execution_count": null,
      "metadata": {
        "id": "dmF297NdOhVf"
      },
      "outputs": [],
      "source": [
        "# Это для реальной работы\n",
        "import cv2\n",
        "import numpy as np\n",
        "\n",
        "# Это для визуализаций\n",
        "import ipywidgets as widgets\n",
        "from IPython.display import display, HTML\n",
        "from matplotlib import pyplot as plt"
      ]
    },
    {
      "cell_type": "markdown",
      "metadata": {
        "id": "jMATzdBxZHPW"
      },
      "source": [
        "Зачастую (почти всегда) очень важно знать версию пакета, который используется в проекте. Нам тут не очень интересно, какой версии у нас установлен matplotlib, но очень важно, какая версия у opencv."
      ]
    },
    {
      "cell_type": "code",
      "execution_count": null,
      "metadata": {
        "id": "JEfz_SixZawA"
      },
      "outputs": [],
      "source": [
        "print(cv2.__version__)"
      ]
    },
    {
      "cell_type": "markdown",
      "metadata": {
        "id": "8Ey86zQGOhVg"
      },
      "source": [
        "Для начала стоит познакомиться с базовыми операциями ввода/вывода. Скачаем какое-нибудь изображение. <br>\n",
        "\n",
        "Ниже мы воспользуемся командами [mkdir](https://ru.wikipedia.org/wiki/Mkdir) для создания директории и [wget](https://www.gnu.org/software/wget/manual/wget.html) для скачивания изображения. <br>\n",
        "Если вы не знаете, что делает та или иная команда, то можно воспользоваться\n",
        "командой `<имя команды> --help`. Это позволит вам отобразить документацию прямо в консоли, но она не всегда очень понятная и возможна необходимость гуглить.\n",
        "\n",
        "\n"
      ]
    },
    {
      "cell_type": "code",
      "execution_count": null,
      "metadata": {
        "id": "2QJf32eBOhVh"
      },
      "outputs": [],
      "source": [
        "!mkdir -p input_files & wget \"https://upload.wikimedia.org/wikipedia/en/7/7d/Lenna_%28test_image%29.png\" -q -O ./input_files/lenna.png"
      ]
    },
    {
      "cell_type": "markdown",
      "metadata": {
        "id": "_kq3-araOhVi"
      },
      "source": [
        "Opencv позволяет нам делать базовые i/o манипуляции. Но помимо загрузки картинки и сохранения, opencv также позволяет сохранить картинку в различных форматах. ([Список поддерживаемых форматов](https://docs.opencv.org/4.x/d4/da8/group__imgcodecs.html#ga288b8b3da0892bd651fce07b3bbd3a56) достаточно широк). <br>\n",
        "Мы с вами скачали изображение [Лены](https://ru.wikipedia.org/wiki/%D0%9B%D0%B5%D0%BD%D0%B0_(%D0%B8%D0%B7%D0%BE%D0%B1%D1%80%D0%B0%D0%B6%D0%B5%D0%BD%D0%B8%D0%B5)) в форматие `png`. Давайте попробуем открыть ее и посмотреть на то, что у нас получилось и сохранить, но уже в другом формате:"
      ]
    },
    {
      "cell_type": "code",
      "execution_count": null,
      "metadata": {
        "id": "X6lFI2dpOhVk"
      },
      "outputs": [],
      "source": [
        "image = cv2.imread('./input_files/lenna.png')\n",
        "print(type(image), image.shape)"
      ]
    },
    {
      "cell_type": "code",
      "source": [
        "cv2.imwrite('./output_files/lenna.jpg', image)"
      ],
      "metadata": {
        "id": "T25YjH37sfRE"
      },
      "execution_count": null,
      "outputs": []
    },
    {
      "cell_type": "markdown",
      "source": [
        "Обратите внимание, что ничего не произошло, но при этом метод `imwrite` вернул значение `False`. Для сохранения картинки нам необходимо, чтобы директория существовала. Создадим ее и попробуем снова:"
      ],
      "metadata": {
        "id": "hToir3kTsmgE"
      }
    },
    {
      "cell_type": "code",
      "source": [
        "!mkdir -p output_files\n",
        "cv2.imwrite('./output_files/lenna.jpg', image)"
      ],
      "metadata": {
        "id": "tTzsB3b1sBN2"
      },
      "execution_count": null,
      "outputs": []
    },
    {
      "cell_type": "markdown",
      "source": [
        "Продемонстрируем как рисовать изображения в скрипте"
      ],
      "metadata": {
        "id": "nzzqr9e7ueWp"
      }
    },
    {
      "cell_type": "code",
      "execution_count": null,
      "metadata": {
        "id": "D1-W8ZN6OhVl"
      },
      "outputs": [],
      "source": [
        "plt.figure(figsize=(4, 4))\n",
        "plt.axis('off')\n",
        "plt.imshow(image);"
      ]
    },
    {
      "cell_type": "markdown",
      "metadata": {
        "id": "l1TEXCT4xLdm"
      },
      "source": [
        "Существует также функция `cv2.imshow()` для отрисовки изображений, но она крашит ноутбуки, поэтому в колабе она отключена. При этом ее часто используют в .py скриптах. Обычно, когда пользователю показывается картинка, то выполнение программы временно приостанавливается, ожидая реакции от пользователя. Такого поведения можно добиться с помощью cv2.waitKey(0). Смотрите пример ниже\n",
        "\n",
        "```python\n",
        "import cv2\n",
        "PATH_TO_IMAGE = ... # задайте путь к картинке\n",
        "image = cv2.imread(PATH_TO_IMAGE) # Считали картинку в формате BGR\n",
        "cv2.imshow('Some text for your window', image) # Отрисовали в окошке. Учтите, что будет отрисовано нормально!\n",
        "cv2.waitKey(0) # подождали, пока не нажмете любую клавишу, но остерегайтесь русской раскладки.\n",
        "cv2.destroyAllWindows() # Закрыли все окна\n",
        "```"
      ]
    },
    {
      "cell_type": "markdown",
      "metadata": {
        "id": "MBGXxjMlT-Qf"
      },
      "source": [
        "#### Почему Лена в ноутбуке синяя, а на исходной картинке и на сохраненной нормальная? <br>"
      ]
    },
    {
      "cell_type": "markdown",
      "metadata": {
        "id": "t0qJXmYAOhVn"
      },
      "source": [
        "\n",
        "Все дело в том, что opencv по умолчанию использует BGR формат. Почему так? Вопрос хороший, и в документации на него нет ответа, но есть ответ [здесь](https://learnopencv.com/why-does-opencv-use-bgr-color-format/). Что же нам с этим делать? Ведь всем нам интуитивно удобнее работать с RGB форматом. Тут есть сразу несколько опций. Во-первых, нам ничего не мешает после загрузки изображения просто поменять каналы местами. <br>\n",
        "Выше было видно, что загруженная картинка является numpy.ndarray, поэтому с ней можно производить любые стандартные операции! <br>\n",
        "Это бывает очень удобно в некоторых ситуациях. Но также OpenCV предоставляет функцию [cvtColor](https://docs.opencv.org/4.5.3/d8/d01/group__imgproc__color__conversions.html#ga397ae87e1288a81d2363b61574eb8cab) для того, чтобы конвертировать изображение в нужный нам цветовой формат (доступные форматы с объеснениями можно посмотреть [здесь](https://docs.opencv.org/3.4.15/de/d25/imgproc_color_conversions.html) и [здесь](https://docs.opencv.org/3.4.15/d8/d01/group__imgproc__color__conversions.html#ga4e0972be5de079fed4e3a10e24ef5ef0))."
      ]
    },
    {
      "cell_type": "code",
      "execution_count": null,
      "metadata": {
        "id": "j47KolP_OhVp"
      },
      "outputs": [],
      "source": [
        "# Convert image from BGR to RGB\n",
        "image_rgb = cv2.cvtColor(image, cv2.COLOR_BGR2RGB)\n",
        "\n",
        "plt.figure(figsize=(4, 4))\n",
        "plt.axis('off')\n",
        "plt.imshow(image_rgb);"
      ]
    },
    {
      "cell_type": "markdown",
      "metadata": {
        "id": "a6bAIy46ftEj"
      },
      "source": [
        "Если вы не совсем понимаете, что происходит ниже, то рекомендую заглянуть по данной [ссылке](https://scipy-lectures.org/advanced/advanced_numpy/index.html). Впрочем, рекомендую заглянуть, даже если вы все поняли."
      ]
    },
    {
      "cell_type": "code",
      "execution_count": null,
      "metadata": {
        "id": "05Bj1r-iOhVp"
      },
      "outputs": [],
      "source": [
        "# Convert image from BGR to RGB with fancy indexing\n",
        "image_rgb = image[:,:,::-1] # или так: image[:,:,[2, 1, 0]]\n",
        "\n",
        "plt.figure(figsize=(4, 4))\n",
        "plt.axis('off')\n",
        "plt.imshow(image_rgb);"
      ]
    },
    {
      "cell_type": "markdown",
      "metadata": {
        "id": "43z40daGOhVq"
      },
      "source": [
        "Стоит учитывать, что изображения в opencv это просто матрицы без какой-либо метаинформации, так что мы сам должны помнить, в каком формате изображения находятся в данный момент времени."
      ]
    },
    {
      "cell_type": "code",
      "execution_count": null,
      "metadata": {
        "id": "IWVFMLuoepdS"
      },
      "outputs": [],
      "source": [
        "figure, plots = plt.subplots(ncols=3, nrows=1, figsize=(30, 10))\n",
        "for i, subplot in zip(range(3), plots):\n",
        "    temp = np.zeros_like(image_rgb)\n",
        "    temp[:,:,i] = image_rgb[:,:,i]\n",
        "    subplot.imshow(temp)\n",
        "    subplot.set_axis_off()\n",
        "plt.show()"
      ]
    },
    {
      "cell_type": "markdown",
      "metadata": {
        "id": "MBfOFUSKfsro"
      },
      "source": [
        "Но на самом деле компьютер не видит это так, как на рисунке выше. Каждый канал для него всего лишь двумерная матрица. Если уж и показывать, как это выглядит на самом деле, то это будет вот так"
      ]
    },
    {
      "cell_type": "code",
      "execution_count": null,
      "metadata": {
        "id": "o-E0oULnf9fC"
      },
      "outputs": [],
      "source": [
        "figure, plots = plt.subplots(ncols=3, nrows=1, figsize=(30, 10))\n",
        "for i, subplot in zip(range(3), plots):\n",
        "    subplot.imshow(image_rgb[:,:,i], cmap='gray')\n",
        "    subplot.set_axis_off()\n",
        "plt.show()"
      ]
    },
    {
      "cell_type": "markdown",
      "metadata": {
        "id": "7rGMIirH8wo0"
      },
      "source": [
        "# Базовые операции с изображением\n",
        "\n",
        "\n"
      ]
    },
    {
      "cell_type": "markdown",
      "metadata": {
        "id": "Vs9h95XqT-Qh"
      },
      "source": [
        "## Цветовые пространства"
      ]
    },
    {
      "cell_type": "markdown",
      "metadata": {
        "id": "F3J7H6CUT-Qh"
      },
      "source": [
        "Запустив фрагмент кода ниже мы можем интерактивно посмотреть на цвета в пространстве RGB.\n"
      ]
    },
    {
      "cell_type": "code",
      "execution_count": null,
      "metadata": {
        "id": "JRr3nKmnT-Qh"
      },
      "outputs": [],
      "source": [
        "%matplotlib widget\n",
        "from IPython.display import clear_output\n",
        "img = np.zeros((100, 100, 3), dtype=np.uint8)\n",
        "\n",
        "def update_plot(r, g, b):\n",
        "    img[:,:,0] = r\n",
        "    img[:,:,1] = g\n",
        "    img[:,:,2] = b\n",
        "    display(img)\n",
        "    print(f'Red = {r}, Green = {g}, Blue = {b}')\n",
        "\n",
        "r = widgets.IntSlider(min=0, max=255, value=0, description='Red:')\n",
        "g = widgets.IntSlider(min=0, max=255, value=0, description='Green:')\n",
        "b = widgets.IntSlider(min=0, max=255, value=0, description='Blue:')\n",
        "widgets.interactive(update_plot, r=r, g=g, b=b)"
      ]
    },
    {
      "cell_type": "markdown",
      "metadata": {
        "id": "SQHark9oT-Qh"
      },
      "source": [
        "Запустив фрагмент кода ниже мы можем интерактивно посмотреть на цвета в пространстве HSV.\n"
      ]
    },
    {
      "cell_type": "code",
      "execution_count": null,
      "metadata": {
        "id": "LbYZhk24T-Qi"
      },
      "outputs": [],
      "source": [
        "hsv_image = np.zeros((100, 100, 3), dtype=np.uint8)\n",
        "def update_plot(h, s, v):\n",
        "    hsv_image[:,:,0] = h\n",
        "    hsv_image[:,:,1] = s\n",
        "    hsv_image[:,:,2] = v\n",
        "    image = cv2.cvtColor(hsv_image, cv2.COLOR_HSV2RGB)\n",
        "    display(image)\n",
        "    #print(f'Red = {r}, Green = {g}, Blue = {b}')\n",
        "\n",
        "h = widgets.IntSlider(min=0, max=180, value=0, description='Hue:')\n",
        "s = widgets.IntSlider(min=0, max=255, value=0, description='Saturation:')\n",
        "v = widgets.IntSlider(min=0, max=255, value=0, description='Value:')\n",
        "\n",
        "widgets.interactive(update_plot, h=h, s=s, v=v)"
      ]
    },
    {
      "cell_type": "code",
      "execution_count": null,
      "metadata": {
        "id": "_G4cNaRcT-Qi"
      },
      "outputs": [],
      "source": [
        "!wget \"https://upload.wikimedia.org/wikipedia/commons/0/0f/Hsv_Value_Chart.png\" -q -O ./input_files/hsv.png\n",
        "!wget \"https://i.stack.imgur.com/01XJ7.png\" -q -O ./input_files/hsv_circle.png"
      ]
    },
    {
      "cell_type": "code",
      "execution_count": null,
      "metadata": {
        "id": "OY8pwxLLT-Qi"
      },
      "outputs": [],
      "source": [
        "img = cv2.imread('./input_files/hsv.png')\n",
        "img = img[:,:,::-1]\n",
        "\n",
        "def update_plot(hue, saturation, value):\n",
        "    hsv_image = cv2.cvtColor(img, cv2.COLOR_RGB2HSV)\n",
        "    bgr_image_copy = img.copy()\n",
        "    bgr_image_copy[hsv_image[:,:,0] > hue[1]] = 0\n",
        "    bgr_image_copy[hsv_image[:,:,1] > saturation[1]] = 0\n",
        "    bgr_image_copy[hsv_image[:,:,2] > value[1]] = 0\n",
        "\n",
        "    bgr_image_copy[hsv_image[:,:,0] < hue[0]] = 0\n",
        "    bgr_image_copy[hsv_image[:,:,1] < saturation[0]] = 0\n",
        "    bgr_image_copy[hsv_image[:,:,2] < value[0]] = 0\n",
        "    display(bgr_image_copy)\n",
        "\n",
        "\n",
        "hue = widgets.IntRangeSlider(value=[0, 180], min=0, max=180, description='Hue:')\n",
        "value = widgets.IntRangeSlider(value=[0, 255], min=0, max=255, description='Value:')\n",
        "saturation = widgets.IntRangeSlider(value=[0, 255], min=0, max=256, description='Saturation:')\n",
        "\n",
        "widgets.interactive(update_plot, hue=hue, saturation=saturation, value=value)"
      ]
    },
    {
      "cell_type": "markdown",
      "metadata": {
        "id": "Ad_BIAp79g7Y"
      },
      "source": [
        "## Обрезка (crop)\n",
        "Обрезка изображения довольно частая операция. В общем виде это выглядит следующим образом:"
      ]
    },
    {
      "cell_type": "code",
      "execution_count": null,
      "metadata": {
        "id": "85cT_X0p9jHx"
      },
      "outputs": [],
      "source": [
        "img = cv2.imread('./input_files/lenna.png', )\n",
        "img = img[:,:,::-1]\n",
        "\n",
        "def update_plot(x, y):\n",
        "    print(f'x = {x}, y = {y}')\n",
        "    image_copy = img.copy()\n",
        "    image_copy[0:y[0],:] = 0\n",
        "    image_copy[y[1]:,:] = 0\n",
        "\n",
        "    image_copy[:, 0:x[0]] = 0\n",
        "    image_copy[:, x[1]:] = 0\n",
        "    display(image_copy)\n",
        "\n",
        "\n",
        "x = widgets.IntRangeSlider(value=[0, 512], min=0, max=512, description='x:')\n",
        "y = widgets.IntRangeSlider(value=[0, 512], min=0, max=512, description='y:')\n",
        "\n",
        "widgets.interactive(update_plot, x=x, y=y)"
      ]
    },
    {
      "cell_type": "markdown",
      "metadata": {
        "id": "6_0i1GMFAtBI"
      },
      "source": [
        "В примере выше на самом деле не происходит никакой обрезки изображения. Мы просто закрашиваем черным цветом все на изображении вне указанных на слайдерах координатах."
      ]
    },
    {
      "cell_type": "code",
      "execution_count": null,
      "metadata": {
        "id": "9qA2_g10OhVu"
      },
      "outputs": [],
      "source": [
        "img = cv2.imread('./input_files/lenna.png')[:,:,::-1]\n",
        "\n",
        "start_row, end_row = 175, 375\n",
        "start_col, end_col = 200, 375\n",
        "cropped = img[start_row:end_row, start_col:end_col]\n",
        "\n",
        "plt.figure(figsize=(4, 4))\n",
        "plt.axis('off')\n",
        "plt.imshow(cropped);"
      ]
    },
    {
      "cell_type": "markdown",
      "metadata": {
        "id": "_1IiRyOJsjO7"
      },
      "source": [
        "В примерах выше у нас всегда начальная координата была меньше, чем конечная. Как вы думаете, что будет, если начальная координата окажется меньше или равна конечной? Попробуйте разобраться с этим в ячейке ниже."
      ]
    },
    {
      "cell_type": "code",
      "execution_count": null,
      "metadata": {
        "id": "prsIcAYOqXQX"
      },
      "outputs": [],
      "source": [
        "img = cv2.imread('./input_files/lenna.png', )\n",
        "img = img[:,:,::-1]\n",
        "\n",
        "start_row, end_row = 175, 375\n",
        "start_col, end_col = 200, 375\n",
        "cropped = img[start_row:end_row, start_col:end_col]\n",
        "\n",
        "\n",
        "plt.figure(figsize=(4, 4))\n",
        "plt.axis('off')\n",
        "plt.imshow(cropped)"
      ]
    },
    {
      "cell_type": "markdown",
      "metadata": {
        "id": "SqtMzmiIzwBr"
      },
      "source": [
        "## Повороты\n",
        "\n",
        "Для того, чтобы повернуть изображение, нам необходимо переместить каждый пиксель исходного изображения с координатами `(x, y)`в новое место с координатами `(x', y')`.\n",
        "\n",
        "Для этого мы можем воспользоваться мтрицей поворота:\n",
        "\n",
        "$$\n",
        "\\begin{pmatrix}\n",
        "x'\\\\y'\n",
        "\\end{pmatrix} =\n",
        "\\begin{bmatrix}\n",
        "\\cos\\theta & ∓\\sin\\theta\\\\\n",
        "±\\sin\\theta & \\cos\\theta\n",
        "\\end{bmatrix}\n",
        "\\begin{pmatrix}\n",
        "x\\\\y\n",
        "\\end{pmatrix}\n",
        "$$"
      ]
    },
    {
      "cell_type": "markdown",
      "metadata": {
        "id": "VGGQbEq538cn"
      },
      "source": [
        "Но нам не очень хочется вычислять ее каждый раз самостоятельно. Было бы неплохо, если бы мы указали угол, и матрица построилась бы сама собой.\n",
        "В OpenCV есть акая функция.\n",
        "\n",
        "```\n",
        "rot_mat = cv2.getRotationMatrix2D(center, angle, scale)\n",
        "```\n",
        "\n",
        "Интересно то, что мы выше говорили только об углах, а здесь вдруг вылез некий center и scale. Все дело в том, что данная функция возвращает матрицу Афинного преобразования, где мы можем сразу отмасштабировать изображение и выбрать точку вокруг которой будем совершать вращение."
      ]
    },
    {
      "cell_type": "code",
      "execution_count": null,
      "metadata": {
        "id": "G1841w864X4O"
      },
      "outputs": [],
      "source": [
        "rot_mat = cv2.getRotationMatrix2D((0, 0), 30, 1.0)\n",
        "print(rot_mat)"
      ]
    },
    {
      "cell_type": "code",
      "source": [
        "alpha = 30 * np.pi / 180\n",
        "np.array([[np.cos(alpha), -np.sin(alpha), 0], [np.sin(alpha), np.cos(alpha), 0]])"
      ],
      "metadata": {
        "id": "Rd6kqV5LYuzJ"
      },
      "execution_count": null,
      "outputs": []
    },
    {
      "cell_type": "markdown",
      "metadata": {
        "id": "AI62p56-4XGi"
      },
      "source": [
        "Знаю, что вы уже полюбили слайдеры, поэтому сделаем еще три слайдера для параметров: центр, угол и масштабирование."
      ]
    },
    {
      "cell_type": "code",
      "execution_count": null,
      "metadata": {
        "id": "T3Mzq9kM7AEh"
      },
      "outputs": [],
      "source": [
        "img = cv2.imread('./input_files/lenna.png')\n",
        "img = img[:,:,::-1]\n",
        "\n",
        "heigh, width = img.shape[:2]\n",
        "\n",
        "def update_plot(center_x, center_y, angle, scale):\n",
        "    rot_mat = cv2.getRotationMatrix2D((center_x, center_y), angle, scale)\n",
        "    print(rot_mat)\n",
        "    result = cv2.warpAffine(img, rot_mat, (heigh, width), flags=cv2.INTER_LINEAR)\n",
        "    display(result)\n",
        "\n",
        "center_x = widgets.IntSlider(min=0, max=width, value=width//2, description='center_x:')\n",
        "center_y = widgets.IntSlider(min=0, max=heigh, value=heigh//2, description='center_y:')\n",
        "angle = widgets.IntSlider(min=0, max=359, value=0, description='angle:')\n",
        "scale = widgets.FloatSlider(min=0.5, max=2, value=1, description='scale:')\n",
        "\n",
        "\n",
        "widgets.interactive(update_plot, center_x=center_x, center_y=center_y, angle=angle, scale=scale)"
      ]
    },
    {
      "cell_type": "code",
      "execution_count": null,
      "metadata": {
        "id": "I3e6tlGvFsPc"
      },
      "outputs": [],
      "source": [
        "img = cv2.imread('./input_files/lenna.png', )\n",
        "img = img[:,:,::-1]\n",
        "img = cv2.rotate(img, cv2.ROTATE_90_COUNTERCLOCKWISE)\n",
        "# ROTATE_90_CLOCKWISE\n",
        "# ROTATE_180\n",
        "# ROTATE_90_COUNTERCLOCKWISE\n",
        "\n",
        "plt.figure(figsize=(4, 4))\n",
        "plt.axis('off')\n",
        "plt.imshow(img);"
      ]
    },
    {
      "cell_type": "markdown",
      "metadata": {
        "id": "TEuo3hGGAyxJ"
      },
      "source": [
        "### Упражнение\n",
        "Вспомните линейную алгебру и подберите матрицу таким образом, чтобы мы сдвинули изображение на n пикселей вправо и на m пикселей вверх. Ниже подготовлен фрагмент кода, и вам необходимо заполнить пропуски, чтобы он заработал примерно следующим образом:\n",
        "\n",
        "При сдвиге вверх и вправо на 256 пикселей, получилась примерно следующая картинка:*italicized text*"
      ]
    },
    {
      "cell_type": "markdown",
      "metadata": {
        "id": "y4wWJ3hcDj_u"
      },
      "source": [
        "<img src=\"https://i.ibb.co/4Nsxvbw/shifted.png\" height=\"500\" width=\"500\">"
      ]
    },
    {
      "cell_type": "code",
      "execution_count": null,
      "metadata": {
        "id": "odji1WbqCB_j"
      },
      "outputs": [],
      "source": [
        "img = cv2.imread('./input_files/lenna.png')\n",
        "img = img[:,:,::-1]\n",
        "\n",
        "heigh, width = img.shape[:2]\n",
        "\n",
        "def update_plot(shift_x, shift_y):\n",
        "\n",
        "    # Тут почти все работает, просто необходимо изменить значения матрицы,\n",
        "    # подставив shift_x и shift_y в соответствующие поля\n",
        "    matrix = np.array([[1, 0, 0], [0, 1, 0]], dtype=np.float32)\n",
        "\n",
        "    result = cv2.warpAffine(img, matrix, (heigh, width), flags=cv2.INTER_LINEAR)\n",
        "    display(result)\n",
        "\n",
        "shift_x = widgets.IntSlider(min=-width//2, max=width//2, value=0, description='shift_x:')\n",
        "shift_y = widgets.IntSlider(min=-heigh//2, max=heigh//2, value=0, description='shift_y:')\n",
        "\n",
        "widgets.interactive(update_plot, shift_x=shift_x, shift_y=shift_y)"
      ]
    },
    {
      "cell_type": "markdown",
      "metadata": {
        "id": "F373_H3KD8vG"
      },
      "source": [
        "## Изменение размера\n",
        "\n",
        "Для изменения размера в OpenCV есть функция `cv2.resize()`.\n",
        "\n",
        "она принимает следующие аргументы:\n",
        "\n",
        "src: наше изображение.\n",
        "\n",
        "dsize: новый размер изображения\n",
        "\n",
        "fx: коэффициент масштабирования по оси X.\n",
        "\n",
        "fy: коэффициент масштабирования по оси Y.\n",
        "\n",
        "interpolation: метод интерполяции."
      ]
    },
    {
      "cell_type": "code",
      "source": [
        "from IPython.display import Image"
      ],
      "metadata": {
        "id": "5A6rXuB5vTS5"
      },
      "execution_count": null,
      "outputs": []
    },
    {
      "cell_type": "code",
      "execution_count": null,
      "metadata": {
        "id": "HqS4IP9B6_oW"
      },
      "outputs": [],
      "source": [
        "img = cv2.imread('./input_files/lenna.png')\n",
        "img = img[:,:,::-1]\n",
        "heigh, width = img.shape[:2]\n",
        "\n",
        "def update_plot(new_width, new_heigh):\n",
        "\n",
        "    result = cv2.resize(img, (new_width, new_heigh), interpolation=cv2.INTER_LINEAR)\n",
        "    _, encoded_result = cv2.imencode('.png', result[:,:,::-1])\n",
        "    display(Image(encoded_result))\n",
        "\n",
        "new_width = widgets.IntSlider(min=0, max=1920, value=width, description='new_width:')\n",
        "new_heigh = widgets.IntSlider(min=0, max=1080, value=heigh, description='new_heigh:')\n",
        "\n",
        "widgets.interactive(update_plot, new_width=new_width, new_heigh=new_heigh)"
      ]
    },
    {
      "cell_type": "code",
      "execution_count": null,
      "metadata": {
        "id": "89Lq1B96-fYY"
      },
      "outputs": [],
      "source": [
        "img = cv2.imread('./input_files/lenna.png', )\n",
        "img = img[:,:,::-1]\n",
        "\n",
        "def update_plot(fx, fy):\n",
        "\n",
        "    result = cv2.resize(img, None, fx=fx, fy=fy, interpolation=cv2.INTER_LINEAR)\n",
        "    _, encoded_result = cv2.imencode('.png', result[:,:,::-1])\n",
        "    display(Image(encoded_result))\n",
        "\n",
        "fx = widgets.FloatSlider(min=0.1, max=5, value=1, description='fx:')\n",
        "fy = widgets.FloatSlider(min=0.1, max=5, value=1, description='fy:')\n",
        "\n",
        "widgets.interactive(update_plot, fx=fx, fy=fy)"
      ]
    },
    {
      "cell_type": "markdown",
      "metadata": {
        "id": "z_g7C4uYXZD9"
      },
      "source": [
        "# Рисуем на картинках\n",
        "В OpenCV присутствуют набор функций для отрисовки базовых объектов, таких как текст, прямоугольники, линии, овалы. <br>\n",
        "Ниже мы бегло познакомимся с ними:"
      ]
    },
    {
      "cell_type": "markdown",
      "metadata": {
        "id": "N31drPPeYOM1"
      },
      "source": [
        "## Линия, вектор, прямоугольник\n",
        "\n",
        "Для отрисовки перечисленных фигур используются функции [cv2.line](https://docs.opencv.org/4.5.3/d6/d6e/group__imgproc__draw.html#ga7078a9fae8c7e7d13d24dac2520ae4a2), [cv2.arrowedLine](https://docs.opencv.org/4.5.3/d6/d6e/group__imgproc__draw.html#ga0a165a3ca093fd488ac709fdf10c05b2) и [cv2.rectangle](https://docs.opencv.org/4.x/d6/d6e/group__imgproc__draw.html#ga07d2f74cadcf8e305e810ce8eed13bc9)"
      ]
    },
    {
      "cell_type": "code",
      "execution_count": null,
      "metadata": {
        "id": "6ZPS-pR-YR3r"
      },
      "outputs": [],
      "source": [
        "img = np.zeros((512, 512, 3), dtype=\"uint8\")\n",
        "\n",
        "\n",
        "colors = {'green': (0, 255, 0), 'red': (0, 0, 255), 'blue': (255, 0, 0)}\n",
        "points = [(10, 10), (500, 10), (500, 500), (10, 500)]\n",
        "\n",
        "line_width = 6\n",
        "cv2.rectangle(img, points[0], points[2], colors['blue'], line_width-4)\n",
        "cv2.arrowedLine(img, points[3], points[1], colors['green'], line_width)\n",
        "cv2.line(img, points[2], points[0], colors['red'], line_width)\n",
        "\n",
        "plt.figure(figsize=(4, 4))\n",
        "plt.axis('off')\n",
        "plt.imshow(img[:,:,::-1]);"
      ]
    },
    {
      "cell_type": "markdown",
      "metadata": {
        "id": "6nnGJQbhco0D"
      },
      "source": [
        "## Круг\n",
        "\n",
        "Для отрисовки круга нам понадобится функция\n",
        "[cv2.circle](https://docs.opencv.org/4.5.3/d6/d6e/group__imgproc__draw.html#gaf10604b069374903dbd0f0488cb43670)"
      ]
    },
    {
      "cell_type": "code",
      "execution_count": null,
      "metadata": {
        "id": "OJAae-6maLx-"
      },
      "outputs": [],
      "source": [
        "img = np.zeros((512, 512, 3), dtype=\"uint8\")\n",
        "center = (256, 256)\n",
        "radius = 100\n",
        "line_width = 3\n",
        "cv2.circle(img, center, radius, colors['blue'], line_width)\n",
        "\n",
        "plt.figure(figsize=(4, 4))\n",
        "plt.axis('off')\n",
        "plt.imshow(img[...,::-1]);"
      ]
    },
    {
      "cell_type": "markdown",
      "metadata": {
        "id": "SglMl_n6cHns"
      },
      "source": [
        "## Эллипс\n",
        "\n",
        "Для отрисовки эллипса нам понадобится функция [cv2.ellipse](https://docs.opencv.org/4.5.3/d6/d6e/group__imgproc__draw.html#ga28b2267d35786f5f890ca167236cbc69)"
      ]
    },
    {
      "cell_type": "code",
      "execution_count": null,
      "metadata": {
        "id": "NgVgujHXbEye"
      },
      "outputs": [],
      "source": [
        "img = np.zeros((512, 512, 3), dtype=\"uint8\")\n",
        "\n",
        "center = (256, 256)\n",
        "major_axis_len = 100\n",
        "minor_axis_len = 50\n",
        "rotation_angle = 0\n",
        "start_angle = 0\n",
        "end_angle = 360\n",
        "line_width = 3\n",
        "\n",
        "img = cv2.ellipse(img, center, (major_axis_len, minor_axis_len),\n",
        "                  rotation_angle, start_angle, end_angle, colors['blue'], line_width)\n",
        "\n",
        "plt.figure(figsize=(4, 4))\n",
        "plt.axis('off')\n",
        "plt.imshow(img[:,:,::-1]);"
      ]
    },
    {
      "cell_type": "markdown",
      "metadata": {
        "id": "ek5hYhyTdky4"
      },
      "source": [
        "## Текст\n",
        "\n",
        "Для отрисовки текста нам нужна функция [cv2.putText](https://docs.opencv.org/4.5.3/d6/d6e/group__imgproc__draw.html#ga5126f47f883d730f633d74f07456c576)"
      ]
    },
    {
      "cell_type": "code",
      "execution_count": null,
      "metadata": {
        "id": "ZSiBqq0zdlQI"
      },
      "outputs": [],
      "source": [
        "img = np.zeros((512, 512, 3), dtype=\"uint8\")\n",
        "\n",
        "position = (100, 256)\n",
        "text_size = 2\n",
        "thickness = 3\n",
        "\n",
        "font = cv2.FONT_HERSHEY_SIMPLEX\n",
        "cv2.putText(img, 'OpenCV', position, font, text_size, colors['blue'], thickness)\n",
        "\n",
        "plt.figure(figsize=(4, 4))\n",
        "plt.axis('off')\n",
        "plt.imshow(img[:,:,::-1])"
      ]
    },
    {
      "cell_type": "markdown",
      "metadata": {
        "id": "sT2BT9VTG6mR"
      },
      "source": [
        "# Работа с масками и бинарными изображениями\n"
      ]
    },
    {
      "cell_type": "code",
      "execution_count": null,
      "metadata": {
        "id": "pQroCgGsH_5T"
      },
      "outputs": [],
      "source": [
        "rectangle = np.zeros((512, 512), dtype=\"uint8\")\n",
        "cv2.rectangle(rectangle, (100, 100), (300, 300), 255, -1)\n",
        "\n",
        "circle = np.zeros((512, 512), dtype = \"uint8\")\n",
        "cv2.circle(circle, (250, 200), 100, 255, -1)\n",
        "\n",
        "figure, axes = plt.subplots(ncols=2, nrows=1, figsize=(8, 4))\n",
        "\n",
        "axes[0].imshow(rectangle, cmap='gray')\n",
        "axes[1].imshow(circle, cmap='gray');"
      ]
    },
    {
      "cell_type": "code",
      "execution_count": null,
      "metadata": {
        "id": "CJtCTsc8LJHe"
      },
      "outputs": [],
      "source": [
        "bitwise_and = cv2.bitwise_and(rectangle, circle)\n",
        "plt.figure(figsize=(4, 4))\n",
        "plt.imshow(bitwise_and, cmap='gray');"
      ]
    },
    {
      "cell_type": "code",
      "execution_count": null,
      "metadata": {
        "id": "gj1d07F3LTTl"
      },
      "outputs": [],
      "source": [
        "bitwise_or = cv2.bitwise_or(rectangle, circle)\n",
        "plt.figure(figsize=(4, 4))\n",
        "plt.imshow(bitwise_or, cmap='gray');"
      ]
    },
    {
      "cell_type": "code",
      "execution_count": null,
      "metadata": {
        "id": "k3tWfm9VLelX"
      },
      "outputs": [],
      "source": [
        "bitwise_xor = cv2.bitwise_xor(rectangle, circle)\n",
        "plt.figure(figsize=(4, 4))\n",
        "plt.imshow(bitwise_xor, cmap='gray');"
      ]
    },
    {
      "cell_type": "code",
      "execution_count": null,
      "metadata": {
        "id": "ZTmU6hDXLk3b"
      },
      "outputs": [],
      "source": [
        "bitwise_not = cv2.bitwise_not(rectangle)\n",
        "plt.figure(figsize=(4, 4))\n",
        "plt.imshow(bitwise_not, cmap='gray');"
      ]
    },
    {
      "cell_type": "code",
      "execution_count": null,
      "metadata": {
        "id": "CSKvt-EyMqyJ"
      },
      "outputs": [],
      "source": [
        "img = cv2.imread('./input_files/lenna.png', )\n",
        "img = img[:,:,::-1]\n",
        "\n",
        "rectangle = np.zeros((512, 512), dtype=\"uint8\")\n",
        "cv2.rectangle(rectangle, (200, 200), (350, 400), 255, -1)\n",
        "\n",
        "mask = rectangle == 0\n",
        "img[mask] = 0\n",
        "\n",
        "\n",
        "plt.figure(figsize=(4, 4))\n",
        "plt.imshow(img);"
      ]
    },
    {
      "cell_type": "markdown",
      "metadata": {
        "id": "Z0KiSKNYHqzP"
      },
      "source": [
        "References:\n",
        "- [opencv official web site](https://opencv.org/)\n",
        "- [Scipy Lecture Notes](https://scipy-lectures.org/)\n",
        "- [Цифровая обработка изображений | Гонсалес Рафаэль, Вудс Ричард](https://www.ozon.ru/product/tsifrovaya-obrabotka-izobrazheniy-gonsales-rafael-vuds-richard-242389345/?sh=ZNJzjW5E&utm_source=google&utm_medium=cpc&utm_campaign=RF_Regstore_Product_DSA_NewClients&gclid=Cj0KCQjw8p2MBhCiARIsADDUFVF3HEhYSOdzOa4Wtw7NH1rZiDgX6pZt67qSx2P8WziU2zPP_kvTd9YaAtJAEALw_wcB)"
      ]
    },
    {
      "cell_type": "markdown",
      "metadata": {
        "id": "g7ee8XSyPLdw"
      },
      "source": [
        "# Домашнее задание\n",
        "Ниже будет скачано изображение кубика Рубика из википедии."
      ]
    },
    {
      "cell_type": "markdown",
      "metadata": {
        "id": "4nPhDzOzT-Qu"
      },
      "source": [
        "## 1. Преобразование цветов:"
      ]
    },
    {
      "cell_type": "markdown",
      "metadata": {
        "id": "lx_j37ZlT-Qu"
      },
      "source": [
        "Ниже будет скачано изображение кубика Рубика из википедии. Давайте поиграемся с цветовыми пространствами, масками и заменим все синие клеточки на зеленые. Желаемый результат показан в ячейках ниже вместе с элементами кода."
      ]
    },
    {
      "cell_type": "code",
      "execution_count": null,
      "metadata": {
        "id": "b1gDnGIALdh8"
      },
      "outputs": [],
      "source": [
        "!wget \"https://upload.wikimedia.org/wikipedia/commons/6/61/Rubiks_cube_solved.jpg\" -q -O ./input_files/cube.jpg\n",
        "\n",
        "img = cv2.imread('./input_files/cube.jpg', )\n",
        "img = img[:,:,::-1]\n",
        "\n",
        "plt.figure(figsize=(4, 4))\n",
        "plt.axis('off')\n",
        "plt.imshow(img);"
      ]
    },
    {
      "cell_type": "code",
      "source": [
        "img_hsv = cv2.cvtColor(img, cv2.COLOR_RGB2HSV)\n",
        "mask = # YOUR CODE HERE\n",
        "plt.figure(figsize=(4, 4))\n",
        "plt.imshow(mask, cmap='gray');"
      ],
      "metadata": {
        "id": "i6_emFgo3L1F"
      },
      "execution_count": null,
      "outputs": []
    },
    {
      "cell_type": "code",
      "source": [
        "img = cv2.imread('./input_files/cube.jpg')[:,:,::-1]\n",
        "img[mask] = # YOUR CODE HERE\n",
        "plt.figure(figsize=(4, 4))\n",
        "plt.imshow(img);"
      ],
      "metadata": {
        "id": "tgLyqlnj51CM"
      },
      "execution_count": null,
      "outputs": []
    },
    {
      "cell_type": "markdown",
      "metadata": {
        "id": "B5u9Op2eSzOl"
      },
      "source": [
        "<img src=\"https://i.ibb.co/ChY9mkN/cube.png\" height=\"500\" width=\"500\">"
      ]
    },
    {
      "cell_type": "markdown",
      "metadata": {
        "id": "-tVPR-FFT-Q2"
      },
      "source": [
        "## 2. Рисование bounding-box"
      ]
    },
    {
      "cell_type": "markdown",
      "metadata": {
        "id": "SC4-LFodT-Q2"
      },
      "source": [
        "Скачайте с помощью `wget` любое изображение, нарисуйте ограничивающий прямоугольник, название класса объекта и скор объекта. <br>\n",
        "Можно не ограничиваться одним объектом. <br>\n",
        "Пример результата:"
      ]
    },
    {
      "cell_type": "markdown",
      "metadata": {
        "id": "eoj-aT-iT-Q3"
      },
      "source": [
        "<img src=\"https://drive.google.com/uc?export=view&id=1hksmUSQydpJ2PZoKDDIiGguj2X8ETlMX\" height=\"400\" width=\"400\"/>"
      ]
    },
    {
      "cell_type": "code",
      "source": [],
      "metadata": {
        "id": "nnW6H2K38J4Z"
      },
      "execution_count": null,
      "outputs": []
    }
  ],
  "metadata": {
    "colab": {
      "name": "lesson_1.ipynb",
      "provenance": [],
      "include_colab_link": true
    },
    "kernelspec": {
      "display_name": "Python 3.10.6 64-bit",
      "language": "python",
      "name": "python3"
    },
    "language_info": {
      "codemirror_mode": {
        "name": "ipython",
        "version": 3
      },
      "file_extension": ".py",
      "mimetype": "text/x-python",
      "name": "python",
      "nbconvert_exporter": "python",
      "pygments_lexer": "ipython3",
      "version": "3.8.10"
    },
    "vscode": {
      "interpreter": {
        "hash": "916dbcbb3f70747c44a77c7bcd40155683ae19c65e1c03b4aa3499c5328201f1"
      }
    }
  },
  "nbformat": 4,
  "nbformat_minor": 0
}