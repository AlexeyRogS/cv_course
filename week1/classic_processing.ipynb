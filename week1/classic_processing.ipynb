{
  "cells": [
    {
      "cell_type": "markdown",
      "metadata": {
        "id": "view-in-github",
        "colab_type": "text"
      },
      "source": [
        "<a href=\"https://colab.research.google.com/github/AlexeyRogS/cv_course/blob/main/week1/classic_processing.ipynb\" target=\"_parent\"><img src=\"https://colab.research.google.com/assets/colab-badge.svg\" alt=\"Open In Colab\"/></a>"
      ]
    },
    {
      "cell_type": "markdown",
      "metadata": {
        "id": "_w4Bz4NecjQw"
      },
      "source": [
        "# План занятия:\n",
        "\n",
        "Пространственная (spatial) обработка изображений:\n",
        "* фильтры/свертка (filters/convolution)\n",
        "* Blur\n",
        "* Gaussian Blur\n",
        "* Median Blur\n",
        "* Sobel and Laplasian\n",
        "\n",
        "\n",
        "Попиксельные (pixel-wise) преобразования изображения:\n",
        "* работа с яркостью и контрастом\n",
        "* гамма коррекция\n",
        "\n",
        "Бинаризация и трешолдинг (image binarization and thresholding)\n",
        "* Simple Thresholding\n",
        "* Adaptive Thresholding\n",
        "\n",
        "Морфологические операции (morphological operations)\n",
        "* Erosion\n",
        "* Dilation\n",
        "* Opening\n",
        "* Closing"
      ]
    },
    {
      "cell_type": "code",
      "execution_count": null,
      "metadata": {
        "id": "uq7NOmp-ck3s"
      },
      "outputs": [],
      "source": [
        "!pip install opencv-contrib-python matplotlib numpy"
      ]
    },
    {
      "cell_type": "code",
      "execution_count": null,
      "metadata": {
        "id": "BPx63lZaqn-5"
      },
      "outputs": [],
      "source": [
        "import cv2\n",
        "import numpy as np\n",
        "import ipywidgets as widgets\n",
        "from IPython.display import display, HTML\n",
        "from matplotlib import pyplot as plt"
      ]
    },
    {
      "cell_type": "markdown",
      "metadata": {
        "id": "Zho8pJ8WLFAU"
      },
      "source": [
        "# Пространственная обработка изображений.\n",
        "\n",
        "\n",
        "\n"
      ]
    },
    {
      "cell_type": "markdown",
      "source": [
        "# Определение свертки"
      ],
      "metadata": {
        "id": "c3yeaBfgEHoK"
      }
    },
    {
      "cell_type": "markdown",
      "source": [
        "Свертка это бинарная математическая операция, определенная для двух матриц, на практике для изображения и ядра свертки, следующим образом. Пусть даны изображение f и ядро свертки w (размера aXb)\n",
        "\n",
        "$g(x,y)=(w*f)(x,y)=\\sum_{i=0}^{a-1}\\sum_{j=0}^{b-1}w(i,j)f(x+i,y+j)$\n",
        "\n",
        "Операция свертки проиллюстрирована на киртинке ниже. В действительности под сверткой могут пониматься много различных математических операций, изначально операция свертки возникла как метод обработки одномерных сигналов, потом заимствовалась и в другие области с разными модификациями.\n",
        "\n",
        "Более правильная математическая формулировка свертки немного более запутанная, чем мы привели, она содержит транспонирование ядра свертки. Но на практике мы будем, как правило, работать со свертками в нейронных сетях, где свертки используются именно в соответствии с нашим определением.\n",
        "\n",
        "Подробнее изучаем [тут](https://arxiv.org/pdf/1603.07285)\n",
        "<img src='https://neerc.ifmo.ru/wiki/images/thumb/7/71/Convolution_example.png/1200px-Convolution_example.png' />"
      ],
      "metadata": {
        "id": "B141bcM7ELYF"
      }
    },
    {
      "cell_type": "markdown",
      "metadata": {
        "id": "ttHiO3NsQKLt"
      },
      "source": [
        "## Blur\n",
        "Попробуем понять, какую пользу могут нести свертки.\n",
        "Начнем с самого простого, что только можно придумать."
      ]
    },
    {
      "cell_type": "code",
      "execution_count": null,
      "metadata": {
        "id": "0NB-NvASUk8-"
      },
      "outputs": [],
      "source": [
        "!mkdir -p input_files & wget \"https://upload.wikimedia.org/wikipedia/en/7/7d/Lenna_%28test_image%29.png\" -q -O ./input_files/lenna.png"
      ]
    },
    {
      "cell_type": "code",
      "execution_count": null,
      "metadata": {
        "id": "6MHvnOZBUpNc"
      },
      "outputs": [],
      "source": [
        "img = cv2.imread('./input_files/lenna.png')\n",
        "gray = cv2.cvtColor(img, cv2.COLOR_BGR2GRAY)\n",
        "\n",
        "plt.figure(figsize=(4, 4))\n",
        "plt.axis('off')\n",
        "plt.imshow(gray, cmap='gray');"
      ]
    },
    {
      "cell_type": "markdown",
      "metadata": {
        "id": "HmXuIoZiVF8z"
      },
      "source": [
        "Зададим простой фильтр, состоящий из всех 1. А для того, чтобы при суммировании не произошло переполнения, добавим нормировочный коэффициент.\n",
        "\n",
        "$\n",
        "K = \\frac{1}{25}\\begin{pmatrix}\n",
        "1 & 1 & 1 & 1 & 1\\\\\n",
        "1 & 1 & 1 & 1 & 1\\\\\n",
        "1 & 1 & 1 & 1 & 1\\\\\n",
        "1 & 1 & 1 & 1 & 1\\\\\n",
        "1 & 1 & 1 & 1 & 1\n",
        "\\end{pmatrix}\n",
        "$\n"
      ]
    },
    {
      "cell_type": "code",
      "execution_count": null,
      "metadata": {
        "id": "jNNCoJATVG7X"
      },
      "outputs": [],
      "source": [
        "kernel = np.ones((5, 5), dtype=float)\n",
        "print(kernel)\n",
        "\n",
        "kernel /= np.sum(kernel)\n",
        "print(kernel)"
      ]
    },
    {
      "cell_type": "markdown",
      "metadata": {
        "id": "ZfHmJRAvVdJv"
      },
      "source": [
        "Для того, чтобы применить фильтр к изображению в OpenCV есть несколько методов. Для применения произвольного фильтра существует функция [cv2.filter2D()](https://docs.opencv.org/3.4/d4/d86/group__imgproc__filter.html#ga27c049795ce870216ddfb366086b5a04)"
      ]
    },
    {
      "cell_type": "code",
      "execution_count": null,
      "metadata": {
        "id": "EofpPelFWBae"
      },
      "outputs": [],
      "source": [
        "blurred = cv2.filter2D(gray, -1, kernel)\n",
        "\n",
        "figure, plots = plt.subplots(ncols=2, nrows=1, figsize=(8, 4))\n",
        "for img, subplot in zip([gray, blurred], plots):\n",
        "    subplot.imshow(img, cmap='gray')\n",
        "    subplot.set_axis_off()\n",
        "plt.show()"
      ]
    },
    {
      "cell_type": "markdown",
      "metadata": {
        "id": "6qie0bENW8pp"
      },
      "source": [
        "То же самое мы можем сделать и при помощи других функций. Например, [cv2.boxFilter()](https://docs.opencv.org/3.4/d4/d86/group__imgproc__filter.html#gad533230ebf2d42509547d514f7d3fbc3). Отличие состоит в том, что мы туда уже не передаем сами ядро. Оно создается автоматически. На самом деле аналогичную операцию выполняет и функция [cv2.blur()](https://docs.opencv.org/3.4/d4/d86/group__imgproc__filter.html#ga8c45db9afe636703801b0b2e440fce37)"
      ]
    },
    {
      "cell_type": "code",
      "execution_count": null,
      "metadata": {
        "id": "CioKbS5lYje2"
      },
      "outputs": [],
      "source": [
        "img = cv2.imread('./input_files/lenna.png')\n",
        "gray = cv2.cvtColor(img, cv2.COLOR_BGR2GRAY)\n",
        "blurred = cv2.blur(gray, (5, 5))\n",
        "\n",
        "figure, plots = plt.subplots(ncols=2, nrows=1, figsize=(8, 4))\n",
        "for img, subplot in zip([gray, blurred], plots):\n",
        "    subplot.imshow(img, cmap='gray')\n",
        "    subplot.set_axis_off()\n",
        "plt.show()"
      ]
    },
    {
      "cell_type": "markdown",
      "metadata": {
        "id": "w16RQhzL_wqm"
      },
      "source": [
        "### Как размер ядра будет влиять на степень размытия?"
      ]
    },
    {
      "cell_type": "markdown",
      "metadata": {
        "id": "wCYfUuTFYvCy"
      },
      "source": [
        "Чем большего будет размера ядро, тем сильнее будет размытие:"
      ]
    },
    {
      "cell_type": "code",
      "execution_count": null,
      "metadata": {
        "id": "XCPokULhZEO1"
      },
      "outputs": [],
      "source": [
        "image = cv2.imread('./input_files/lenna.png')\n",
        "image = cv2.cvtColor(image, cv2.COLOR_BGR2GRAY)\n",
        "N, step, kernel_size = 5, 5, 5\n",
        "\n",
        "figure, axes = plt.subplots(ncols=N, nrows=1, figsize=(4*N, 4))\n",
        "axes[0].imshow(image, cmap='gray')\n",
        "axes[0].set_title(\"original image\")\n",
        "for axe in axes[1:]:\n",
        "    blurred = cv2.blur(image, (kernel_size, kernel_size))\n",
        "    axe.imshow(blurred, cmap='gray')\n",
        "    axe.set_title(f\"Blurred with kernels {kernel_size,kernel_size}\")\n",
        "    axe.axis('off')\n",
        "    kernel_size = kernel_size + step\n",
        "plt.show()"
      ]
    },
    {
      "cell_type": "markdown",
      "metadata": {
        "id": "fKRP2Kt_ZvHB"
      },
      "source": [
        "## Gaussian Blur\n",
        "\n",
        "Делает примерно то же самое, но использует вместо однородного ядра гауссово ядро. Для того, чтобы посмотреть, как оно выглядит можно воспользоваться функцией [cv2.getGaussianKernel()](https://docs.opencv.org/3.4/d4/d86/group__imgproc__filter.html#gac05a120c1ae92a6060dd0db190a61afa)."
      ]
    },
    {
      "cell_type": "code",
      "source": [
        "gb = cv2.getGaussianKernel(3, 1)\n",
        "gb"
      ],
      "metadata": {
        "id": "YyVhZIvsu2jV"
      },
      "execution_count": null,
      "outputs": []
    },
    {
      "cell_type": "markdown",
      "source": [
        "$$g(x)=\\frac{1}{\\sigma\\sqrt{2\\pi}}\\exp{\\Biggl[-\\frac{1}{2}\\Biggl(\\frac{x-\\mu}{\\sigma}\\Biggr)^{2}\\Biggr]}$$\n",
        "\n",
        "$$g(x,y)=\\frac{1}{2\\pi\\sigma^{2}}\\exp{-\\frac{1}{2}\\frac{x^{2}+y^{2}}{\\sigma^{2}}} = \\frac{1}{\\sigma\\sqrt{2\\pi}}\\exp{-\\frac{1}{2}\\Biggl(\\frac{x}{\\sigma}\\Biggr)^{2}} \\cdot \\frac{1}{\\sigma\\sqrt{2\\pi}}\\exp{-\\frac{1}{2}\\Biggl(\\frac{y}{\\sigma}\\Biggr)^{2}}=g(x)g(y)$$"
      ],
      "metadata": {
        "id": "-5I09qOjqbxn"
      }
    },
    {
      "cell_type": "markdown",
      "source": [
        "$$\n",
        "\\begin{pmatrix}\n",
        "g(-1,-1) & g(-1,0) & g(-1,1)\\\\\n",
        "g(0,-1) & g(0,0) & g(0,1) \\\\\n",
        "g(1,-1) & g(1,0) & g(1,1)\n",
        "\\end{pmatrix}\n",
        "=\n",
        "\\begin{pmatrix}\n",
        "g(-1)g(-1) & g(-1)g(0) & g(-1)g(1)\\\\\n",
        "g(0)g(-1) & g(0)g(0) & g(0)g(1) \\\\\n",
        "g(1)g(-1) & g(1)g(0) & g(1)g(1)\n",
        "\\end{pmatrix}\n",
        "=\n",
        "\\begin{pmatrix}\n",
        "g(-1)\\\\\n",
        "g(0)\\\\\n",
        "g(1)\n",
        "\\end{pmatrix}\n",
        "\\begin{pmatrix}\n",
        "g(-1) & g(0) & g(1)\\\\\n",
        "\\end{pmatrix}\n",
        "$$"
      ],
      "metadata": {
        "id": "NILGFtpzs6hF"
      }
    },
    {
      "cell_type": "code",
      "source": [
        "def gauss(x, y, s):\n",
        "    return np.exp(-0.5 * ((x**2 + y**2) / s**2)) / (2*np.pi * s**2)\n",
        "\n",
        "def get_gb(s, kernel_size=3):\n",
        "    assert kernel_size % 2 == 1\n",
        "    g = np.zeros((kernel_size, kernel_size))\n",
        "    for i in range(-kernel_size // 2, kernel_size // 2 + 1, 1):\n",
        "        for j in range(-kernel_size // 2, kernel_size // 2 + 1, 1):\n",
        "            g[i+kernel_size // 2,j+kernel_size // 2] = gauss(i, j, s)\n",
        "    g = g / np.sum(g)\n",
        "    return g\n",
        "get_gb(1)"
      ],
      "metadata": {
        "id": "J-bXv5mYu-Q0"
      },
      "execution_count": null,
      "outputs": []
    },
    {
      "cell_type": "code",
      "execution_count": null,
      "metadata": {
        "id": "dkfpEbR1cvV8"
      },
      "outputs": [],
      "source": [
        "image = cv2.imread('./input_files/lenna.png')\n",
        "image = cv2.cvtColor(image, cv2.COLOR_BGR2GRAY)\n",
        "N, step, kernel_size = 5, 5, 5\n",
        "\n",
        "figure, axes = plt.subplots(ncols=N, nrows=1, figsize=(4*N, 4))\n",
        "axes[0].imshow(image, cmap='gray')\n",
        "axes[0].set_title(\"original image\")\n",
        "for axe in axes[1:]:\n",
        "    blurred = cv2.GaussianBlur(image, (kernel_size, kernel_size), 1)\n",
        "    axe.imshow(blurred, cmap='gray')\n",
        "    axe.set_title(f\"Blurred with kernels {kernel_size,kernel_size}\")\n",
        "    axe.axis('off')\n",
        "    kernel_size = kernel_size + step\n",
        "    kernel_size = kernel_size + kernel_size % 2 + 1  # must be odd\n",
        "plt.show()"
      ]
    },
    {
      "cell_type": "markdown",
      "metadata": {
        "id": "djF8dkjUj-FY"
      },
      "source": [
        "## Median blur"
      ]
    },
    {
      "cell_type": "code",
      "execution_count": null,
      "metadata": {
        "id": "larurkiKdPp6"
      },
      "outputs": [],
      "source": [
        "image = cv2.imread('./input_files/lenna.png')[:,:,::-1]\n",
        "\n",
        "mean = 0\n",
        "sigma = 50\n",
        "gauss = np.random.normal(mean, sigma, image.shape)\n",
        "noisy = np.clip(image.astype(np.float32) + gauss, 0, 255).astype(np.uint8)\n",
        "\n",
        "N, step, kernel_size = 5, 5, 5\n",
        "figure, axes = plt.subplots(nrows=1, ncols=N, figsize=(4*N, 4))\n",
        "axes[0].imshow(noisy)\n",
        "axes[0].set_title(\"original noisy image\")\n",
        "\n",
        "for axe in axes[1:]:\n",
        "    blurred = cv2.medianBlur(noisy, kernel_size)\n",
        "    axe.imshow(blurred)\n",
        "    axe.set_title(f\"blurred with kernel {kernel_size}\")\n",
        "    axe.axis('off')\n",
        "    kernel_size = kernel_size + step\n",
        "    kernel_size = kernel_size + kernel_size % 2 + 1  # must be odd"
      ]
    },
    {
      "cell_type": "markdown",
      "metadata": {
        "id": "pvxvxawsmME4"
      },
      "source": [
        "## Sobel and Laplacian filtering"
      ]
    },
    {
      "cell_type": "markdown",
      "source": [
        "Фильтр собеля это объединяющий термин для фильтров, вычисляющих градиенты на изображении. Фильтры собеля очень полезны для детекции границ, ведь к границам принадлежат те пиксели, в которых происходит некий переход яркости, а значит и высокое значение градиента."
      ],
      "metadata": {
        "id": "7GXrOQ6D2Ro2"
      }
    },
    {
      "cell_type": "markdown",
      "metadata": {
        "id": "e8odNb3-_wqp"
      },
      "source": [
        "<img src=\"https://i.ibb.co/6ysDtS3/edge.png\" height=\"300\" width=\"900\">"
      ]
    },
    {
      "cell_type": "markdown",
      "metadata": {
        "id": "Rl7mY5bqxbzv"
      },
      "source": [
        "Для вычисления результата фильтра собеля можно использовать функцию [cv2.Sobel()](https://docs.opencv.org/4.5.3/d4/d86/group__imgproc__filter.html#gacea54f142e81b6758cb6f375ce782c8d) <br>\n",
        "Она объединяет Гауссовское сглаживание и дифференцирование, при этом то, какие градиенты высчитываются, задается с помощью аргументов функции dx, dy.\n",
        "\n",
        "$(dx,dy)=(1,0) → G_{x} \\iff \\frac{d}{dx}$  горизонтальные границы\n",
        "\n",
        "$(dx,dy)=(0,1) → G_{y} \\iff \\frac{d}{dy}$  вертикальные границы"
      ]
    },
    {
      "cell_type": "markdown",
      "metadata": {
        "id": "M0SHBonH_wqp"
      },
      "source": [
        "\\begin{equation*}\n",
        "Gx =\n",
        "\\begin{bmatrix}\n",
        "-1 & 0 & 1\\\\\n",
        "-2 & 0 & 2 \\\\\n",
        "-1 & 0 & 1\n",
        "\\end{bmatrix}\n",
        "\\end{equation*}\n",
        "\n",
        "\\begin{equation*}\n",
        "Gy =\n",
        "\\begin{bmatrix}\n",
        "-1 & -2 & -1\\\\\n",
        "0 & 0 & 0 \\\\\n",
        "1 & 2 & 1\n",
        "\\end{bmatrix}\n",
        "\\end{equation*}"
      ]
    },
    {
      "cell_type": "code",
      "execution_count": null,
      "metadata": {
        "id": "uK0TXPSKwnS2"
      },
      "outputs": [],
      "source": [
        "image = cv2.imread('./input_files/lenna.png')\n",
        "image = cv2.cvtColor(image, cv2.COLOR_BGR2GRAY)\n",
        "\n",
        "horizontal = cv2.Sobel(image, cv2.CV_64F, 1, 0, ksize=3)\n",
        "vertical = cv2.Sobel(image, cv2.CV_64F, 0, 1, ksize=3)\n",
        "\n",
        "figure, axes = plt.subplots(ncols=3, nrows=1, figsize=(4*3, 4))\n",
        "for axe, image, title in zip(axes, [image, horizontal, vertical], ['original_image', 'horizontal', 'vertical']):\n",
        "    axe.imshow(image, cmap='gray')\n",
        "    axe.set_title(title)\n",
        "    axe.axis('off')\n",
        "plt.show()"
      ]
    },
    {
      "cell_type": "markdown",
      "metadata": {
        "id": "jifnMFvx_wqw"
      },
      "source": [
        "[cv2. Laplacian()](https://docs.opencv.org/4.5.3/d4/d86/group__imgproc__filter.html#gad78703e4c8fe703d479c1860d76429e6)"
      ]
    },
    {
      "cell_type": "markdown",
      "metadata": {
        "id": "RhGOddhI_wqw"
      },
      "source": [
        "\\begin{equation*}\n",
        "L =\n",
        "\\begin{bmatrix}\n",
        "0 & 1 & 0\\\\\n",
        "1 & -4 & 1 \\\\\n",
        "0 & 1 & 0\n",
        "\\end{bmatrix}\n",
        "\\end{equation*}"
      ]
    },
    {
      "cell_type": "code",
      "execution_count": null,
      "metadata": {
        "id": "CckOHrYdvwX2"
      },
      "outputs": [],
      "source": [
        "image = cv2.imread('./input_files/lenna.png')\n",
        "image = cv2.cvtColor(image, cv2.COLOR_BGR2GRAY)\n",
        "\n",
        "lap = np.abs(cv2.Laplacian(image, cv2.CV_64F, ksize=1))\n",
        "\n",
        "figure, axes = plt.subplots(ncols=2, nrows=1, figsize=(4*2, 4))\n",
        "for axe, img, title in zip(axes, [image, lap], ['original_image', 'edges']):\n",
        "    axe.imshow(img\n",
        ", cmap='gray')\n",
        "    axe.set_title(title)\n",
        "    axe.axis('off')\n",
        "plt.show()"
      ]
    },
    {
      "cell_type": "markdown",
      "metadata": {
        "id": "Wu52DrCe_wqw"
      },
      "source": [
        "### Упражнение:\n",
        "* Посчитать градиент изображения и нарисовать амплитуду градиента."
      ]
    },
    {
      "cell_type": "markdown",
      "metadata": {
        "id": "mJswRYMXYEeU"
      },
      "source": [
        "# Яркость, контраст и гамма коррекция\n",
        "\n",
        "В отличие от пространственной обработки изображений преобразование яркости, контраста и гамма коррекции применяются к каждому пикселю индивидуально. Сейчас мы познакомимся с такими вещами, как гистограммы, изменение яркости, контраста, гамма коррекцией, LUT.\n",
        "\n"
      ]
    },
    {
      "cell_type": "markdown",
      "metadata": {
        "id": "PmPwyLKZ5n80"
      },
      "source": [
        "## Гистограммы"
      ]
    },
    {
      "cell_type": "code",
      "execution_count": null,
      "metadata": {
        "id": "ZHITKbW3rGy5"
      },
      "outputs": [],
      "source": [
        "img = cv2.imread('./input_files/lenna.png')\n",
        "gray = cv2.cvtColor(img, cv2.COLOR_BGR2GRAY)\n",
        "\n",
        "plt.figure(figsize=(4, 4))\n",
        "plt.axis('off')\n",
        "plt.imshow(gray, cmap='gray');"
      ]
    },
    {
      "cell_type": "markdown",
      "metadata": {
        "id": "FzTS-sE-h4jT"
      },
      "source": [
        "Как мы с вами можем вообще исследовать данное изображение? Одним из таких способов является гистограмма. Она показывает сколько пикселей с различной яркостью присутствует на изображении. [cv2.calcHist](https://www.geeksforgeeks.org/python-opencv-cv2-calchist-method/)"
      ]
    },
    {
      "cell_type": "code",
      "execution_count": null,
      "metadata": {
        "id": "EGaXTjDHreE9"
      },
      "outputs": [],
      "source": [
        "hist = cv2.calcHist([gray], [0], None, [256], [0, 256])\n",
        "plt.figure(figsize=(4, 4))\n",
        "plt.plot(hist);"
      ]
    },
    {
      "cell_type": "markdown",
      "metadata": {
        "id": "rwAmprQMiWKg"
      },
      "source": [
        "Аналагичную гистограмму можно построить и для цветной картинки по каждому каналу отдельно."
      ]
    },
    {
      "cell_type": "code",
      "execution_count": null,
      "metadata": {
        "id": "R6sjsddktVx7"
      },
      "outputs": [],
      "source": [
        "img = cv2.imread('./input_files/lenna.png')[:,:,::-1]\n",
        "\n",
        "plt.figure(figsize=(4, 4))\n",
        "plt.axis('off')\n",
        "plt.imshow(img);"
      ]
    },
    {
      "cell_type": "code",
      "execution_count": null,
      "metadata": {
        "id": "-YEgf4vutVyG"
      },
      "outputs": [],
      "source": [
        "color = ('red','green','blue')\n",
        "plt.figure(figsize=(4, 4))\n",
        "for i,col in enumerate(color):\n",
        "    hist = cv2.calcHist([img], [i], None, [256], [0, 256])\n",
        "    plt.plot(hist, color = col)\n",
        "    plt.xlim([0,256])\n",
        "plt.show()"
      ]
    },
    {
      "cell_type": "markdown",
      "source": [
        "Пример использования цветовой гистограммы для изменения цветовой палитры изображения"
      ],
      "metadata": {
        "id": "b-Yeq6gT0AcZ"
      }
    },
    {
      "cell_type": "code",
      "source": [
        "!wget https://burst.shopifycdn.com/photos/portrait-of-empire-state-building-on-cloudy-day.jpg -q -O cloudy.jpg\n",
        "!wget https://c4.wallpaperflare.com/wallpaper/273/976/51/5bd27a83e5161-wallpaper-preview.jpg -q -O sunset.jpg"
      ],
      "metadata": {
        "id": "ZXoEH4Z9yM3Y"
      },
      "execution_count": null,
      "outputs": []
    },
    {
      "cell_type": "code",
      "source": [
        "cloudy = cv2.imread('cloudy.jpg')\n",
        "sunset = cv2.imread('sunset.jpg')\n",
        "cloudy = cv2.resize(cloudy, sunset.shape[:2][::-1])"
      ],
      "metadata": {
        "id": "etJI4JWzyM6x"
      },
      "execution_count": null,
      "outputs": []
    },
    {
      "cell_type": "code",
      "source": [
        "import skimage as ski\n",
        "plt.figure(figsize=(12, 5))\n",
        "plt.imshow(np.concatenate([cloudy, ski.exposure.match_histograms(cloudy, sunset, channel_axis=2).astype(np.uint8), sunset], axis=1))\n",
        "plt.show()"
      ],
      "metadata": {
        "id": "r-kweuCuyvPI"
      },
      "execution_count": null,
      "outputs": []
    },
    {
      "cell_type": "markdown",
      "metadata": {
        "id": "sSu8OJvijnWp"
      },
      "source": [
        "## Яркость и контраст\n",
        "\n",
        "Давайте вспомним, что изображение можно представить в виде функции\n",
        "$f(x, y)$. Тогда мы можем применять к данной функции различные операции, в том числе сложение и умножение. Давайте зададим новое изображение по правилу:\n",
        "\n",
        "$g(x, y) = a * f(x, y) + b$\n",
        "\n",
        "Единственное, стоит учесть, что при выходе значения пикселя за границы [0, 255] нам надо его ограничить. Для этого существует функция np.clip(min, max), которая обрезает значения до заданного диапазона."
      ]
    },
    {
      "cell_type": "code",
      "execution_count": null,
      "metadata": {
        "id": "ckq3E0u2tfXl"
      },
      "outputs": [],
      "source": [
        "alpha = 1\n",
        "beta = 100\n",
        "\n",
        "image = cv2.imread('./input_files/lenna.png')[:,:,::-1]\n",
        "new_image = np.zeros_like(img)\n",
        "\n",
        "new_image = np.clip(alpha * image + beta, 0, 255)\n",
        "\n",
        "figure, axes = plt.subplots(ncols=2, nrows=1, figsize=(8, 4))\n",
        "for img, axe in zip([image, new_image], axes):\n",
        "    axe.imshow(img)\n",
        "    axe.axis('off')\n",
        "plt.show()"
      ]
    },
    {
      "cell_type": "markdown",
      "metadata": {
        "id": "rjuhBqIcldYn"
      },
      "source": [
        "Существует и встроенная в opencv функция, реализующая эту же операцию"
      ]
    },
    {
      "cell_type": "code",
      "execution_count": null,
      "metadata": {
        "id": "lRo0_4TZmXZU"
      },
      "outputs": [],
      "source": [
        "alpha = 1\n",
        "beta = 100\n",
        "\n",
        "image = cv2.imread('./input_files/lenna.png')[:,:,::-1]\n",
        "new_image = cv2.convertScaleAbs(image, alpha=alpha, beta=beta)\n",
        "\n",
        "figure, axes = plt.subplots(ncols=2, nrows=1, figsize=(8, 4))\n",
        "for img, axe in zip([image, new_image], axes):\n",
        "    axe.imshow(img)\n",
        "    axe.axis('off')\n",
        "\n",
        "plt.show()"
      ]
    },
    {
      "cell_type": "markdown",
      "metadata": {
        "id": "7rUPufuvngOo"
      },
      "source": [
        "Давайте посмотрим теперь на черно-белый вариант:"
      ]
    },
    {
      "cell_type": "code",
      "execution_count": null,
      "metadata": {
        "id": "LV6uDk9Unk6u"
      },
      "outputs": [],
      "source": [
        "alpha = 1\n",
        "beta = 50\n",
        "\n",
        "image = cv2.imread('./input_files/lenna.png')\n",
        "image = cv2.cvtColor(image, cv2.COLOR_BGR2GRAY)\n",
        "new_image = cv2.convertScaleAbs(image, alpha=alpha, beta=beta)\n",
        "figure, axes = plt.subplots(ncols=2, nrows=1, figsize=(8, 4))\n",
        "for img, axe in zip([image, new_image], axes):\n",
        "    axe.imshow(img, cmap='gray', vmin=0, vmax=255)\n",
        "    axe.axis('off')\n",
        "\n",
        "plt.show()"
      ]
    },
    {
      "cell_type": "markdown",
      "metadata": {
        "id": "KaoFUluUnMb_"
      },
      "source": [
        "Давайте теперь посмотрим на гистограммы:"
      ]
    },
    {
      "cell_type": "code",
      "execution_count": null,
      "metadata": {
        "id": "OZMO-M4bmtkP"
      },
      "outputs": [],
      "source": [
        "figure, axes = plt.subplots(ncols=2, nrows=1, figsize=(8, 4))\n",
        "for img, axe in zip([image, new_image], axes):\n",
        "    hist = cv2.calcHist([img], [0], None, [256], [0, 256])\n",
        "    axe.plot(hist)\n",
        "    axe.set_ylim([0, 5000])\n",
        "plt.show()"
      ]
    },
    {
      "cell_type": "code",
      "execution_count": null,
      "metadata": {
        "id": "eSMqcreSoE2f"
      },
      "outputs": [],
      "source": [
        "image = cv2.imread('./input_files/lenna.png')\n",
        "image = cv2.cvtColor(image, cv2.COLOR_BGR2GRAY)\n",
        "\n",
        "def update_plot(alpha, beta):\n",
        "    new_image = cv2.convertScaleAbs(image, alpha=alpha, beta=beta)\n",
        "\n",
        "    figure, axes = plt.subplots(ncols=2, nrows=2, figsize=(8, 8))\n",
        "    for img, axe in zip([image, new_image], axes[0]):\n",
        "        axe.imshow(img, cmap='gray', vmin=0, vmax=255)\n",
        "        axe.axis('off')\n",
        "\n",
        "    for img, axe in zip([image, new_image], axes[1]):\n",
        "        hist = cv2.calcHist([img], [0], None, [256], [0, 256])\n",
        "        axe.plot(hist)\n",
        "        axe.set_ylim([0, 5000])\n",
        "    display(figure)\n",
        "    plt.close(figure)\n",
        "    # plt.show()\n",
        "\n",
        "alpha = widgets.FloatSlider(min=-2, max=3, value=1, description='alpha:')\n",
        "beta = widgets.IntSlider(min=-500, max=255, value=0, description='beta:')\n",
        "\n",
        "widgets.interactive(update_plot, alpha=alpha, beta=beta)"
      ]
    },
    {
      "cell_type": "markdown",
      "metadata": {
        "id": "cElArBydsgXR"
      },
      "source": [
        "При отрицательных значениях параметра $beta$ у нас возникает странный эффект. Это происходит из-за взятия модуля модуля в функции [cv2.convertScaleAbs](https://docs.opencv.org/3.4/d2/de8/group__core__array.html#ga3460e9c9f37b563ab9dd550c4d8c4e7d). Можно вручную считать значения в пикселях, чтобы устранить этот эффект."
      ]
    },
    {
      "cell_type": "code",
      "execution_count": null,
      "metadata": {
        "id": "ISa6MXBCturl"
      },
      "outputs": [],
      "source": [
        "image = cv2.imread('./input_files/lenna.png')\n",
        "image = cv2.cvtColor(image, cv2.COLOR_BGR2GRAY)\n",
        "\n",
        "def update_plot(alpha, beta):\n",
        "    new_image = np.clip(alpha * image + beta, 0, 255).astype(np.uint8)\n",
        "    figure, axes = plt.subplots(ncols=2, nrows=2, figsize=(8, 8))\n",
        "    for img, axe in zip([image, new_image], axes[0]):\n",
        "        axe.imshow(img, cmap='gray', vmin=0, vmax=255)\n",
        "        axe.axis('off')\n",
        "    for img, axe in zip([image, new_image], axes[1]):\n",
        "        hist = cv2.calcHist([img], [0], None, [256], [0, 256])\n",
        "        axe.plot(hist)\n",
        "        axe.set_ylim([0, 5000])\n",
        "    display(figure)\n",
        "    plt.close(figure)\n",
        "\n",
        "alpha = widgets.FloatSlider(min=-2, max=3, value=1, description='alpha:')\n",
        "beta = widgets.IntSlider(min=-255, max=255, value=0, description='beta:')\n",
        "widgets.interactive(update_plot, alpha=alpha, beta=beta)"
      ]
    },
    {
      "cell_type": "code",
      "source": [
        "alpha = 1\n",
        "beta = 100\n",
        "\n",
        "image = cv2.imread('./input_files/lenna.png')[:,:,::-1]\n",
        "figure, axes = plt.subplots(ncols=2, nrows=1, figsize=(8, 4))\n",
        "for img, axe in zip([image, 255-image], axes):\n",
        "    axe.imshow(img)\n",
        "    axe.axis('off')\n",
        "\n",
        "plt.show()"
      ],
      "metadata": {
        "id": "NyMcyovzy5fD"
      },
      "execution_count": null,
      "outputs": []
    },
    {
      "cell_type": "markdown",
      "metadata": {
        "id": "EG6s1NbNwu43"
      },
      "source": [
        "## LUT\n",
        "В примерах выше мы для каждого значения пикселя применяли преобразование $a * x + b$. Но функции могут быть намного сложнее. Для того, чтобы не вычислять каждый раз значение в каждой точке существует LUT (Look up table).\n",
        "Давайте вкратце рассмотрим, что это такое."
      ]
    },
    {
      "cell_type": "code",
      "execution_count": null,
      "metadata": {
        "id": "FSK0V4wXzYoZ"
      },
      "outputs": [],
      "source": [
        "look_up_table = np.arange(0, 256)\n",
        "\n",
        "plt.figure(figsize=(4, 4))\n",
        "plt.plot(look_up_table)\n",
        "plt.xlabel('Old pixel value')\n",
        "plt.ylabel('New pixel value')\n",
        "plt.show()"
      ]
    },
    {
      "cell_type": "code",
      "execution_count": null,
      "metadata": {
        "id": "NEW6kRfj0Mtw"
      },
      "outputs": [],
      "source": [
        "image = cv2.imread('./input_files/lenna.png')\n",
        "image = cv2.cvtColor(image, cv2.COLOR_BGR2GRAY)\n",
        "new_image = cv2.LUT(image, look_up_table)\n",
        "\n",
        "figure, axes = plt.subplots(ncols=2, nrows=1, figsize=(8, 4))\n",
        "for img, axe in zip([image, new_image], axes):\n",
        "    axe.imshow(img, cmap='gray', vmin=0, vmax=255)\n",
        "    axe.axis('off')\n",
        "\n",
        "plt.show()"
      ]
    },
    {
      "cell_type": "markdown",
      "metadata": {
        "id": "2eQuDYwC0nRS"
      },
      "source": [
        "Это просто тождественное преобразование, так как мы по сути задали функцию $y = x$. Давайте вернемся к нашему примеру с $y = a * x + b$"
      ]
    },
    {
      "cell_type": "code",
      "execution_count": null,
      "metadata": {
        "id": "vTZjJgwX0-5S"
      },
      "outputs": [],
      "source": [
        "image = cv2.imread('./input_files/lenna.png')\n",
        "image = cv2.cvtColor(image, cv2.COLOR_BGR2GRAY)\n",
        "\n",
        "def update_plot(alpha, beta):\n",
        "    look_up_table = np.arange(0, 256)\n",
        "    look_up_table = np.clip(alpha * look_up_table + beta, 0, 255).astype(np.uint8)\n",
        "\n",
        "    new_image = cv2.LUT(image, look_up_table)\n",
        "\n",
        "    figure, axes = plt.subplots(ncols=2, nrows=1, figsize=(8, 4))\n",
        "    for img, axe in zip([image, new_image], axes):\n",
        "        axe.imshow(img, cmap='gray', vmin=0, vmax=255)\n",
        "        axe.axis('off')\n",
        "    display(figure)\n",
        "    plt.close(figure)\n",
        "    figure, axes = plt.subplots(ncols=3, nrows=1, figsize=(12, 4))\n",
        "    for img, axe in zip([image, new_image], axes[:2]):\n",
        "        hist = cv2.calcHist([img], [0], None, [256], [0, 256])\n",
        "        axe.plot(hist)\n",
        "        axe.set_ylim([0, 5000])\n",
        "    axes[2].plot(look_up_table)\n",
        "    axes[2].set_ylim([0, 260])\n",
        "    display(figure)\n",
        "    plt.close(figure)\n",
        "\n",
        "alpha = widgets.FloatSlider(min=-2, max=3, value=1, description='alpha:')\n",
        "beta = widgets.IntSlider(min=-255, max=255, value=0, description='beta:')\n",
        "widgets.interactive(update_plot, alpha=alpha, beta=beta)"
      ]
    },
    {
      "cell_type": "markdown",
      "metadata": {
        "id": "pwDPUo0A34K8"
      },
      "source": [
        "## Гамма коррекция.\n",
        "\n",
        "Гамма коррекция задается по следующей формуле:\n",
        "\n",
        "$$ O = (I / 255) ^ \\gamma * 255$$\n",
        "\n",
        "Где $I$ - исходное изображение, $O$ - преобразованное, $\\gamma$ - непосредственно значение гаммы.\n",
        "\n",
        "Давайте визуализируем LUT для гамма коррекции:"
      ]
    },
    {
      "cell_type": "code",
      "execution_count": null,
      "metadata": {
        "id": "8H1cWVbM8HLs"
      },
      "outputs": [],
      "source": [
        "def update_plot(gamma):\n",
        "    look_up_table = np.clip((np.arange(0, 256) / 255.0)**gamma * 255.0, 0, 255)\n",
        "    plt.figure(figsize=(4, 4))\n",
        "    plt.plot(look_up_table)\n",
        "    plt.xlabel('Old pixel value')\n",
        "    plt.ylabel('New pixel value')\n",
        "    plt.show()\n",
        "\n",
        "gamma = widgets.FloatSlider(min=0.001, max=25, value=1, description='gamma:')\n",
        "widgets.interactive(update_plot, gamma=gamma)"
      ]
    },
    {
      "cell_type": "code",
      "execution_count": null,
      "metadata": {
        "id": "q0czAV85-LGb"
      },
      "outputs": [],
      "source": [
        "image = cv2.imread('./input_files/lenna.png')\n",
        "image = cv2.cvtColor(image, cv2.COLOR_BGR2GRAY)\n",
        "\n",
        "def update_plot(gamma):\n",
        "    look_up_table = np.clip((np.arange(0, 256) / 255.0)**gamma * 255.0, 0, 255).astype(np.uint8)\n",
        "    new_image = cv2.LUT(image, look_up_table)\n",
        "    figure, axes = plt.subplots(ncols=3, nrows=1, figsize=(12, 4))\n",
        "    for img, axe in zip([image, new_image], axes[:2]):\n",
        "        axe.imshow(img, cmap='gray', vmin=0, vmax=255)\n",
        "        axe.axis('off')\n",
        "    axes[2].plot(look_up_table)\n",
        "    axes[2].set_ylim([0, 260])\n",
        "    axes[2].set_xlim([0, 260])\n",
        "    display(figure)\n",
        "    plt.close(figure)\n",
        "gamma = widgets.FloatSlider(min=0.001, max=4, value=1, description='gamma:')\n",
        "widgets.interactive(update_plot, gamma=gamma)"
      ]
    },
    {
      "cell_type": "code",
      "execution_count": null,
      "metadata": {
        "id": "msH-2TDo_MHT"
      },
      "outputs": [],
      "source": [
        "image = cv2.imread('./input_files/lenna.png')[:,:,::-1]\n",
        "\n",
        "def update_plot(gamma):\n",
        "    look_up_table = np.clip((np.arange(0, 256) / 255.0)**gamma * 255.0, 0, 255).astype(np.uint8)\n",
        "    new_image = cv2.LUT(image, look_up_table)\n",
        "    figure, axes = plt.subplots(ncols=3, nrows=1, figsize=(15, 5))\n",
        "    for img, axe in zip([image, new_image], axes[:2]):\n",
        "        axe.imshow(img)\n",
        "        axe.set_axis_off()\n",
        "    axes[2].plot(look_up_table)\n",
        "    axes[2].set_ylim([0, 260])\n",
        "    axes[2].set_xlim([0, 260])\n",
        "    display(figure)\n",
        "    plt.close(figure)\n",
        "gamma = widgets.FloatSlider(min=0.001, max=4, value=1, description='gamma:')\n",
        "widgets.interactive(update_plot, gamma=gamma)"
      ]
    },
    {
      "cell_type": "markdown",
      "metadata": {
        "id": "3XyqWTYgoM-F"
      },
      "source": [
        "# Бинаризация и трешолдинг\n",
        "\n",
        "Бинаризация изображения, это процесс, когда мы каждому пикселю присваиваем значение либо 0, либо 1 (иногда можно 255).\n",
        "\n",
        "Трешолдинг или пороговое преобразование, это когда мы задаем порог и какое-то правило, по которому в соответствие с заданным порогом меняем значения изображения."
      ]
    },
    {
      "cell_type": "markdown",
      "metadata": {
        "id": "wCd2gwzbolJM"
      },
      "source": [
        "## Simple Thresholding  "
      ]
    },
    {
      "cell_type": "code",
      "source": [
        "np.tile(np.arange(0, 3), (3, 2))"
      ],
      "metadata": {
        "id": "l5ZPu--o0ATo"
      },
      "execution_count": null,
      "outputs": []
    },
    {
      "cell_type": "code",
      "execution_count": null,
      "metadata": {
        "id": "menaEBuUowQq"
      },
      "outputs": [],
      "source": [
        "image = np.tile(np.arange(0, 255), (256, 1)).astype(np.uint8)\n",
        "plt.figure(figsize=(4, 4))\n",
        "plt.axis('off')\n",
        "plt.imshow(image, cmap='gray');"
      ]
    },
    {
      "cell_type": "markdown",
      "metadata": {
        "id": "yJ7B0fUvqCAp"
      },
      "source": [
        "Давайте рассмотрим, какие функции нам предоставляет opencv:\n",
        "Самое простое это [cv2.threshold()](https://docs.opencv.org/3.4/d7/d1b/group__imgproc__misc.html#gae8a4a146d1ca78c626a53577199e9c57)"
      ]
    },
    {
      "cell_type": "code",
      "execution_count": null,
      "metadata": {
        "id": "OZUsTXm1rHKw"
      },
      "outputs": [],
      "source": [
        "def update_plot(threshold):\n",
        "    ret, thresh_binary = cv2.threshold(image, threshold, 255, cv2.THRESH_BINARY)\n",
        "    figure, axes = plt.subplots(ncols=2, nrows=1, figsize=(8, 4))\n",
        "    for img, axe in zip([image, thresh_binary], axes):\n",
        "        axe.imshow(img, cmap='gray')\n",
        "    display(figure)\n",
        "    plt.close(figure)\n",
        "threshold = widgets.IntSlider(min=0, max=255, value=0,  description='threshold:')\n",
        "widgets.interactive(update_plot, threshold=threshold)"
      ]
    },
    {
      "cell_type": "code",
      "execution_count": null,
      "metadata": {
        "id": "Q77zAIQer3yH"
      },
      "outputs": [],
      "source": [
        "def update_plot(threshold):\n",
        "    ret, thresh_binary = cv2.threshold(image, threshold, 255, cv2.THRESH_BINARY_INV)\n",
        "    figure, axes = plt.subplots(ncols=2, nrows=1, figsize=(8, 4))\n",
        "    for img, axe in zip([image, thresh_binary], axes):\n",
        "        axe.imshow(img, cmap='gray')\n",
        "    display(figure)\n",
        "    plt.close(figure)\n",
        "threshold = widgets.IntSlider(min=0, max=255, value=0,  description='threshold:')\n",
        "widgets.interactive(update_plot, threshold=threshold)"
      ]
    },
    {
      "cell_type": "code",
      "execution_count": null,
      "metadata": {
        "id": "Cg1Rgv_dr-4r"
      },
      "outputs": [],
      "source": [
        "def update_plot(threshold):\n",
        "    ret, thresh_binary = cv2.threshold(image, threshold, 255, cv2.THRESH_TRUNC)\n",
        "    figure, axes = plt.subplots(ncols=2, nrows=1, figsize=(8, 4))\n",
        "    for img, axe in zip([image, thresh_binary], axes):\n",
        "        axe.imshow(img, cmap='gray', vmin=0, vmax=255)\n",
        "    display(figure)\n",
        "    plt.close(figure)\n",
        "threshold = widgets.IntSlider(min=0, max=255, value=0,  description='threshold:')\n",
        "widgets.interactive(update_plot, threshold=threshold)"
      ]
    },
    {
      "cell_type": "code",
      "execution_count": null,
      "metadata": {
        "id": "8y2GURA7sVDa"
      },
      "outputs": [],
      "source": [
        "def update_plot(threshold):\n",
        "    ret, thresh_binary = cv2.threshold(image, threshold, 255, cv2.THRESH_TOZERO)\n",
        "    figure, axes = plt.subplots(ncols=2, nrows=1, figsize=(8, 4))\n",
        "    for img, axe in zip([image, thresh_binary], axes):\n",
        "        axe.imshow(img, cmap='gray', vmin=0, vmax=255)\n",
        "    display(figure)\n",
        "    plt.close(figure)\n",
        "threshold = widgets.IntSlider(min=0, max=255, value=0,  description='threshold:')\n",
        "widgets.interactive(update_plot, threshold=threshold)"
      ]
    },
    {
      "cell_type": "code",
      "execution_count": null,
      "metadata": {
        "id": "ybaQSxuVscGT"
      },
      "outputs": [],
      "source": [
        "def update_plot(threshold):\n",
        "    ret, thresh_binary = cv2.threshold(image, threshold, 255, cv2.THRESH_TOZERO_INV)\n",
        "    figure, axes = plt.subplots(ncols=2, nrows=1, figsize=(8, 4))\n",
        "    for img, axe in zip([image, thresh_binary], axes):\n",
        "        axe.imshow(img, cmap='gray', vmin=0, vmax=255)\n",
        "    display(figure)\n",
        "    plt.close(figure)\n",
        "\n",
        "threshold = widgets.IntSlider(min=0, max=255, value=0,  description='threshold:')\n",
        "widgets.interactive(update_plot, threshold=threshold)"
      ]
    },
    {
      "cell_type": "markdown",
      "metadata": {
        "id": "TUtk_jOktJP_"
      },
      "source": [
        "## Adaptive Thresholding"
      ]
    },
    {
      "cell_type": "code",
      "execution_count": null,
      "metadata": {
        "id": "UhffKxiCthhu"
      },
      "outputs": [],
      "source": [
        "!wget \"https://www.quickdrawsupplies.com/wp-content/uploads/2022/08/4155-3.jpg\" -q -O ./input_files/sudoku.jpg"
      ]
    },
    {
      "cell_type": "code",
      "execution_count": null,
      "metadata": {
        "id": "3C1lk5AItup9"
      },
      "outputs": [],
      "source": [
        "img = cv2.imread('./input_files/sudoku.jpg')\n",
        "gray = cv2.cvtColor(img, cv2.COLOR_BGR2GRAY)\n",
        "\n",
        "plt.figure(figsize=(4, 4))\n",
        "plt.axis('off')\n",
        "plt.imshow(gray, cmap='gray');"
      ]
    },
    {
      "cell_type": "code",
      "execution_count": null,
      "metadata": {
        "id": "D7sMy6zAtyxS"
      },
      "outputs": [],
      "source": [
        "def update_plot(threshold):\n",
        "    ret, thresh_binary = cv2.threshold(gray, threshold, 255, cv2.THRESH_BINARY)\n",
        "    figure, axes = plt.subplots(ncols=2, nrows=1, figsize=(8, 4))\n",
        "    for img, axe in zip([gray, thresh_binary], axes):\n",
        "        axe.imshow(img, cmap='gray')\n",
        "    display(figure)\n",
        "    plt.close(figure)\n",
        "\n",
        "threshold = widgets.IntSlider(min=0, max=255, value=0, description='threshold:')\n",
        "widgets.interactive(update_plot, threshold=threshold)"
      ]
    },
    {
      "cell_type": "code",
      "execution_count": null,
      "metadata": {
        "id": "AYfg3thYuApD"
      },
      "outputs": [],
      "source": [
        "def update_plot(kernel_size, c):\n",
        "    threshold = cv2.adaptiveThreshold(gray, 255, cv2.ADAPTIVE_THRESH_MEAN_C, cv2.THRESH_BINARY, kernel_size, c)\n",
        "    figure, axes = plt.subplots(ncols=2, nrows=1, figsize=(8, 4))\n",
        "    for img, axe in zip([gray, threshold], axes):\n",
        "        axe.imshow(img, cmap='gray')\n",
        "    display(figure)\n",
        "    plt.close(figure)\n",
        "kernel_size = widgets.IntSlider(min=3, max=255, value=3, step=2, description='kernel_size:')\n",
        "c = widgets.IntSlider(min=0, max=255, value=0, step=1, description='c:')\n",
        "widgets.interactive(update_plot, kernel_size=kernel_size, c=c)"
      ]
    },
    {
      "cell_type": "code",
      "execution_count": null,
      "metadata": {
        "id": "agV3BCyavL5x"
      },
      "outputs": [],
      "source": [
        "def update_plot(kernel_size, c):\n",
        "    threshold = cv2.adaptiveThreshold(gray, 255, cv2.ADAPTIVE_THRESH_GAUSSIAN_C, cv2.THRESH_BINARY, kernel_size, c)\n",
        "    figure, axes = plt.subplots(ncols=2, nrows=1, figsize=(8, 4))\n",
        "    for img, axe in zip([gray, threshold], axes):\n",
        "        axe.imshow(img, cmap='gray')\n",
        "    display(figure)\n",
        "    plt.close(figure)\n",
        "\n",
        "kernel_size = widgets.IntSlider(min=3, max=255, value=3, step=2, description='kernel_size:')\n",
        "c = widgets.IntSlider(min=0, max=255, value=0, step=1, description='c:')\n",
        "widgets.interactive(update_plot, kernel_size=kernel_size, c=c)"
      ]
    },
    {
      "cell_type": "code",
      "source": [
        "_, threshold = cv2.threshold(gray, 0, 255, cv2.THRESH_BINARY+cv2.THRESH_OTSU)\n",
        "figure, axes = plt.subplots(ncols=2, nrows=1, figsize=(8, 4))\n",
        "for img, axe in zip([gray, threshold], axes):\n",
        "    axe.imshow(img, cmap='gray')\n",
        "plt.show()"
      ],
      "metadata": {
        "id": "S3dgB1xNViig"
      },
      "execution_count": null,
      "outputs": []
    },
    {
      "cell_type": "markdown",
      "metadata": {
        "id": "G5yhKauMiLyT"
      },
      "source": [
        "# Морфологические операции\n",
        "В биологии ***морфология*** занимается формой и строением животных и растений. В нашем же случае будет использоваться *математическая морфология* —  теория и техника анализа и обработки геометрических структур, основанная на теории множеств, топологии и случайных функциях.\n",
        "\n",
        "\n",
        "В данном уроке мы познакомимся с основными морфологическими операциями.\n",
        "В морфологических операциях всегда присутствуют две составляющие: исходное бинарное изображение и структурный элемент или примитив.\n",
        "\n",
        "В качестве исходного множества у нас будет вот такой смайлик (здесь мы видим не бинарное изображение, но это сделано для наглядности):\n",
        "\n",
        "<img src=\"https://i.ibb.co/QCdz87d/smile.png\" width=\"300\" height=\"300\">\n",
        "\n",
        "А в качестве структурного элемента будет вот такой крестик:\n",
        "\n",
        "<img src=\"https://i.ibb.co/HrnmSs8/cross.png\" width=\"100\" height=\"100\">\n",
        "\n",
        "Давайте сразу начнем с примеров, чтобы лучше разобраться. Для более глубокого изучения темы и для определений в терминах теории множеств настоятельно рекомендую посмотреть список дополнительной литературы.\n",
        "\n",
        "📚 Список литературы по данной теме\n",
        "\n",
        "- [Цифровая обработка изображений | Гонсалес Рафаэль, Вудс Ричард](https://www.ozon.ru/product/tsifrovaya-obrabotka-izobrazheniy-gonsales-rafael-vuds-richard-242389345/?sh=ZNJzjW5E&utm_source=google&utm_medium=cpc&utm_campaign=RF_Regstore_Product_DSA_NewClients&gclid=Cj0KCQjw8p2MBhCiARIsADDUFVF3HEhYSOdzOa4Wtw7NH1rZiDgX6pZt67qSx2P8WziU2zPP_kvTd9YaAtJAEALw_wcB) глава 9.\n",
        "- Вот этот [сайт](https://homepages.inf.ed.ac.uk/rbf/HIPR2/morops.htm)\n",
        "- Документация [OpenCV](https://docs.opencv.org/4.5.3/dd/dd7/tutorial_morph_lines_detection.html)"
      ]
    },
    {
      "cell_type": "markdown",
      "metadata": {
        "id": "Xyx7nMPExyr5"
      },
      "source": [
        "## Эрозия\n",
        "\n",
        "Создадим пустую картинку такого же размера, как и исходная:"
      ]
    },
    {
      "cell_type": "markdown",
      "source": [
        "<img src=\"https://i.ibb.co/QCrRKJ9/empty.png\" width=\"300\" height=\"300\">"
      ],
      "metadata": {
        "id": "fiqZx5ApkArU"
      }
    },
    {
      "cell_type": "markdown",
      "metadata": {
        "id": "oKJ5q2B45Ljs"
      },
      "source": [
        "Давайте начнем перемещать центр нашего примитива по исходному изображению таким образом, чтобы он накладывался на каждый пиксель нашего смайлика."
      ]
    },
    {
      "cell_type": "markdown",
      "metadata": {
        "id": "oEFTsfJx59su"
      },
      "source": [
        "<img src=\"https://i.ibb.co/9prjJCV/1.png\" width=\"300\" height=\"300\">"
      ]
    },
    {
      "cell_type": "markdown",
      "metadata": {
        "id": "-_oyEFSf6Pnh"
      },
      "source": [
        "Если при этом весь примитив содержится в исходном множестве, то местоположение этого центра будет закрашено в результирующей картинке. Если нет, то остается пустым (черным) пикселем.\n",
        "\n",
        "В данном случае у нас два элемента примитива оказались вне смайлика:"
      ]
    },
    {
      "cell_type": "markdown",
      "metadata": {
        "id": "1JM1A5P47b7L"
      },
      "source": [
        "<img src=\"https://i.ibb.co/wy46JdG/2.png\" height=\"300\" width=\"300\">"
      ]
    },
    {
      "cell_type": "markdown",
      "metadata": {
        "id": "_LCq46_b7e-H"
      },
      "source": [
        "Поэтому мы переходим дальше. Пройдясь по всему левому глазу мы обнаружим, что только в центре будет выполняться указанное выше условие:"
      ]
    },
    {
      "cell_type": "markdown",
      "metadata": {
        "id": "xb5sDiP08eS7"
      },
      "source": [
        "<img src=\"https://i.ibb.co/nLP8jh1/3.png\" width=\"300\" height=\"300\">"
      ]
    },
    {
      "cell_type": "markdown",
      "metadata": {
        "id": "oc9Snfi68gWr"
      },
      "source": [
        "Значит в результирующее множество для левого глаза попадет только центральный пиксель."
      ]
    },
    {
      "cell_type": "markdown",
      "metadata": {
        "id": "I1UM3xLh9Ah1"
      },
      "source": [
        "<img src=\"https://i.ibb.co/ZM3v6xs/4.png\" width=\"300\" height=\"300\">"
      ]
    },
    {
      "cell_type": "markdown",
      "metadata": {
        "id": "gjjOWnuE9Fbe"
      },
      "source": [
        "Поступим аналогично с правым глазом и улыбкой:"
      ]
    },
    {
      "cell_type": "markdown",
      "metadata": {
        "id": "K3G5zvW8_vcY"
      },
      "source": [
        "<img src=\"https://i.ibb.co/mt1kD6Q/5.png\" width=\"300\" height=\"300\">"
      ]
    },
    {
      "cell_type": "markdown",
      "metadata": {
        "id": "Hypk31DM_3GS"
      },
      "source": [
        "Хммм, кажется, что наш друг чем-то недоволен? Да мы же только что применили к нему эрозию! Кому такое понравится?\n",
        "\n",
        "Давайте теперь посмотрим, как мы можем провернуть такое же при помощи OpenCV? Для этого в библиотеке присутствует функция [cv2.erode()](https://docs.opencv.org/4.5.3/d4/d86/group__imgproc__filter.html#gaeb1e0c1033e3f6b891a25d0511362aeb). Давайте воспользуемся ей:"
      ]
    },
    {
      "cell_type": "code",
      "execution_count": null,
      "metadata": {
        "id": "Ds0XXBumBItj"
      },
      "outputs": [],
      "source": [
        "# создаем смайлик (придется вручную, но ничего страшного)\n",
        "\n",
        "def create_smile():\n",
        "    smile = np.zeros((16, 16), dtype=np.uint8)\n",
        "    smile[3:6, 3:6] = 255\n",
        "    smile[3:6, 10:13] = 255\n",
        "    smile[10:11, 3:13] = 255\n",
        "    smile[11:12, 4:12] = 255\n",
        "    smile[12:13, 5:11] = 255\n",
        "    return smile\n",
        "\n",
        "smile = create_smile()\n",
        "\n",
        "plt.figure(figsize=(4, 4))\n",
        "plt.axis('off')\n",
        "plt.imshow(smile, cmap='gray');"
      ]
    },
    {
      "cell_type": "markdown",
      "metadata": {
        "id": "eIQ1nrbbBjeb"
      },
      "source": [
        "Да, на бинарном изображении он выглядит не так весело, как раньше, но ничего страшного. Нам осталось задать примитив и применить эрозию:"
      ]
    },
    {
      "cell_type": "code",
      "execution_count": null,
      "metadata": {
        "id": "55hA24doB6Ik"
      },
      "outputs": [],
      "source": [
        "kernel = np.zeros((3,3), np.uint8)\n",
        "kernel[1,:] = 1\n",
        "kernel[:,1] = 1\n",
        "kernel"
      ]
    },
    {
      "cell_type": "markdown",
      "metadata": {
        "id": "-5vvZTtWCmzM"
      },
      "source": [
        "Вам тоже не нравится данный фрагмент кода, где мы закрашиваем вручную белые части на нашем структурном элементе? К счастью, в OpenCV есть функция [cv2.getStructuringElement()](https://docs.opencv.org/4.5.3/d4/d86/group__imgproc__filter.html#gac342a1bb6eabf6f55c803b09268e36dc). С ее помощью мы можем получить различные примитивы. Нам на выбор доступны прямоугольники, крестики и эллипсы."
      ]
    },
    {
      "cell_type": "code",
      "execution_count": null,
      "metadata": {
        "id": "rw_gO4xHDNQY"
      },
      "outputs": [],
      "source": [
        "rectangle = cv2.getStructuringElement(cv2.MORPH_RECT, (5,5))\n",
        "ellipse = cv2.getStructuringElement(cv2.MORPH_ELLIPSE, (5,5))\n",
        "cross = cv2.getStructuringElement(cv2.MORPH_CROSS, (5, 5))\n",
        "for m in [rectangle, ellipse, cross]:\n",
        "    print(m)\n",
        "    print('=============')"
      ]
    },
    {
      "cell_type": "markdown",
      "metadata": {
        "id": "HRW-CLsjF6fB"
      },
      "source": [
        "Давайте теперь вернемся к нашему смайлику и применим к нему эрозию:"
      ]
    },
    {
      "cell_type": "code",
      "execution_count": null,
      "metadata": {
        "id": "s3kEPzNNGFAf"
      },
      "outputs": [],
      "source": [
        "smile = create_smile()\n",
        "kernel = cv2.getStructuringElement(cv2.MORPH_CROSS, (3, 3))\n",
        "erosion = cv2.erode(smile, kernel, iterations=1)\n",
        "figure, axes = plt.subplots(ncols=2, nrows=1, figsize=(8, 4))\n",
        "for img, axe in zip([smile, erosion], axes):\n",
        "    axe.imshow(img, cmap='gray')\n",
        "plt.show()"
      ]
    },
    {
      "cell_type": "markdown",
      "metadata": {
        "id": "qJGrXDxEJNY4"
      },
      "source": [
        "## Упражнение\n",
        "\n",
        "Поиграемся с различными структурными элементами и смайликом. Попробуйте применить различные структурные элементы (квадрат, круг, линию) и посмотреть, как изменится смайлик."
      ]
    },
    {
      "cell_type": "code",
      "execution_count": null,
      "metadata": {
        "id": "g_i7jUOlJzmn"
      },
      "outputs": [],
      "source": [
        "smile = create_smile()\n",
        "kernel = cv2.getStructuringElement(cv2.MORPH_RECT, (3, 3))\n",
        "erosion = cv2.erode(smile, kernel, iterations=1)\n",
        "\n",
        "figure, axes = plt.subplots(ncols=2, nrows=1, figsize=(8, 4))\n",
        "\n",
        "for img, axe in zip([smile, erosion], axes):\n",
        "    axe.imshow(img, cmap='gray')\n",
        "plt.show()"
      ]
    },
    {
      "cell_type": "markdown",
      "metadata": {
        "id": "Cv77qewoKfv8"
      },
      "source": [
        "## Дилатация\n",
        "\n",
        "Дилатация противоположна эрозии. Начнем все с того же. Создадим пустое изображение, куда будем помещать результаты работы."
      ]
    },
    {
      "cell_type": "markdown",
      "metadata": {
        "id": "76i86lKnMp20"
      },
      "source": [
        "<img src=\"https://i.ibb.co/QCrRKJ9/empty.png\" width=\"300\" height=\"300\">"
      ]
    },
    {
      "cell_type": "markdown",
      "metadata": {
        "id": "bW6l9f7wMrGb"
      },
      "source": [
        "Далее также начнем проходиться центром нашего примитива по пикселям исходной картинки. При этом мы будем закрашивать в результирующем изображении все те пиксели, на которых лежит примитив, если он имеет хотя бы одну точку пересечения с ненулевыми пикселями исходного изображения:"
      ]
    },
    {
      "cell_type": "markdown",
      "source": [
        "<img src=\"https://i.ibb.co/9prjJCV/1.png\" widht=\"300\" height=\"300\">"
      ],
      "metadata": {
        "id": "qYvRBAZolaqO"
      }
    },
    {
      "cell_type": "markdown",
      "metadata": {
        "id": "glHAW2LQNU-0"
      },
      "source": [
        "Здесь все отлично, поэтому в результирующее изображение мы добавляем значение на текущей позиции."
      ]
    },
    {
      "cell_type": "markdown",
      "metadata": {
        "id": "XjaO-OSsN8Ql"
      },
      "source": [
        "<img src=\"https://i.ibb.co/z4N2Sdv/dilation.png\" width=\"300\" height=\"300\">"
      ]
    },
    {
      "cell_type": "markdown",
      "metadata": {
        "id": "TL_k543POBYu"
      },
      "source": [
        "Проходясь таким образом по всему изображению мы достигнем следующего результата:"
      ]
    },
    {
      "cell_type": "markdown",
      "metadata": {
        "id": "b_OHZLslLOPZ"
      },
      "source": [
        "<img src=\"https://i.ibb.co/59X2x6D/dilation1.png\" width=\"300\" height=\"300\">"
      ]
    },
    {
      "cell_type": "markdown",
      "metadata": {
        "id": "rQawCWOWTDn9"
      },
      "source": [
        "В OpenCV дилатация представлена функцией [cv2.dilate()](https://docs.opencv.org/4.5.3/d4/d86/group__imgproc__filter.html#ga4ff0f3318642c4f469d0e11f242f3b6c)."
      ]
    },
    {
      "cell_type": "code",
      "execution_count": null,
      "metadata": {
        "id": "odquF8DtK-W5"
      },
      "outputs": [],
      "source": [
        "smile = create_smile()\n",
        "kernel = cv2.getStructuringElement(cv2.MORPH_CROSS, (3, 3))\n",
        "dilation = cv2.dilate(smile, kernel, iterations=1)\n",
        "\n",
        "figure, axes = plt.subplots(ncols=2, nrows=1, figsize=(8, 4))\n",
        "for img, axe in zip([smile, dilation], axes):\n",
        "    axe.imshow(img, cmap='gray')\n",
        "plt.show()"
      ]
    },
    {
      "cell_type": "markdown",
      "metadata": {
        "id": "n3pkBTd8O1A8"
      },
      "source": [
        "## Упражнение\n",
        "\n",
        "Попробуйте догадаться, как нам применить дилатацию, чтобы получить эрозию и наоборот?\n"
      ]
    },
    {
      "cell_type": "code",
      "execution_count": null,
      "metadata": {
        "id": "3W_Z-hi0PB8-"
      },
      "outputs": [],
      "source": [
        "smile = create_smile()\n",
        "kernel = cv2.getStructuringElement(cv2.MORPH_CROSS, (3, 3))\n",
        "# erosion = # что-то другое, но не эрозия\n",
        "\n",
        "figure, axes = plt.subplots(ncols=2, nrows=1, figsize=(8, 4))\n",
        "\n",
        "for img, axe in zip([smile, erosion], axes):\n",
        "    axe.imshow(img, cmap='gray')\n",
        "plt.show()"
      ]
    },
    {
      "cell_type": "markdown",
      "metadata": {
        "id": "41g7BZ_2SzCA"
      },
      "source": [
        "## Opening (размыкание)\n",
        "\n",
        "Выше мы могли заметить, что дилатация приводит к расширению деталей на изображении, а эрозия — к их сужению.\n",
        "\n",
        "Давайте теперь попробуем применить сначала эрозию, а затем дилатацию и посмотреть на результат:"
      ]
    },
    {
      "cell_type": "code",
      "execution_count": null,
      "metadata": {
        "id": "OxfDcy9P5ay9"
      },
      "outputs": [],
      "source": [
        "smile = create_smile()\n",
        "kernel = cv2.getStructuringElement(cv2.MORPH_CROSS, (3, 3), anchor=(1, 1))\n",
        "\n",
        "erosion = cv2.erode(smile, kernel, iterations=1)\n",
        "opening = cv2.dilate(erosion, kernel, iterations=1)\n",
        "\n",
        "figure, axes = plt.subplots(ncols=3, nrows=1, figsize=(12, 4))\n",
        "\n",
        "for img, axe in zip([smile, erosion, opening], axes):\n",
        "    axe.imshow(img, cmap='gray')\n",
        "plt.show()"
      ]
    },
    {
      "cell_type": "markdown",
      "metadata": {
        "id": "TIV-Fb4B8fAC"
      },
      "source": [
        "Получается, что одна операция это по сути поочередное применение двух других. Неужели нам придется писать каждый раз их поочередно? К счастью, в OpenCV есть функция [cv2.morphologyEx()](https://docs.opencv.org/4.5.3/d4/d86/group__imgproc__filter.html#ga67493776e3ad1a3df63883829375201f). Она позволяет указать нам какую морфологическую операцию применить к изображению. Это можно задать при помощи следующих [флагов](https://docs.opencv.org/4.5.3/d4/d86/group__imgproc__filter.html#ga7be549266bad7b2e6a04db49827f9f32):\n",
        "- cv2.MORPH_ERODE\n",
        "- cv2.MORPH_DILATE\n",
        "- cv2.MORPH_OPEN\n",
        "- cv2.MORPH_CLOSE\n",
        "- cv2.MORPH_GRADIENT\n",
        "- cv2.MORPH_TOPHAT\n",
        "- cv2.MORPH_BLACKHAT\n",
        "- cv2.MORPH_HITMISS\n",
        "\n",
        "\n",
        "То есть код выше мы можем переписать таким образом:\n"
      ]
    },
    {
      "cell_type": "code",
      "execution_count": null,
      "metadata": {
        "id": "6Dx16sfw8drr"
      },
      "outputs": [],
      "source": [
        "smile = create_smile()\n",
        "kernel = cv2.getStructuringElement(cv2.MORPH_CROSS, (3, 3), anchor=(1, 1))\n",
        "opening = cv2.morphologyEx(smile, cv2.MORPH_OPEN, kernel)\n",
        "\n",
        "figure, axes = plt.subplots(ncols=2, nrows=1, figsize=(8, 4))\n",
        "for img, axe in zip([smile, opening], axes):\n",
        "    axe.imshow(img, cmap='gray')\n",
        "plt.show()"
      ]
    },
    {
      "cell_type": "markdown",
      "metadata": {
        "id": "VKbgzZpp-Wz_"
      },
      "source": [
        "В чем же смысл операции opening? К ней следует относиться таким образом, что она сначала удаляет мелкий шум или размыкает исходное множество, при этом не сильно меняя его. Давайте добавим немного шума на наш смайлик и применим эту операцию:"
      ]
    },
    {
      "cell_type": "code",
      "source": [
        "!wget https://docs.opencv.org/4.x/j.png -q -O ./input_files/j.png"
      ],
      "metadata": {
        "id": "pyM2r8S3aPg1"
      },
      "execution_count": null,
      "outputs": []
    },
    {
      "cell_type": "code",
      "execution_count": null,
      "metadata": {
        "id": "almNS0jA-1hL"
      },
      "outputs": [],
      "source": [
        "image = cv2.imread('./input_files/j.png', cv2.IMREAD_GRAYSCALE)\n",
        "N = 20  # draw 20 random circles\n",
        "xx = np.random.randint(0, image.shape[1], (N,))\n",
        "yy = np.random.randint(0, image.shape[0], (N,))\n",
        "for x, y in zip(xx, yy):\n",
        "    cv2.circle(image, (x,y), 1, (255, 255, 255), -1)\n",
        "\n",
        "kernel = cv2.getStructuringElement(cv2.MORPH_RECT, (5, 5), anchor=(1, 1))\n",
        "opening = cv2.morphologyEx(image, cv2.MORPH_OPEN, kernel)\n",
        "figure, axes = plt.subplots(ncols=2, nrows=1, figsize=(8, 4))\n",
        "for img, axe in zip([image, opening], axes):\n",
        "    axe.imshow(img, cmap='gray')\n",
        "plt.show()"
      ]
    },
    {
      "cell_type": "markdown",
      "metadata": {
        "id": "HSsaQIPaBreB"
      },
      "source": [
        "Теперь представим, что глаза у смайлика соединены линией, которая нам особо и не нужна. Применим opening и посмотрим на результат:"
      ]
    },
    {
      "cell_type": "code",
      "execution_count": null,
      "metadata": {
        "id": "qabp8RrFB8bf"
      },
      "outputs": [],
      "source": [
        "smile = create_smile()\n",
        "kernel = cv2.getStructuringElement(cv2.MORPH_CROSS, (3, 3))\n",
        "smile[4, 4:11] = 255\n",
        "opening = cv2.morphologyEx(smile, cv2.MORPH_OPEN, kernel)\n",
        "figure, axes = plt.subplots(ncols=2, nrows=1, figsize=(8, 4))\n",
        "for img, subplot in zip([smile, opening], axes):\n",
        "    subplot.imshow(img, cmap='gray')\n",
        "plt.show()"
      ]
    },
    {
      "cell_type": "markdown",
      "metadata": {
        "id": "Dz2fZEyoCmBE"
      },
      "source": [
        "Давайте еще разок посмотрим на результат работы размыкания, но уже на другой фигуре."
      ]
    },
    {
      "cell_type": "code",
      "execution_count": null,
      "metadata": {
        "id": "T_NrD7IGCzXH"
      },
      "outputs": [],
      "source": [
        "image = np.zeros((500, 500), dtype=np.uint8)\n",
        "image = cv2.rectangle(image, (100, 100),(400, 400), 255, -1)\n",
        "\n",
        "plt.figure(figsize=(4, 4))\n",
        "plt.imshow(image, cmap='gray');"
      ]
    },
    {
      "cell_type": "code",
      "execution_count": null,
      "metadata": {
        "id": "H03nfWFnDiz6"
      },
      "outputs": [],
      "source": [
        "kernel = cv2.getStructuringElement(cv2.MORPH_ELLIPSE, (100, 100))\n",
        "opening = cv2.morphologyEx(image, cv2.MORPH_OPEN, kernel)\n",
        "\n",
        "plt.figure(figsize=(4, 4))\n",
        "plt.imshow(opening, cmap='gray');"
      ]
    },
    {
      "cell_type": "markdown",
      "metadata": {
        "id": "HlSkaEFbE48-"
      },
      "source": [
        "## Closing (замыкание)\n",
        "\n",
        "Как вы могли догадаться, замыкание это ни что иное, как применение тех же операций дилатации и эрозии, но уже в другом порядке:"
      ]
    },
    {
      "cell_type": "code",
      "execution_count": null,
      "metadata": {
        "id": "RxZomVnvFPhy"
      },
      "outputs": [],
      "source": [
        "smile = create_smile()\n",
        "kernel = cv2.getStructuringElement(cv2.MORPH_CROSS, (3, 3))\n",
        "closing = cv2.morphologyEx(smile, cv2.MORPH_CLOSE, kernel)\n",
        "figure, axes = plt.subplots(ncols=2, nrows=1, figsize=(8, 4))\n",
        "\n",
        "for img, axe in zip([smile, closing], axes):\n",
        "    axe.imshow(img, cmap='gray')\n",
        "plt.show()"
      ]
    },
    {
      "cell_type": "markdown",
      "metadata": {
        "id": "h9mt0VvfFlDv"
      },
      "source": [
        "Шума такой операцией уже, очевидно, убрать не получится"
      ]
    },
    {
      "cell_type": "code",
      "execution_count": null,
      "metadata": {
        "id": "XD9jrLUGFshA"
      },
      "outputs": [],
      "source": [
        "image = cv2.imread('./input_files/j.png', cv2.IMREAD_GRAYSCALE)\n",
        "N = 20  # draw 20 random circles\n",
        "xx = np.random.randint(0, image.shape[1], (N,))\n",
        "yy = np.random.randint(0, image.shape[0], (N,))\n",
        "for x, y in zip(xx, yy):\n",
        "    cv2.circle(image, (x,y), 1, (255, 255, 255), -1)\n",
        "\n",
        "kernel = cv2.getStructuringElement(cv2.MORPH_RECT, (5, 5), anchor=(1, 1))\n",
        "closing = cv2.morphologyEx(image, cv2.MORPH_CLOSE, kernel)\n",
        "figure, axes = plt.subplots(ncols=2, nrows=1, figsize=(8, 4))\n",
        "for img, axe in zip([image, closing], axes):\n",
        "    axe.imshow(img, cmap='gray')\n",
        "plt.show()"
      ]
    },
    {
      "cell_type": "markdown",
      "metadata": {
        "id": "V6YiUFH1F2a8"
      },
      "source": [
        "Но эта операций отлично подходит для устранения каких-то мелких \"дырок\" внутри объекта на изображении"
      ]
    },
    {
      "cell_type": "code",
      "execution_count": null,
      "metadata": {
        "id": "_-JjuUHjGNyz"
      },
      "outputs": [],
      "source": [
        "image = cv2.imread('./input_files/j.png', cv2.IMREAD_GRAYSCALE)\n",
        "N = 200  # draw 20 random circles\n",
        "xx = np.random.randint(0, image.shape[1], (N,))\n",
        "yy = np.random.randint(0, image.shape[0], (N,))\n",
        "for x, y in zip(xx, yy):\n",
        "    cv2.circle(image, (x,y), 1, (0, 0, 0), -1)\n",
        "\n",
        "kernel = cv2.getStructuringElement(cv2.MORPH_RECT, (5, 5), anchor=(1, 1))\n",
        "closing = cv2.morphologyEx(image, cv2.MORPH_CLOSE, kernel)\n",
        "figure, axes = plt.subplots(ncols=2, nrows=1, figsize=(8, 4))\n",
        "for img, axe in zip([image, closing], axes):\n",
        "    axe.imshow(img, cmap='gray')\n",
        "plt.show()"
      ]
    },
    {
      "cell_type": "markdown",
      "metadata": {
        "id": "zf0UoICDHKMO"
      },
      "source": [
        "Вернемся к квадрату."
      ]
    },
    {
      "cell_type": "code",
      "execution_count": null,
      "metadata": {
        "id": "SOgPCkLzHPEk"
      },
      "outputs": [],
      "source": [
        "image = np.zeros((500, 500), dtype=np.uint8)\n",
        "image = cv2.rectangle(image, (100, 100),(400, 400), 255, -1)\n",
        "\n",
        "plt.figure(figsize=(4, 4))\n",
        "plt.imshow(image, cmap='gray');"
      ]
    },
    {
      "cell_type": "code",
      "execution_count": null,
      "metadata": {
        "id": "2Ph-oXSwHSU-"
      },
      "outputs": [],
      "source": [
        "kernel = cv2.getStructuringElement(cv2.MORPH_ELLIPSE, (100, 100))\n",
        "opening = cv2.morphologyEx(image, cv2.MORPH_CLOSE, kernel)\n",
        "\n",
        "\n",
        "plt.figure(figsize=(4, 4))\n",
        "plt.imshow(opening, cmap='gray');"
      ]
    },
    {
      "cell_type": "markdown",
      "metadata": {
        "id": "zq2o4kHrHf8U"
      },
      "source": [
        "Странно, особо сильно он не изменился. Это не совсем то, чего вы могли ожидать. Давайте немного модифицируем исходный квадрат и добавим разрыв."
      ]
    },
    {
      "cell_type": "code",
      "execution_count": null,
      "metadata": {
        "id": "dOwWge21HrQn"
      },
      "outputs": [],
      "source": [
        "image = np.zeros((500, 500), dtype=np.uint8)\n",
        "image = cv2.rectangle(image, (100, 100),(400, 400), 255, -1)\n",
        "image[:,240:260] = 0\n",
        "\n",
        "plt.figure(figsize=(4, 4))\n",
        "plt.imshow(image, cmap='gray');"
      ]
    },
    {
      "cell_type": "code",
      "execution_count": null,
      "metadata": {
        "id": "RBhZuh0fH2B0"
      },
      "outputs": [],
      "source": [
        "kernel = cv2.getStructuringElement(cv2.MORPH_ELLIPSE, (100, 100))\n",
        "opening = cv2.morphologyEx(image, cv2.MORPH_CLOSE, kernel)\n",
        "\n",
        "\n",
        "plt.figure(figsize=(4, 4))\n",
        "plt.imshow(opening, cmap='gray');"
      ]
    },
    {
      "cell_type": "markdown",
      "metadata": {
        "id": "ehVa_ff5Jbcl"
      },
      "source": [
        "## Упражнение\n",
        "Я хочу научить компьютер играть на фортепиано вместо меня. У меня есть вот такой врагмент нот:\n",
        "<img src=\"https://i.ibb.co/zXPVKFQ/music.png\" width=\"700\" height=\"80\">\n"
      ]
    },
    {
      "cell_type": "markdown",
      "metadata": {
        "id": "BpnPK4TVLLPN"
      },
      "source": [
        "Очевидно, что в данном уроке мы не будем учиться разбираться, где какая нота. Но давайте поможем компьютеру отделить нотный стан от самих нот. Для этого достаточно использовать то, что мы уже изучали с вами на этом уроке."
      ]
    },
    {
      "cell_type": "code",
      "execution_count": null,
      "metadata": {
        "id": "NQo5YNkkJvjR"
      },
      "outputs": [],
      "source": [
        "!mkdir -p input_files & wget https://i.ibb.co/17MgLBP/image.png -q -O ./input_files/music.png"
      ]
    },
    {
      "cell_type": "code",
      "execution_count": null,
      "metadata": {
        "id": "nG0-CwFxLqci"
      },
      "outputs": [],
      "source": [
        "music = cv2.imread('./input_files/music.png')\n",
        "music = cv2.cvtColor(music, cv2.COLOR_BGR2GRAY)\n",
        "plt.figure(figsize=(20, 10))\n",
        "plt.imshow(music, cmap='gray');"
      ]
    },
    {
      "cell_type": "markdown",
      "metadata": {
        "id": "1ObzmKHGMZOF"
      },
      "source": [
        "Здесь напрашивается следующий алгоритм:\n",
        "- Перевести изображение в черно-белое\n",
        "- Инвертировать его\n",
        "- Применить некую морфологическую операцию для выделения горизонтальных линий\n",
        "- Применить некую морфологическую операцию для выделения нот"
      ]
    },
    {
      "cell_type": "code",
      "source": [
        "music = # your binarization\n",
        "plt.figure(figsize=(12, 3))\n",
        "plt.imshow(music, cmap='gray', vmin=0, vmax=255);"
      ],
      "metadata": {
        "id": "ru2qYKdYg9JF"
      },
      "execution_count": null,
      "outputs": []
    },
    {
      "cell_type": "code",
      "source": [
        "kernel = # your kernel\n",
        "notes = cv2.morphologyEx(cv2.bitwise_not(music), cv2.MORPH_OPEN, kernel)\n",
        "kernel = # your kernel\n",
        "stand = cv2.morphologyEx(cv2.bitwise_not(music), cv2.MORPH_OPEN, kernel)"
      ],
      "metadata": {
        "id": "d7Im-SVYh_sq"
      },
      "execution_count": null,
      "outputs": []
    },
    {
      "cell_type": "code",
      "source": [
        "_, axes = plt.subplots(nrows=2, figsize=(12, 4))\n",
        "axes[0].imshow(cv2.bitwise_not(notes), cmap='gray')\n",
        "axes[0].axis('off')\n",
        "axes[1].imshow(cv2.bitwise_not(stand), cmap='gray')\n",
        "axes[1].axis('off')\n",
        "plt.show()"
      ],
      "metadata": {
        "id": "saClnLqUjNZ5"
      },
      "execution_count": null,
      "outputs": []
    },
    {
      "cell_type": "markdown",
      "source": [
        "Результат будет выглядеть примерно так\n",
        "<img src=\"https://i.ibb.co/74kZ6xm/music-res.png\" width=\"700\" width=\"140\">"
      ],
      "metadata": {
        "id": "9f_Lf8TJtun3"
      }
    },
    {
      "cell_type": "code",
      "source": [],
      "metadata": {
        "id": "aXDMa1i4u2ZG"
      },
      "execution_count": null,
      "outputs": []
    }
  ],
  "metadata": {
    "colab": {
      "name": "lesson_2.ipynb",
      "provenance": [],
      "include_colab_link": true
    },
    "kernelspec": {
      "display_name": "Python 3.8.10 64-bit",
      "language": "python",
      "name": "python3"
    },
    "language_info": {
      "codemirror_mode": {
        "name": "ipython",
        "version": 3
      },
      "file_extension": ".py",
      "mimetype": "text/x-python",
      "name": "python",
      "nbconvert_exporter": "python",
      "pygments_lexer": "ipython3",
      "version": "3.10.6"
    },
    "vscode": {
      "interpreter": {
        "hash": "916dbcbb3f70747c44a77c7bcd40155683ae19c65e1c03b4aa3499c5328201f1"
      }
    }
  },
  "nbformat": 4,
  "nbformat_minor": 0
}