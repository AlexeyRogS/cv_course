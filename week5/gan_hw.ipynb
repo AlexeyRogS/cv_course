{
  "cells": [
    {
      "cell_type": "markdown",
      "metadata": {
        "id": "view-in-github",
        "colab_type": "text"
      },
      "source": [
        "<a href=\"https://colab.research.google.com/github/AlexeyRogS/cv_course/blob/main/week5/gan_hw.ipynb\" target=\"_parent\"><img src=\"https://colab.research.google.com/assets/colab-badge.svg\" alt=\"Open In Colab\"/></a>"
      ]
    },
    {
      "cell_type": "markdown",
      "metadata": {
        "id": "tJSkS1KoEVAH"
      },
      "source": [
        "### WGAN\n",
        "\n",
        "* Модифицируйте код ячеек ниже и реализуйте [Wasserstein GAN](https://arxiv.org/abs/1701.07875) с клиппингом весов. (10 баллов)\n",
        "\n",
        "* Замените клиппинг весов на [штраф градентов](https://arxiv.org/pdf/1704.00028v3.pdf). (10 баллов)\n",
        "\n",
        "* Добавьте лейблы в WGAN, тем самым решая задачу [условной генерации](https://arxiv.org/pdf/1411.1784.pdf). (30 баллов)\n",
        "\n",
        "Добавьте в этот файл анализ полученных результатов с различными графиками обучения и визуализацию генерации. Сравните как работает клиппинг весов и штраф градиентов и попробуйте пронаблюдать какие недостатки имеет модель GAN."
      ]
    },
    {
      "cell_type": "code",
      "execution_count": null,
      "metadata": {
        "id": "_PBZhPXoEVAI"
      },
      "outputs": [],
      "source": [
        "import torch\n",
        "import torch.nn as nn\n",
        "import torch.nn.functional as F\n",
        "import torch.optim as optim\n",
        "from torch.utils.data import DataLoader, Dataset\n",
        "\n",
        "import torchvision\n",
        "import matplotlib.pyplot as plt\n",
        "import numpy as np\n",
        "\n",
        "from torch.autograd import Variable"
      ]
    },
    {
      "cell_type": "markdown",
      "metadata": {
        "id": "JA1WUmq7EVAI"
      },
      "source": [
        "### Простой конфиг (для хранения параметров, можете использовать и модифицировать)"
      ]
    },
    {
      "cell_type": "code",
      "execution_count": null,
      "metadata": {
        "id": "6ZOVySNaEVAJ"
      },
      "outputs": [],
      "source": [
        "class Config:\n",
        "    pass\n",
        "\n",
        "config = Config()\n",
        "config.mnist_path = None\n",
        "config.batch_size = 16\n",
        "config.num_workers = 3\n",
        "config.num_epochs = 10\n",
        "config.noise_size = 50\n",
        "config.print_freq = 500"
      ]
    },
    {
      "cell_type": "markdown",
      "metadata": {
        "id": "H4z2spNOEVAJ"
      },
      "source": [
        "### Создаем dataloader"
      ]
    },
    {
      "cell_type": "code",
      "execution_count": null,
      "metadata": {
        "id": "rJQdF3-xEVAJ"
      },
      "outputs": [],
      "source": [
        "train = torchvision.datasets.FashionMNIST(\"fashion_mnist\", train=True, transform=torchvision.transforms.ToTensor(), download=True)"
      ]
    },
    {
      "cell_type": "code",
      "execution_count": null,
      "metadata": {
        "id": "DsFXiFsIEVAJ"
      },
      "outputs": [],
      "source": [
        "dataloader = DataLoader(train, batch_size=16, shuffle=True)\n",
        "len(dataloader)"
      ]
    },
    {
      "cell_type": "code",
      "execution_count": null,
      "metadata": {
        "id": "GXozdEFQEVAJ"
      },
      "outputs": [],
      "source": [
        "image, label = next(iter(dataloader))\n",
        "image.size()"
      ]
    },
    {
      "cell_type": "markdown",
      "metadata": {
        "id": "Ki7mSwhrEVAK"
      },
      "source": [
        "### Создаем модель GAN"
      ]
    },
    {
      "cell_type": "code",
      "execution_count": null,
      "metadata": {
        "id": "diozgmg4EVAK"
      },
      "outputs": [],
      "source": [
        "class Generator(nn.Module):\n",
        "    def __init__(self):\n",
        "        super(Generator, self).__init__()\n",
        "        self.model = nn.Sequential(\n",
        "            nn.Linear(config.noise_size, 200),\n",
        "            nn.ReLU(inplace=True),\n",
        "            nn.Linear(200, 28*28),\n",
        "            nn.Sigmoid())\n",
        "\n",
        "    def forward(self, x):\n",
        "        return self.model(x)\n",
        "\n",
        "class Discriminator(nn.Module):\n",
        "    def __init__(self):\n",
        "        super(Discriminator, self).__init__()\n",
        "        self.model = nn.Sequential(\n",
        "            nn.Linear(28*28, 200),\n",
        "            nn.ReLU(inplace=True),\n",
        "            nn.Linear(200, 50),\n",
        "            nn.ReLU(inplace=True),\n",
        "            nn.Linear(50, 1),\n",
        "            nn.Sigmoid())\n",
        "    def forward(self, x):\n",
        "        return self.model(x)"
      ]
    },
    {
      "cell_type": "code",
      "execution_count": null,
      "metadata": {
        "id": "ZJUbCECuEVAK"
      },
      "outputs": [],
      "source": [
        "generator = Generator()\n",
        "discriminator = Discriminator()"
      ]
    },
    {
      "cell_type": "markdown",
      "metadata": {
        "id": "jUJaHpFbEVAL"
      },
      "source": [
        "### Оптимизатор и функция потерь"
      ]
    },
    {
      "cell_type": "code",
      "execution_count": null,
      "metadata": {
        "id": "VltlxWoyEVAL"
      },
      "outputs": [],
      "source": [
        "device = 'cuda' if torch.cuda.is_available() else 'cpu'\n",
        "generator = generator.to(device)\n",
        "discriminator = discriminator.to(device)\n",
        "optim_G = optim.Adam(params=generator.parameters(), lr=0.0001)\n",
        "optim_D = optim.Adam(params=discriminator.parameters(), lr=0.0001)\n",
        "\n",
        "criterion = nn.BCELoss()"
      ]
    },
    {
      "cell_type": "markdown",
      "metadata": {
        "id": "CRbESDzYEVAL"
      },
      "source": [
        "### Для оптимизации процесса обучения можно заранее определить переменные и заполнять их значения новыми данными"
      ]
    },
    {
      "cell_type": "code",
      "execution_count": null,
      "metadata": {
        "id": "vXAHDeLlEVAL"
      },
      "outputs": [],
      "source": [
        "noise = Variable(torch.FloatTensor(config.batch_size, config.noise_size, device=device))\n",
        "# fixed_noise = Variable(torch.FloatTensor(config.batch_size, config.noise_size, device=device).normal_(0, 1))\n",
        "label = Variable(torch.FloatTensor(config.batch_size, device=device))\n",
        "real_label = 1\n",
        "fake_label = 0"
      ]
    },
    {
      "cell_type": "markdown",
      "metadata": {
        "id": "x3XozpMxEVAL"
      },
      "source": [
        "### GAN обучение"
      ]
    },
    {
      "cell_type": "code",
      "execution_count": null,
      "metadata": {
        "scrolled": true,
        "id": "9W_1xrPXEVAL"
      },
      "outputs": [],
      "source": [
        "ERRD_x = np.zeros(config.num_epochs)\n",
        "ERRD_z = np.zeros(config.num_epochs)\n",
        "ERRG = np.zeros(config.num_epochs)\n",
        "N = len(dataloader)\n",
        "\n",
        "for epoch in range(config.num_epochs):\n",
        "    for iteration, (images, cat) in enumerate(dataloader):\n",
        "        #######\n",
        "        # Discriminator stage: maximize log(D(x)) + log(1 - D(G(z)))\n",
        "        #######\n",
        "        discriminator.zero_grad()\n",
        "\n",
        "        # real\n",
        "        label.data.fill_(real_label)\n",
        "        input_data = images.view(images.shape[0], -1).to(device)\n",
        "        output = discriminator(input_data).view(-1)\n",
        "        errD_x = criterion(output, label)\n",
        "        ERRD_x[epoch] += errD_x.item()\n",
        "        errD_x.backward()\n",
        "\n",
        "        # fake\n",
        "        noise.data.normal_(0, 1)\n",
        "        fake = generator(noise)\n",
        "        label.data.fill_(fake_label)\n",
        "        output = discriminator(fake.detach()).view(-1)\n",
        "        errD_z = criterion(output, label)\n",
        "        ERRD_z[epoch] += errD_z.item()\n",
        "        errD_z.backward()\n",
        "\n",
        "        optim_D.step()\n",
        "\n",
        "        #######\n",
        "        # Generator stage: maximize log(D(G(x))\n",
        "        #######\n",
        "        generator.zero_grad()\n",
        "        label.data.fill_(real_label)\n",
        "        output = discriminator(fake).view(-1)\n",
        "        errG = criterion(output, label)\n",
        "        ERRG[epoch] += errG.item()\n",
        "        errG.backward()\n",
        "\n",
        "        optim_G.step()\n",
        "\n",
        "        if (iteration+1) % config.print_freq == 0:\n",
        "            print('Epoch:{} Iter: {} errD_x: {:.2f} errD_z: {:.2f} errG: {:.2f}'.format(epoch+1,\n",
        "                                                                                            iteration+1,\n",
        "                                                                                            errD_x.item(),\n",
        "                                                                                            errD_z.item(),\n",
        "                                                                                            errG.item()))"
      ]
    },
    {
      "cell_type": "code",
      "execution_count": null,
      "metadata": {
        "id": "Mx7WhHRTEVAL"
      },
      "outputs": [],
      "source": [
        "noise.data.normal_(0, 1)\n",
        "fake = generator(noise)\n",
        "\n",
        "plt.figure(figsize=(6, 7))\n",
        "for i in range(16):\n",
        "    plt.subplot(4, 4, i + 1)\n",
        "    plt.imshow(fake[i].detach().numpy().reshape(28, 28), cmap=plt.cm.Greys_r)\n",
        "    plt.axis('off')"
      ]
    },
    {
      "cell_type": "code",
      "source": [],
      "metadata": {
        "id": "HAjUnTlEF91F"
      },
      "execution_count": null,
      "outputs": []
    }
  ],
  "metadata": {
    "anaconda-cloud": {},
    "kernelspec": {
      "display_name": "Python 3 (ipykernel)",
      "language": "python",
      "name": "python3"
    },
    "language_info": {
      "codemirror_mode": {
        "name": "ipython",
        "version": 3
      },
      "file_extension": ".py",
      "mimetype": "text/x-python",
      "name": "python",
      "nbconvert_exporter": "python",
      "pygments_lexer": "ipython3",
      "version": "3.8.11"
    },
    "colab": {
      "provenance": [],
      "include_colab_link": true
    }
  },
  "nbformat": 4,
  "nbformat_minor": 0
}