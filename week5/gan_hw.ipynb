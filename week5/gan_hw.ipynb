{
  "cells": [
    {
      "cell_type": "markdown",
      "metadata": {
        "id": "h1AphvA7EVAG"
      },
      "source": [
        "<a href=\"https://colab.research.google.com/github/HSE-LAMBDA/MLDM-2022/blob/main/13-GANs/GAN_HW.ipynb\" target=\"_parent\"><img src=\"https://colab.research.google.com/assets/colab-badge.svg\" alt=\"Open In Colab\"/></a>"
      ]
    },
    {
      "cell_type": "markdown",
      "metadata": {
        "id": "tJSkS1KoEVAH"
      },
      "source": [
        "### WGAN\n",
        "\n",
        "* Модифицируйте код ячеек ниже и реализуйте [Wasserstein GAN](https://arxiv.org/abs/1701.07875) с клиппингом весов. (15 баллов)\n",
        "\n",
        "* Замените клиппинг весов на [штраф градентов](https://arxiv.org/pdf/1704.00028v3.pdf). (30 баллов)\n",
        "\n",
        "* Добавьте лейблы в WGAN, тем самым решая задачу [условной генерации](https://arxiv.org/pdf/1411.1784.pdf). (20 баллов)\n",
        "\n",
        "Добавьте в этот файл анализ полученных результатов с различными графиками обучения и визуализацию генерации. Сравните как работает клиппинг весов и штраф градиентов и попробуйте пронаблюдать какие недостатки имеет модель GAN."
      ]
    },
    {
      "cell_type": "code",
      "execution_count": 1,
      "metadata": {
        "id": "_PBZhPXoEVAI"
      },
      "outputs": [],
      "source": [
        "import torch\n",
        "import torch.nn as nn\n",
        "import torch.nn.functional as F\n",
        "import torch.optim as optim\n",
        "from torch.utils.data import DataLoader, Dataset\n",
        "\n",
        "import torchvision\n",
        "import matplotlib.pyplot as plt\n",
        "import numpy as np\n",
        "\n",
        "from torch.autograd import Variable"
      ]
    },
    {
      "cell_type": "markdown",
      "metadata": {
        "id": "JA1WUmq7EVAI"
      },
      "source": [
        "### Простой конфиг (для хранения параметров, можете использовать и модифицировать)"
      ]
    },
    {
      "cell_type": "code",
      "execution_count": 2,
      "metadata": {
        "id": "6ZOVySNaEVAJ"
      },
      "outputs": [],
      "source": [
        "class Config:\n",
        "    pass\n",
        "\n",
        "config = Config()\n",
        "config.mnist_path = None\n",
        "config.batch_size = 16\n",
        "config.num_workers = 3\n",
        "config.num_epochs = 10\n",
        "config.noise_size = 50\n",
        "config.print_freq = 500"
      ]
    },
    {
      "cell_type": "markdown",
      "metadata": {
        "id": "H4z2spNOEVAJ"
      },
      "source": [
        "### Создаем dataloader"
      ]
    },
    {
      "cell_type": "code",
      "execution_count": 3,
      "metadata": {
        "id": "rJQdF3-xEVAJ"
      },
      "outputs": [],
      "source": [
        "train = torchvision.datasets.FashionMNIST(\"fashion_mnist\", train=True, transform=torchvision.transforms.ToTensor(), download=True)"
      ]
    },
    {
      "cell_type": "code",
      "execution_count": 4,
      "metadata": {
        "id": "DsFXiFsIEVAJ",
        "outputId": "a5019cf4-0bf1-407a-c56f-f7ed796d3600",
        "colab": {
          "base_uri": "https://localhost:8080/"
        }
      },
      "outputs": [
        {
          "output_type": "execute_result",
          "data": {
            "text/plain": [
              "3750"
            ]
          },
          "metadata": {},
          "execution_count": 4
        }
      ],
      "source": [
        "dataloader = DataLoader(train, batch_size=16, shuffle=True)\n",
        "len(dataloader)"
      ]
    },
    {
      "cell_type": "code",
      "execution_count": 5,
      "metadata": {
        "id": "GXozdEFQEVAJ",
        "outputId": "383ae2e9-890d-40a0-acf9-8702a8cf93b2",
        "colab": {
          "base_uri": "https://localhost:8080/"
        }
      },
      "outputs": [
        {
          "output_type": "execute_result",
          "data": {
            "text/plain": [
              "torch.Size([16, 1, 28, 28])"
            ]
          },
          "metadata": {},
          "execution_count": 5
        }
      ],
      "source": [
        "image, label = next(iter(dataloader))\n",
        "image.size()"
      ]
    },
    {
      "cell_type": "markdown",
      "metadata": {
        "id": "Ki7mSwhrEVAK"
      },
      "source": [
        "### Создаем модель GAN"
      ]
    },
    {
      "cell_type": "code",
      "execution_count": 6,
      "metadata": {
        "id": "diozgmg4EVAK"
      },
      "outputs": [],
      "source": [
        "class Generator(nn.Module):\n",
        "    def __init__(self):\n",
        "        super(Generator, self).__init__()\n",
        "        self.model = nn.Sequential(\n",
        "            nn.Linear(config.noise_size, 200),\n",
        "            nn.ReLU(inplace=True),\n",
        "            nn.Linear(200, 28*28),\n",
        "            nn.Sigmoid())\n",
        "\n",
        "    def forward(self, x):\n",
        "        return self.model(x)\n",
        "\n",
        "class Discriminator(nn.Module):\n",
        "    def __init__(self):\n",
        "        super(Discriminator, self).__init__()\n",
        "        self.model = nn.Sequential(\n",
        "            nn.Linear(28*28, 200),\n",
        "            nn.ReLU(inplace=True),\n",
        "            nn.Linear(200, 50),\n",
        "            nn.ReLU(inplace=True),\n",
        "            nn.Linear(50, 1),\n",
        "            nn.Sigmoid())\n",
        "    def forward(self, x):\n",
        "        return self.model(x)"
      ]
    },
    {
      "cell_type": "code",
      "execution_count": 7,
      "metadata": {
        "id": "ZJUbCECuEVAK"
      },
      "outputs": [],
      "source": [
        "generator = Generator()\n",
        "discriminator = Discriminator()"
      ]
    },
    {
      "cell_type": "markdown",
      "metadata": {
        "id": "jUJaHpFbEVAL"
      },
      "source": [
        "### Оптимизатор и функция потерь"
      ]
    },
    {
      "cell_type": "code",
      "execution_count": 8,
      "metadata": {
        "id": "VltlxWoyEVAL"
      },
      "outputs": [],
      "source": [
        "device = 'cuda' if torch.cuda.is_available() else 'cpu'\n",
        "generator = generator.to(device)\n",
        "discriminator = discriminator.to(device)\n",
        "optim_G = optim.Adam(params=generator.parameters(), lr=0.0001)\n",
        "optim_D = optim.Adam(params=discriminator.parameters(), lr=0.0001)\n",
        "\n",
        "criterion = nn.BCELoss()"
      ]
    },
    {
      "cell_type": "markdown",
      "metadata": {
        "id": "CRbESDzYEVAL"
      },
      "source": [
        "### Для оптимизации процесса обучения можно заранее определить переменные и заполнять их значения новыми данными"
      ]
    },
    {
      "cell_type": "code",
      "execution_count": 9,
      "metadata": {
        "id": "vXAHDeLlEVAL"
      },
      "outputs": [],
      "source": [
        "noise = Variable(torch.FloatTensor(config.batch_size, config.noise_size, device=device))\n",
        "# fixed_noise = Variable(torch.FloatTensor(config.batch_size, config.noise_size, device=device).normal_(0, 1))\n",
        "label = Variable(torch.FloatTensor(config.batch_size, device=device))\n",
        "real_label = 1\n",
        "fake_label = 0"
      ]
    },
    {
      "cell_type": "markdown",
      "metadata": {
        "id": "x3XozpMxEVAL"
      },
      "source": [
        "### GAN обучение"
      ]
    },
    {
      "cell_type": "code",
      "execution_count": 10,
      "metadata": {
        "scrolled": true,
        "id": "9W_1xrPXEVAL",
        "outputId": "50aee826-f737-402d-ca23-838076774451",
        "colab": {
          "base_uri": "https://localhost:8080/"
        }
      },
      "outputs": [
        {
          "output_type": "stream",
          "name": "stdout",
          "text": [
            "Epoch:1 Iter: 500 errD_x: 0.14 errD_z: 0.07 errG: 2.67\n",
            "Epoch:1 Iter: 1000 errD_x: 0.01 errD_z: 0.13 errG: 2.41\n",
            "Epoch:1 Iter: 1500 errD_x: 0.20 errD_z: 0.14 errG: 2.56\n",
            "Epoch:1 Iter: 2000 errD_x: 0.11 errD_z: 0.18 errG: 2.15\n",
            "Epoch:1 Iter: 2500 errD_x: 0.64 errD_z: 0.13 errG: 2.73\n",
            "Epoch:1 Iter: 3000 errD_x: 0.08 errD_z: 0.12 errG: 3.22\n",
            "Epoch:1 Iter: 3500 errD_x: 0.36 errD_z: 0.06 errG: 3.76\n",
            "Epoch:2 Iter: 500 errD_x: 0.15 errD_z: 0.06 errG: 3.47\n",
            "Epoch:2 Iter: 1000 errD_x: 0.15 errD_z: 0.03 errG: 4.22\n",
            "Epoch:2 Iter: 1500 errD_x: 0.07 errD_z: 0.07 errG: 3.49\n",
            "Epoch:2 Iter: 2000 errD_x: 0.04 errD_z: 0.08 errG: 3.64\n",
            "Epoch:2 Iter: 2500 errD_x: 0.30 errD_z: 0.27 errG: 2.78\n",
            "Epoch:2 Iter: 3000 errD_x: 0.32 errD_z: 0.02 errG: 4.31\n",
            "Epoch:2 Iter: 3500 errD_x: 0.02 errD_z: 0.13 errG: 3.34\n",
            "Epoch:3 Iter: 500 errD_x: 0.07 errD_z: 0.22 errG: 2.53\n",
            "Epoch:3 Iter: 1000 errD_x: 0.17 errD_z: 0.08 errG: 3.10\n",
            "Epoch:3 Iter: 1500 errD_x: 0.07 errD_z: 0.07 errG: 2.96\n",
            "Epoch:3 Iter: 2000 errD_x: 0.10 errD_z: 0.17 errG: 2.49\n",
            "Epoch:3 Iter: 2500 errD_x: 0.22 errD_z: 0.22 errG: 1.74\n",
            "Epoch:3 Iter: 3000 errD_x: 0.11 errD_z: 0.11 errG: 2.76\n",
            "Epoch:3 Iter: 3500 errD_x: 0.18 errD_z: 0.08 errG: 3.09\n",
            "Epoch:4 Iter: 500 errD_x: 0.43 errD_z: 0.06 errG: 2.98\n",
            "Epoch:4 Iter: 1000 errD_x: 0.37 errD_z: 0.12 errG: 2.21\n",
            "Epoch:4 Iter: 1500 errD_x: 0.13 errD_z: 0.29 errG: 2.18\n",
            "Epoch:4 Iter: 2000 errD_x: 0.28 errD_z: 0.12 errG: 2.43\n",
            "Epoch:4 Iter: 2500 errD_x: 0.06 errD_z: 0.94 errG: 1.29\n",
            "Epoch:4 Iter: 3000 errD_x: 0.60 errD_z: 0.18 errG: 2.29\n",
            "Epoch:4 Iter: 3500 errD_x: 0.20 errD_z: 0.03 errG: 3.90\n",
            "Epoch:5 Iter: 500 errD_x: 0.34 errD_z: 0.22 errG: 2.39\n",
            "Epoch:5 Iter: 1000 errD_x: 0.16 errD_z: 0.07 errG: 3.08\n",
            "Epoch:5 Iter: 1500 errD_x: 0.25 errD_z: 0.36 errG: 1.74\n",
            "Epoch:5 Iter: 2000 errD_x: 0.13 errD_z: 0.21 errG: 2.02\n",
            "Epoch:5 Iter: 2500 errD_x: 0.37 errD_z: 0.14 errG: 2.11\n",
            "Epoch:5 Iter: 3000 errD_x: 0.52 errD_z: 0.10 errG: 3.19\n",
            "Epoch:5 Iter: 3500 errD_x: 0.35 errD_z: 0.18 errG: 2.16\n",
            "Epoch:6 Iter: 500 errD_x: 0.78 errD_z: 0.18 errG: 2.21\n",
            "Epoch:6 Iter: 1000 errD_x: 0.51 errD_z: 0.15 errG: 3.16\n",
            "Epoch:6 Iter: 1500 errD_x: 0.48 errD_z: 0.43 errG: 2.31\n",
            "Epoch:6 Iter: 2000 errD_x: 0.40 errD_z: 0.36 errG: 1.64\n",
            "Epoch:6 Iter: 2500 errD_x: 0.26 errD_z: 0.50 errG: 1.75\n",
            "Epoch:6 Iter: 3000 errD_x: 0.23 errD_z: 0.05 errG: 4.54\n",
            "Epoch:6 Iter: 3500 errD_x: 0.38 errD_z: 0.34 errG: 2.20\n",
            "Epoch:7 Iter: 500 errD_x: 0.27 errD_z: 0.25 errG: 1.78\n",
            "Epoch:7 Iter: 1000 errD_x: 0.52 errD_z: 0.19 errG: 2.54\n",
            "Epoch:7 Iter: 1500 errD_x: 0.15 errD_z: 0.20 errG: 3.04\n",
            "Epoch:7 Iter: 2000 errD_x: 0.07 errD_z: 0.30 errG: 2.74\n",
            "Epoch:7 Iter: 2500 errD_x: 0.04 errD_z: 0.18 errG: 2.75\n",
            "Epoch:7 Iter: 3000 errD_x: 0.16 errD_z: 0.08 errG: 3.19\n",
            "Epoch:7 Iter: 3500 errD_x: 0.16 errD_z: 0.19 errG: 2.77\n",
            "Epoch:8 Iter: 500 errD_x: 0.05 errD_z: 0.12 errG: 2.87\n",
            "Epoch:8 Iter: 1000 errD_x: 0.43 errD_z: 0.07 errG: 3.46\n",
            "Epoch:8 Iter: 1500 errD_x: 0.18 errD_z: 0.08 errG: 3.33\n",
            "Epoch:8 Iter: 2000 errD_x: 0.39 errD_z: 0.33 errG: 1.73\n",
            "Epoch:8 Iter: 2500 errD_x: 0.69 errD_z: 0.20 errG: 2.13\n",
            "Epoch:8 Iter: 3000 errD_x: 0.51 errD_z: 0.51 errG: 1.71\n",
            "Epoch:8 Iter: 3500 errD_x: 0.26 errD_z: 0.15 errG: 3.05\n",
            "Epoch:9 Iter: 500 errD_x: 0.37 errD_z: 0.43 errG: 1.72\n",
            "Epoch:9 Iter: 1000 errD_x: 0.29 errD_z: 0.14 errG: 2.30\n",
            "Epoch:9 Iter: 1500 errD_x: 0.23 errD_z: 0.28 errG: 1.55\n",
            "Epoch:9 Iter: 2000 errD_x: 0.18 errD_z: 0.43 errG: 1.77\n",
            "Epoch:9 Iter: 2500 errD_x: 0.78 errD_z: 0.17 errG: 2.18\n",
            "Epoch:9 Iter: 3000 errD_x: 0.88 errD_z: 0.60 errG: 0.99\n",
            "Epoch:9 Iter: 3500 errD_x: 0.16 errD_z: 0.33 errG: 1.67\n",
            "Epoch:10 Iter: 500 errD_x: 0.30 errD_z: 0.18 errG: 2.29\n",
            "Epoch:10 Iter: 1000 errD_x: 1.14 errD_z: 0.12 errG: 2.36\n",
            "Epoch:10 Iter: 1500 errD_x: 0.41 errD_z: 0.27 errG: 1.93\n",
            "Epoch:10 Iter: 2000 errD_x: 0.57 errD_z: 0.23 errG: 2.08\n",
            "Epoch:10 Iter: 2500 errD_x: 0.26 errD_z: 0.25 errG: 1.85\n",
            "Epoch:10 Iter: 3000 errD_x: 0.58 errD_z: 0.29 errG: 1.93\n",
            "Epoch:10 Iter: 3500 errD_x: 0.33 errD_z: 0.24 errG: 1.80\n"
          ]
        }
      ],
      "source": [
        "ERRD_x = np.zeros(config.num_epochs)\n",
        "ERRD_z = np.zeros(config.num_epochs)\n",
        "ERRG = np.zeros(config.num_epochs)\n",
        "N = len(dataloader)\n",
        "\n",
        "for epoch in range(config.num_epochs):\n",
        "    for iteration, (images, cat) in enumerate(dataloader):\n",
        "        #######\n",
        "        # Discriminator stage: maximize log(D(x)) + log(1 - D(G(z)))\n",
        "        #######\n",
        "        discriminator.zero_grad()\n",
        "\n",
        "        # real\n",
        "        label.data.fill_(real_label)\n",
        "        input_data = images.view(images.shape[0], -1).to(device)\n",
        "        output = discriminator(input_data).view(-1)\n",
        "        errD_x = criterion(output, label)\n",
        "        ERRD_x[epoch] += errD_x.item()\n",
        "        errD_x.backward()\n",
        "\n",
        "        # fake\n",
        "        noise.data.normal_(0, 1)\n",
        "        fake = generator(noise)\n",
        "        label.data.fill_(fake_label)\n",
        "        output = discriminator(fake.detach()).view(-1)\n",
        "        errD_z = criterion(output, label)\n",
        "        ERRD_z[epoch] += errD_z.item()\n",
        "        errD_z.backward()\n",
        "\n",
        "        optim_D.step()\n",
        "\n",
        "        #######\n",
        "        # Generator stage: maximize log(D(G(x))\n",
        "        #######\n",
        "        generator.zero_grad()\n",
        "        label.data.fill_(real_label)\n",
        "        output = discriminator(fake).view(-1)\n",
        "        errG = criterion(output, label)\n",
        "        ERRG[epoch] += errG.item()\n",
        "        errG.backward()\n",
        "\n",
        "        optim_G.step()\n",
        "\n",
        "        if (iteration+1) % config.print_freq == 0:\n",
        "            print('Epoch:{} Iter: {} errD_x: {:.2f} errD_z: {:.2f} errG: {:.2f}'.format(epoch+1,\n",
        "                                                                                            iteration+1,\n",
        "                                                                                            errD_x.item(),\n",
        "                                                                                            errD_z.item(),\n",
        "                                                                                            errG.item()))"
      ]
    },
    {
      "cell_type": "code",
      "execution_count": 11,
      "metadata": {
        "id": "Mx7WhHRTEVAL",
        "outputId": "4e4ebfd5-b10e-4365-c403-e04e6cd24d05",
        "colab": {
          "base_uri": "https://localhost:8080/",
          "height": 559
        }
      },
      "outputs": [
        {
          "output_type": "display_data",
          "data": {
            "text/plain": [
              "<Figure size 600x700 with 16 Axes>"
            ],
            "image/png": "[encoded data removed]"
          },
          "metadata": {}
        }
      ],
      "source": [
        "noise.data.normal_(0, 1)\n",
        "fake = generator(noise)\n",
        "\n",
        "plt.figure(figsize=(6, 7))\n",
        "for i in range(16):\n",
        "    plt.subplot(4, 4, i + 1)\n",
        "    plt.imshow(fake[i].detach().numpy().reshape(28, 28), cmap=plt.cm.Greys_r)\n",
        "    plt.axis('off')"
      ]
    },
    {
      "cell_type": "code",
      "source": [],
      "metadata": {
        "id": "HAjUnTlEF91F"
      },
      "execution_count": null,
      "outputs": []
    }
  ],
  "metadata": {
    "anaconda-cloud": {},
    "kernelspec": {
      "display_name": "Python 3 (ipykernel)",
      "language": "python",
      "name": "python3"
    },
    "language_info": {
      "codemirror_mode": {
        "name": "ipython",
        "version": 3
      },
      "file_extension": ".py",
      "mimetype": "text/x-python",
      "name": "python",
      "nbconvert_exporter": "python",
      "pygments_lexer": "ipython3",
      "version": "3.8.11"
    },
    "colab": {
      "provenance": []
    }
  },
  "nbformat": 4,
  "nbformat_minor": 0
}