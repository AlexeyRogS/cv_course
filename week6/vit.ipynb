{
  "nbformat": 4,
  "nbformat_minor": 0,
  "metadata": {
    "colab": {
      "provenance": [],
      "include_colab_link": true
    },
    "kernelspec": {
      "name": "python3",
      "display_name": "Python 3"
    },
    "language_info": {
      "name": "python"
    }
  },
  "cells": [
    {
      "cell_type": "markdown",
      "metadata": {
        "id": "view-in-github",
        "colab_type": "text"
      },
      "source": [
        "<a href=\"https://colab.research.google.com/github/AlexeyRogS/cv_course/blob/week6/week6/vit.ipynb\" target=\"_parent\"><img src=\"https://colab.research.google.com/assets/colab-badge.svg\" alt=\"Open In Colab\"/></a>"
      ]
    },
    {
      "cell_type": "code",
      "execution_count": 1,
      "metadata": {
        "id": "x1USYB3UvvsF"
      },
      "outputs": [],
      "source": [
        "import torch\n",
        "from torch import nn"
      ]
    },
    {
      "cell_type": "markdown",
      "source": [
        "## ViT\n",
        "<img src=\"https://i.ibb.co/3rz7cQP/Screenshot-116.png\" width=\"800\" height=\"350\">\n",
        "\n",
        "* Изображение разбиваем на патчи, каждый патч мапится с помощью линейного слоя (linear projectiont).\n",
        "* Последовательность эмбедингов патчей пропускаем через энкодер трансформера (transformer encoder)\n",
        "* Используем обучаемые позиционные эмбединги, также вводим \"фиктивный\" нулевой патч, на основе которого делаем итоговую классификацию. (positional embedding + class embedding)"
      ],
      "metadata": {
        "id": "pqb_7_SD0xnO"
      }
    },
    {
      "cell_type": "code",
      "source": [
        "class PatchPartitioner(nn.Module):\n",
        "    # this class is used to transform batch of images (B, C, H, W) into\n",
        "    # a batch of sequences of patches embeddings (B, H / k_h * W / k_w, k_h*k_w*C)\n",
        "    def __init__(self, in_h, in_w, out_h, out_w, in_channels, embedding_dim):\n",
        "        super(PatchPartitioner, self).__init__()\n",
        "        assert in_h % out_h == 0 and in_w % out_w == 0 and in_h // out_h == in_w // out_w\n",
        "        k_size = in_h // out_h\n",
        "\n",
        "        # YOUR CODE HERE\n",
        "        self.conv = nn.Conv2d(in_channels, embedding_dim, k_size, stride=k_size)\n",
        "\n",
        "        self.flatten = nn.Flatten(2, 3)\n",
        "\n",
        "    def forward(self, x):\n",
        "        return self.flatten(self.conv(x)).transpose(1, 2)"
      ],
      "metadata": {
        "id": "67K6qy1Zv_2x"
      },
      "execution_count": 16,
      "outputs": []
    },
    {
      "cell_type": "code",
      "source": [
        "pp = PatchPartitioner(in_h=32, in_w=32, out_h=16, out_w=16, in_channels=1, embedding_dim=100)\n",
        "result = pp(torch.zeros((1, 1, 32, 32)))\n",
        "assert result.shape == (1, 16*16, 100)"
      ],
      "metadata": {
        "id": "Px9BemZ7xeCU"
      },
      "execution_count": 17,
      "outputs": []
    },
    {
      "cell_type": "markdown",
      "source": [
        "## MSA (multi head self-attention)"
      ],
      "metadata": {
        "id": "D0FmIoWo0zKA"
      }
    },
    {
      "cell_type": "markdown",
      "source": [
        "<img src=\"https://i.ibb.co/1q04DSF/Screenshot-151.png\" width='150' height='300'>\n",
        "\n",
        "* Энкодер состоит из слоя multi-head attention и mlp. Multi-head attention по сути объединяет вместе несколько простых attention слоев:\\\n",
        "$\\text{MultiHead}(Q, K, V) = \\text{Concat}(head_1,\\dots,head_h)W^O$\\\n",
        "где $head_i = \\text{Attention}(QW_i^Q, KW_i^K, VW_i^V)$\\\n",
        "$\\text{Attention}(Q, K, V) = \\text{Softmax}(\\frac{QK^{T}}{\\sqrt{d_k}})V$\n",
        "\n",
        "* На практике часто (например [тут](https://github.com/microsoft/Swin-Transformer/blob/2cb103f2de145ff43bb9f6fc2ae8800c24ad04c6/models/swin_transformer.py#L132)) multi-head attention сильно упрощается: считается за раз вместе key, query value для всех голов, потом для каждой головы отдельно выполняется только softmax для механизма внимания. Результаты стакаются обратно в вектор нужно размерности.\n",
        "\n",
        "<img src=\"https://i.ibb.co/QPF4VtX/Screenshot-106.png\" width=\"150\" height=\"300\"><img src=\"https://i.ibb.co/rZFfwVg/Screenshot-107.png\" width=\"300\" height=\"300\"><img src=\"https://lena-voita.github.io/resources/lectures/seq2seq/transformer/qkv_for_heads-min.png\" width=\"350\" height=\"300\">"
      ],
      "metadata": {
        "id": "TN4rJEW_6yl4"
      }
    },
    {
      "cell_type": "code",
      "source": [
        "torch.nn.MultiheadAttention?"
      ],
      "metadata": {
        "id": "X_MnvbGhxuOc"
      },
      "execution_count": 18,
      "outputs": []
    },
    {
      "cell_type": "markdown",
      "source": [
        "## MLP"
      ],
      "metadata": {
        "id": "c6Mjt8SV099P"
      }
    },
    {
      "cell_type": "markdown",
      "source": [
        "Обычный перцептрон с нелинейностью (GELU) и дропаутами и нормализациями (layer norm).\n",
        "$\\text{GELU}(x) = x\\cdot \\mathbb{\\Phi}(x)$ где $\\mathbb{\\Phi}$ - CDF нормального распределения."
      ],
      "metadata": {
        "id": "E624vgBp7nML"
      }
    },
    {
      "cell_type": "code",
      "source": [
        "import numpy as np\n",
        "from scipy import stats\n",
        "import matplotlib.pyplot as plt\n",
        "xx = np.linspace(-6, 6, 100)\n",
        "plt.plot(xx, xx * stats.norm.cdf(xx), label='GELU')\n",
        "plt.plot(xx, np.where(xx > 0, xx, 0), label='ReLU')\n",
        "plt.plot(xx, np.where(xx > 0, xx, np.exp(xx) - 1), label='ELU')\n",
        "plt.grid()\n",
        "plt.legend()\n",
        "plt.xlim(-6, 6)\n",
        "plt.ylim(-6, 6);"
      ],
      "metadata": {
        "id": "qVogVjpd9R2A",
        "outputId": "5d1c9270-5540-48a5-fd5b-3fa385db8773",
        "colab": {
          "base_uri": "https://localhost:8080/",
          "height": 435
        }
      },
      "execution_count": 33,
      "outputs": [
        {
          "output_type": "display_data",
          "data": {
            "text/plain": [
              "<Figure size 640x480 with 1 Axes>"
            ],
            "image/png": "[encoded data removed]"
          },
          "metadata": {}
        }
      ]
    },
    {
      "cell_type": "markdown",
      "source": [
        "<img src=\"https://i.ibb.co/0sbtpQN/Screenshot-158.png\" width=\"900\" height=\"300\">\\\n",
        "[Источник](https://openaccess.thecvf.com/content/ICCV2021W/NeurArch/papers/Yao_Leveraging_Batch_Normalization_for_Vision_Transformers_ICCVW_2021_paper.pdf)"
      ],
      "metadata": {
        "id": "PfX2WJvE-4ZG"
      }
    },
    {
      "cell_type": "code",
      "source": [
        "def get_mlp(embedding_dim, hidden_dim, dropout_rate):\n",
        "    return nn.Sequential(\n",
        "        # YOUR CODE HERE: Liner + GELU + Dropout + Linear + Dropout\n",
        "        nn.Linear(embedding_dim, hidden_dim),\n",
        "        nn.GELU(),\n",
        "        nn.Dropout(dropout_rate),\n",
        "        nn.Linear(hidden_dim, embedding_dim),\n",
        "        nn.Dropout(dropout_rate),\n",
        "    )\n",
        "mlp = get_mlp(100, 100*2, 0.1)"
      ],
      "metadata": {
        "id": "e3Pa0dsBzGcu"
      },
      "execution_count": 5,
      "outputs": []
    },
    {
      "cell_type": "code",
      "source": [
        "nn.LayerNorm?"
      ],
      "metadata": {
        "id": "CtagremlzGe4"
      },
      "execution_count": 6,
      "outputs": []
    },
    {
      "cell_type": "markdown",
      "source": [
        "## Стохастическая глубина (stochastic depth)"
      ],
      "metadata": {
        "id": "ZVqDEI9Q0nb6"
      }
    },
    {
      "cell_type": "markdown",
      "source": [
        "<img src=\"https://i.ibb.co/1q04DSF/Screenshot-151.png\" width='150' height='300'>\n",
        "\n",
        "Стохастическая глубина по сути хитрый дропаут. Дело в том, что если мы будем случайно занулять блок внутри трансформера, но оставлять скип коннекшены, то по сути мы будем уменять глубину сети. Таким образом модель обучается более гибко."
      ],
      "metadata": {
        "id": "9lVJo8WX95wI"
      }
    },
    {
      "cell_type": "code",
      "source": [
        "class DropPath(nn.Module):\n",
        "    def __init__(self, drop_prob=None):\n",
        "        super(DropPath, self).__init__()\n",
        "        self.drop_prob = drop_prob\n",
        "\n",
        "    def forward(self, x):\n",
        "        if not self.training:\n",
        "            return x\n",
        "        # YOUR CODE HERE: generate random tenzor, create mask from it and multiply x by the mask. also divide result by 1 - drop_prob\n",
        "        shape = (x.shape[0],) + (1,)*(x.ndim - 1)\n",
        "        mask = (torch.rand(shape) > self.drop_prob).type(x.dtype)\n",
        "        return x * mask / (1 - self.drop_prob)"
      ],
      "metadata": {
        "id": "VRE--cotzGiP"
      },
      "execution_count": 7,
      "outputs": []
    },
    {
      "cell_type": "markdown",
      "source": [
        "## Собираем блок энкодера"
      ],
      "metadata": {
        "id": "Cgcn5Z0r2z82"
      }
    },
    {
      "cell_type": "code",
      "source": [
        "class TransformerEncoder(nn.Module):\n",
        "    def __init__(self, embedding_dim, num_heads, mlp_hidden_dim, dropout=0.1, attention_dropout=0.1, drop_path_rate=0.1):\n",
        "        super().__init__()\n",
        "        self.attention_norm = nn.LayerNorm(embedding_dim)\n",
        "        self.attention = nn.MultiheadAttention(embed_dim=embedding_dim, num_heads=num_heads, dropout=attention_dropout, batch_first=True)\n",
        "        self.attention_dropout = nn.Dropout(dropout)\n",
        "\n",
        "        self.mlp_norm = nn.LayerNorm(embedding_dim)\n",
        "        self.mlp = get_mlp(embedding_dim, mlp_hidden_dim, dropout)\n",
        "        self.drop_path = DropPath(drop_path_rate) if drop_path_rate > 0 else nn.Identity()\n",
        "\n",
        "    def forward(self, x):\n",
        "        x_prime = self.attention_norm(x)\n",
        "        x_prime = self.attention(x_prime, x_prime, x_prime)[0]\n",
        "        x_prime = self.attention_dropout(x_prime)\n",
        "        x = x + self.drop_path(x_prime)\n",
        "\n",
        "        x_prime = self.mlp_norm(x)\n",
        "        x_prime = self.mlp(x_prime)\n",
        "        x = x + self.drop_path(x_prime)\n",
        "        return x"
      ],
      "metadata": {
        "id": "Dm-UsjDE2dBU"
      },
      "execution_count": 8,
      "outputs": []
    },
    {
      "cell_type": "code",
      "source": [
        "result.shape"
      ],
      "metadata": {
        "colab": {
          "base_uri": "https://localhost:8080/"
        },
        "id": "ywXKFhA75L03",
        "outputId": "57a240d2-c841-4a81-9aaf-fe6decd6f354"
      },
      "execution_count": 9,
      "outputs": [
        {
          "output_type": "execute_result",
          "data": {
            "text/plain": [
              "torch.Size([1, 256, 100])"
            ]
          },
          "metadata": {},
          "execution_count": 9
        }
      ]
    },
    {
      "cell_type": "code",
      "source": [
        "enc = TransformerEncoder(embedding_dim=100, num_heads=10, mlp_hidden_dim=200)\n",
        "assert enc(result).shape == result.shape"
      ],
      "metadata": {
        "id": "EdGf2cJd8HW8"
      },
      "execution_count": 10,
      "outputs": []
    },
    {
      "cell_type": "markdown",
      "source": [
        "## Позиционные эмбеддинги"
      ],
      "metadata": {
        "id": "E_DhgJmW8kCF"
      }
    },
    {
      "cell_type": "code",
      "source": [
        "n_patches = 16 * 16\n",
        "embedding_dim = 64\n",
        "\n",
        "# YOUR CODE HERE\n",
        "emb = torch.nn.Parameter(torch.empty((n_patches, embedding_dim)))\n",
        "\n",
        "torch.nn.init.trunc_normal_(emb, std=0.2);"
      ],
      "metadata": {
        "id": "zm9u1B0s8afD"
      },
      "execution_count": 11,
      "outputs": []
    },
    {
      "cell_type": "markdown",
      "source": [
        "## Class emb"
      ],
      "metadata": {
        "id": "5-6Wh_vH92Sz"
      }
    },
    {
      "cell_type": "code",
      "source": [
        "class_emb = torch.nn.Parameter(torch.empty((1, embedding_dim)))\n",
        "torch.nn.init.trunc_normal_(emb, std=0.2);"
      ],
      "metadata": {
        "id": "cMuvDFPn9rng"
      },
      "execution_count": 12,
      "outputs": []
    },
    {
      "cell_type": "markdown",
      "source": [
        "## Собираем все вместе в ViT"
      ],
      "metadata": {
        "id": "oQ7T2nkmUT_F"
      }
    },
    {
      "cell_type": "code",
      "source": [
        "class ViT(nn.Module):\n",
        "    def __init__(self, in_h, in_w, n_patches, in_channels, embedding_dim,\n",
        "                 num_layers, num_heads, mlp_hidden_dim, num_classes=1000,\n",
        "                 dropout=0.1, attention_dropout=0.1, depth_dropout=0.1):\n",
        "        super().__init__()\n",
        "        self.pp = PatchPartitioner(in_h, in_w,\n",
        "                                   int(n_patches**0.5), int(n_patches**0.5),\n",
        "                                   in_channels, embedding_dim\n",
        "                                   )\n",
        "        self.pos_embeddings = torch.nn.Parameter(torch.empty((1, n_patches, embedding_dim)))\n",
        "        torch.nn.init.trunc_normal_(self.pos_embeddings, std=0.2)\n",
        "\n",
        "        self.class_embedding = torch.nn.Parameter(torch.empty((1, 1, embedding_dim)))\n",
        "        torch.nn.init.trunc_normal_(self.class_embedding, std=0.2)\n",
        "\n",
        "        depth_dropout_rates = [x.item() for x in torch.linspace(0, depth_dropout, num_layers)]\n",
        "        self.blocks = nn.Sequential(*[\n",
        "            TransformerEncoder(embedding_dim, num_heads, mlp_hidden_dim, dropout,\n",
        "                               attention_dropout, drop_path_rate)\n",
        "            for drop_path_rate in depth_dropout_rates\n",
        "        ])\n",
        "        self.dropout = nn.Dropout(dropout)\n",
        "        self.norm = nn.LayerNorm(embedding_dim)\n",
        "        self.fc = nn.Linear(embedding_dim, num_classes)\n",
        "\n",
        "    def forward(self, x):\n",
        "        patches = self.pp(x)\n",
        "        patches = patches + self.pos_embeddings\n",
        "\n",
        "        x = torch.cat((self.class_embedding.expand(patches.shape[0], 1, -1), patches), dim=1)\n",
        "        x = self.dropout(x)\n",
        "\n",
        "        for block in self.blocks:\n",
        "            x = block(x)\n",
        "\n",
        "        x = self.norm(x)\n",
        "        return self.fc(x[:,0])"
      ],
      "metadata": {
        "id": "JpPexMp6HCMy"
      },
      "execution_count": 13,
      "outputs": []
    },
    {
      "cell_type": "code",
      "source": [
        "batch = torch.rand((16, 3, 224, 224))\n",
        "vit = ViT(224, 224, 256, 3, 64, 6, 8, 128)\n",
        "vit(batch).shape"
      ],
      "metadata": {
        "colab": {
          "base_uri": "https://localhost:8080/"
        },
        "id": "FZWN-W1GXaJ4",
        "outputId": "bff4db01-eab1-4087-e366-8a5803c1eebd"
      },
      "execution_count": 14,
      "outputs": [
        {
          "output_type": "execute_result",
          "data": {
            "text/plain": [
              "torch.Size([16, 1000])"
            ]
          },
          "metadata": {},
          "execution_count": 14
        }
      ]
    },
    {
      "cell_type": "markdown",
      "source": [
        "# Трюки для обучения"
      ],
      "metadata": {
        "id": "CktC7LZuZkIC"
      }
    },
    {
      "cell_type": "markdown",
      "source": [
        "## Warm-up и расписание"
      ],
      "metadata": {
        "id": "_rBo3ov-ZmhK"
      }
    },
    {
      "cell_type": "markdown",
      "source": [
        "Популярное расписание lr - cosine learning rate:\\\n",
        "$lr(t)= lr_{min} + \\frac{1}{2}(lr_{max}-lr_{min})(1+\\cos{( \\Large\\frac{\\pi t}{T}}))$\n",
        "\n",
        "Плюс часто используется warm-up, который помогает не \"убежать\" быстро в ошибочном направлении. Warm-up это принцип использование в самом начале очень маленького learnin rate и его быстрого увеличения. Далее можно использовать другие расписания."
      ],
      "metadata": {
        "id": "eGMog8kw0_Sd"
      }
    },
    {
      "cell_type": "code",
      "source": [
        "optim = torch.optim.Adam(params=[torch.ones((4, 5))], lr=1e-3)\n",
        "cosine_sch = torch.optim.lr_scheduler.CosineAnnealingLR(optim, 1000, 1e-5)\n",
        "warm_up = torch.optim.lr_scheduler.LinearLR(optim, 1e-3, 1, 50)\n",
        "sch = torch.optim.lr_scheduler.SequentialLR(optim, schedulers=[warm_up, cosine_sch], milestones=[warm_up.total_iters])\n",
        "lr = [sch.get_last_lr()]\n",
        "for t in range(1000):\n",
        "    sch.step()\n",
        "    lr.append(sch.get_last_lr())\n",
        "plt.figure(figsize=(8, 4))\n",
        "plt.plot(lr)\n",
        "plt.show()"
      ],
      "metadata": {
        "id": "1sc76DbcExd3",
        "outputId": "8cd73910-06d1-4039-85f5-42aa4acdad08",
        "colab": {
          "base_uri": "https://localhost:8080/",
          "height": 457
        }
      },
      "execution_count": 76,
      "outputs": [
        {
          "output_type": "stream",
          "name": "stderr",
          "text": [
            "/usr/local/lib/python3.10/dist-packages/torch/optim/lr_scheduler.py:136: UserWarning: Detected call of `lr_scheduler.step()` before `optimizer.step()`. In PyTorch 1.1.0 and later, you should call them in the opposite order: `optimizer.step()` before `lr_scheduler.step()`.  Failure to do this will result in PyTorch skipping the first value of the learning rate schedule. See more details at https://pytorch.org/docs/stable/optim.html#how-to-adjust-learning-rate\n",
            "  warnings.warn(\"Detected call of `lr_scheduler.step()` before `optimizer.step()`. \"\n",
            "/usr/local/lib/python3.10/dist-packages/torch/optim/lr_scheduler.py:149: UserWarning: The epoch parameter in `scheduler.step()` was not necessary and is being deprecated where possible. Please use `scheduler.step()` to step the scheduler. During the deprecation, if epoch is different from None, the closed form is used instead of the new chainable form, where available. Please open an issue if you are unable to replicate your use case: https://github.com/pytorch/pytorch/issues/new/choose.\n",
            "  warnings.warn(EPOCH_DEPRECATION_WARNING, UserWarning)\n"
          ]
        },
        {
          "output_type": "display_data",
          "data": {
            "text/plain": [
              "<Figure size 800x400 with 1 Axes>"
            ],
            "image/png": "[encoded data removed]"
          },
          "metadata": {}
        }
      ]
    },
    {
      "cell_type": "markdown",
      "source": [
        "## Аугментация данных\n",
        "\n",
        "<img src=\"https://i.ibb.co/YypHjMS/Screenshot-159.png\" width=\"900\" height=\"600\">"
      ],
      "metadata": {
        "id": "yH670bQwZsvl"
      }
    },
    {
      "cell_type": "markdown",
      "source": [
        "Для mixup изображение формируется как\\\n",
        "$x = x_1 \\lambda + (1 - \\lambda) \\cdot x_2$\\\n",
        "где $x_1, x_2$ - случайные семплы изображений, $\\lambda$ - случайная величина, в оригинале семпл из бета распределения $\\mathcal{B}(\\alpha, \\alpha)$"
      ],
      "metadata": {
        "id": "Dt_bgZvhOnrK"
      }
    },
    {
      "cell_type": "code",
      "source": [
        "xx = np.linspace(0, 1, 100)\n",
        "plt.plot(xx, stats.beta.pdf(xx, a=1, b=1), label=\"a=1, b=1\")\n",
        "plt.plot(xx, stats.beta.pdf(xx, a=0.2, b=0.2), label=\"a=0.2, b=0.2\")\n",
        "plt.plot(xx, stats.beta.pdf(xx, a=2, b=2), label=\"a=2, b=2\")\n",
        "plt.legend()\n",
        "plt.show()"
      ],
      "metadata": {
        "id": "2W7xPIscZlub",
        "outputId": "9e8104a6-56b0-41b5-ea44-c6d12100e182",
        "colab": {
          "base_uri": "https://localhost:8080/",
          "height": 430
        }
      },
      "execution_count": 89,
      "outputs": [
        {
          "output_type": "display_data",
          "data": {
            "text/plain": [
              "<Figure size 640x480 with 1 Axes>"
            ],
            "image/png": "[encoded data removed]"
          },
          "metadata": {}
        }
      ]
    },
    {
      "cell_type": "code",
      "source": [],
      "metadata": {
        "id": "sz4R6PtQQD-l"
      },
      "execution_count": null,
      "outputs": []
    }
  ]
}