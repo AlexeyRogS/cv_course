{
  "nbformat": 4,
  "nbformat_minor": 0,
  "metadata": {
    "colab": {
      "provenance": [],
      "gpuType": "T4",
      "authorship_tag": "ABX9TyOKk3rlkBu2EEwNcem2g545",
      "include_colab_link": true
    },
    "kernelspec": {
      "name": "python3",
      "display_name": "Python 3"
    },
    "language_info": {
      "name": "python"
    },
    "accelerator": "GPU"
  },
  "cells": [
    {
      "cell_type": "markdown",
      "metadata": {
        "id": "view-in-github",
        "colab_type": "text"
      },
      "source": [
        "<a href=\"https://colab.research.google.com/github/AlexeyRogS/cv_course/blob/main/week4/TrickingCNN.ipynb\" target=\"_parent\"><img src=\"https://colab.research.google.com/assets/colab-badge.svg\" alt=\"Open In Colab\"/></a>"
      ]
    },
    {
      "cell_type": "code",
      "execution_count": null,
      "metadata": {
        "id": "5p4z55PqSSwd"
      },
      "outputs": [],
      "source": [
        "import cv2\n",
        "import torch\n",
        "import numpy as np\n",
        "import matplotlib.pyplot as plt\n",
        "from PIL import Image\n",
        "from torchvision import models, transforms"
      ]
    },
    {
      "cell_type": "code",
      "source": [
        "from torchvision.models._api import WeightsEnum\n",
        "from torch.hub import load_state_dict_from_url\n",
        "\n",
        "def get_state_dict(self, *args, **kwargs):\n",
        "    kwargs.pop(\"check_hash\")\n",
        "    return load_state_dict_from_url(self.url, *args, **kwargs)\n",
        "WeightsEnum.get_state_dict = get_state_dict"
      ],
      "metadata": {
        "id": "sU-uZDB7TudO"
      },
      "execution_count": null,
      "outputs": []
    },
    {
      "cell_type": "code",
      "source": [
        "device = 'cuda' if torch.cuda.is_available() else 'cpu'\n",
        "model = models.efficientnet_b3(weights=models.EfficientNet_B3_Weights.DEFAULT)\n",
        "model = model.to(device)\n",
        "model.eval();"
      ],
      "metadata": {
        "id": "gl4fFsCTTDM4"
      },
      "execution_count": null,
      "outputs": []
    },
    {
      "cell_type": "code",
      "source": [
        "t = transforms.Compose([\n",
        "    transforms.Resize(320, interpolation=transforms.InterpolationMode.BICUBIC),\n",
        "    transforms.CenterCrop(300),\n",
        "    transforms.ToTensor(),\n",
        "    transforms.Normalize([0.485, 0.456, 0.406], [0.229, 0.224, 0.225])\n",
        "    ])"
      ],
      "metadata": {
        "id": "zgz30qXETOrt"
      },
      "execution_count": null,
      "outputs": []
    },
    {
      "cell_type": "code",
      "source": [
        "!wget https://upload.wikimedia.org/wikipedia/commons/thumb/5/56/Donald_Trump_official_portrait.jpg/1200px-Donald_Trump_official_portrait.jpg -O \"img.jpg\"\n",
        "!wget https://raw.githubusercontent.com/anishathalye/imagenet-simple-labels/master/imagenet-simple-labels.json -O \"labels.json\""
      ],
      "metadata": {
        "id": "wY8MiIWpT9zS"
      },
      "execution_count": null,
      "outputs": []
    },
    {
      "cell_type": "code",
      "source": [
        "import json\n",
        "with open(\"labels.json\", 'r') as f:\n",
        "    labels = json.loads(f.read())\n",
        "labels = np.array(labels)\n",
        "labels[:10]"
      ],
      "metadata": {
        "id": "uDRi8fMQXWXH"
      },
      "execution_count": null,
      "outputs": []
    },
    {
      "cell_type": "code",
      "source": [
        "img = cv2.imread(\"img.jpg\")\n",
        "img = cv2.cvtColor(img, cv2.COLOR_BGR2RGB)\n",
        "plt.imshow(img)\n",
        "plt.show()"
      ],
      "metadata": {
        "id": "RMAlf6YBUmRi"
      },
      "execution_count": null,
      "outputs": []
    },
    {
      "cell_type": "code",
      "source": [
        "N = 5\n",
        "x = t(Image.open(\"img.jpg\"))[None,...].to(device)\n",
        "# x = models.EfficientNet_B3_Weights.IMAGENET1K_V1.transforms()(Image.open(\"img.jpg\"))[None,...].to(device)\n",
        "with torch.no_grad():\n",
        "    pred = model(x).cpu().numpy()[0]\n",
        "    pred_ids = np.argsort(pred)[-N:][::-1]\n",
        "labels[pred_ids]"
      ],
      "metadata": {
        "id": "V8uJZl3pXIJs"
      },
      "execution_count": null,
      "outputs": []
    },
    {
      "cell_type": "code",
      "source": [
        "from torch.optim import Adam\n",
        "import torch.nn as nn\n",
        "gt = torch.tensor([97], dtype=torch.long, device=device)\n",
        "x = t(Image.open(\"img.jpg\"))[None,...].to(device)\n",
        "x.requires_grad = True\n",
        "opt = Adam([x], lr=0.001)\n",
        "criterion = nn.CrossEntropyLoss()\n",
        "loss_hist = []\n",
        "for _ in range(100):\n",
        "    pred = model(x)\n",
        "    loss = criterion(pred, gt)\n",
        "    opt.zero_grad()\n",
        "    loss.backward()\n",
        "    opt.step()\n",
        "    loss_hist.append(loss.item())"
      ],
      "metadata": {
        "id": "G_QTq_9Tal38"
      },
      "execution_count": null,
      "outputs": []
    },
    {
      "cell_type": "code",
      "source": [
        "plt.plot(loss_hist)\n",
        "plt.show()"
      ],
      "metadata": {
        "id": "5OngCMabdgPw"
      },
      "execution_count": null,
      "outputs": []
    },
    {
      "cell_type": "code",
      "source": [
        "with torch.no_grad():\n",
        "    pred = model(x).cpu().numpy()[0]\n",
        "    pred_ids = np.argsort(pred)[-N:][::-1]\n",
        "labels[pred_ids]"
      ],
      "metadata": {
        "id": "IZ9RKCZudTZc"
      },
      "execution_count": null,
      "outputs": []
    },
    {
      "cell_type": "code",
      "source": [
        "res_img = np.transpose(x[0].detach().cpu().numpy(), axes=(1, 2, 0)) * [0.229, 0.224, 0.225] + [0.485, 0.456, 0.406]\n",
        "res_img = np.clip(res_img * 255, 0, 255).astype(np.uint8)\n",
        "plt.imshow(res_img)\n",
        "plt.show()"
      ],
      "metadata": {
        "id": "uUqC9GTtdnkE"
      },
      "execution_count": null,
      "outputs": []
    }
  ]
}